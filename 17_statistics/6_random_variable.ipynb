{
 "cells": [
  {
   "cell_type": "markdown",
   "id": "53cf5b54",
   "metadata": {},
   "source": [
    "### Random Variables\n",
    "It generally denoted by x, where  x can have different values, it can have 4, 5, or 40"
   ]
  },
  {
   "cell_type": "markdown",
   "id": "69787b33",
   "metadata": {},
   "source": [
    "### Types of  Random Variable >  Discret random, Continuos Random"
   ]
  },
  {
   "cell_type": "markdown",
   "id": "fb8a56d8",
   "metadata": {},
   "source": [
    "### Example - 1\n",
    "Discrete Random = tossing a coin, Rolling a dice"
   ]
  },
  {
   "cell_type": "markdown",
   "id": "1c7b731e",
   "metadata": {},
   "source": [
    "### Example  - 2\n",
    "Continuos Random = tomorrow how many inches it is going to rain\n",
    "0,1.1, 55, 345"
   ]
  }
 ],
 "metadata": {
  "language_info": {
   "name": "python"
  }
 },
 "nbformat": 4,
 "nbformat_minor": 5
}
