{
 "cells": [
  {
   "cell_type": "code",
   "execution_count": 3,
   "id": "a16d6af4",
   "metadata": {},
   "outputs": [],
   "source": [
    "tp = (1,2,3, \"Raimal\", )"
   ]
  },
  {
   "cell_type": "code",
   "execution_count": 4,
   "id": "2dca9adb",
   "metadata": {},
   "outputs": [
    {
     "name": "stdout",
     "output_type": "stream",
     "text": [
      "1\n",
      "2\n",
      "3\n",
      "Raimal\n"
     ]
    }
   ],
   "source": [
    "for item in tp:\n",
    "    print(item)"
   ]
  },
  {
   "cell_type": "code",
   "execution_count": null,
   "id": "3805f178",
   "metadata": {},
   "outputs": [],
   "source": []
  }
 ],
 "metadata": {
  "kernelspec": {
   "display_name": ".venv",
   "language": "python",
   "name": "python3"
  },
  "language_info": {
   "codemirror_mode": {
    "name": "ipython",
    "version": 3
   },
   "file_extension": ".py",
   "mimetype": "text/x-python",
   "name": "python",
   "nbconvert_exporter": "python",
   "pygments_lexer": "ipython3",
   "version": "3.12.3"
  }
 },
 "nbformat": 4,
 "nbformat_minor": 5
}
