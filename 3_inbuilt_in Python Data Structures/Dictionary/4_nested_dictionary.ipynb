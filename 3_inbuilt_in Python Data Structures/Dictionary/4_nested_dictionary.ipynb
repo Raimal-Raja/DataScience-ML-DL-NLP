{
 "cells": [
  {
   "cell_type": "code",
   "execution_count": 1,
   "id": "602c19ea",
   "metadata": {},
   "outputs": [],
   "source": [
    "# Nested Dictionary\n",
    "students = {\n",
    "    \"student1\": {'f_name': 'Raimal', 'l_name': 'Raja', 'age': 49},\n",
    "    \"student2\": {'f_name': 'Professor', 'l_name': 'cypher', 'age': 20}\n",
    "}"
   ]
  },
  {
   "cell_type": "code",
   "execution_count": 2,
   "id": "1050a948",
   "metadata": {},
   "outputs": [
    {
     "name": "stdout",
     "output_type": "stream",
     "text": [
      "{'student1': {'f_name': 'Raimal', 'l_name': 'Raja', 'age': 49}, 'student2': {'f_name': 'Professor', 'l_name': 'cypher', 'age': 20}}\n"
     ]
    }
   ],
   "source": [
    "print(students)"
   ]
  },
  {
   "cell_type": "code",
   "execution_count": 3,
   "id": "c71f4912",
   "metadata": {},
   "outputs": [
    {
     "name": "stdout",
     "output_type": "stream",
     "text": [
      "Professor\n",
      "Raimal\n"
     ]
    }
   ],
   "source": [
    "## accessing nested dictionaries element\n",
    "print(students['student2']['f_name'])\n",
    "print(students['student1']['f_name'])"
   ]
  },
  {
   "cell_type": "code",
   "execution_count": null,
   "id": "715aaa2e",
   "metadata": {},
   "outputs": [],
   "source": []
  }
 ],
 "metadata": {
  "kernelspec": {
   "display_name": ".venv",
   "language": "python",
   "name": "python3"
  },
  "language_info": {
   "codemirror_mode": {
    "name": "ipython",
    "version": 3
   },
   "file_extension": ".py",
   "mimetype": "text/x-python",
   "name": "python",
   "nbconvert_exporter": "python",
   "pygments_lexer": "ipython3",
   "version": "3.12.3"
  }
 },
 "nbformat": 4,
 "nbformat_minor": 5
}
