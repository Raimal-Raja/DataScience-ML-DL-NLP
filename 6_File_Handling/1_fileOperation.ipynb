{
 "cells": [
  {
   "cell_type": "markdown",
   "id": "8293d125",
   "metadata": {},
   "source": [
    "###  Read a Whole File \n",
    "file handling is a crucial part of any programming language. Python provides built-in functions and methods to read from and write to files, both text and binary. This lesson will conver the basics of file handling, including reading and writing text files and binary files"
   ]
  },
  {
   "cell_type": "code",
   "execution_count": 1,
   "id": "8a3b9f3f",
   "metadata": {},
   "outputs": [
    {
     "name": "stdout",
     "output_type": "stream",
     "text": [
      "Hello! This is Professor Raimal Raja, \n",
      "A cybersecurity expert and Machine Learning Engineer\n"
     ]
    }
   ],
   "source": [
    "## Using .read() method, read enitre file\n",
    "\n",
    "with open('example.txt', 'r') as file:\n",
    "    content = file.read()\n",
    "    print(content)"
   ]
  },
  {
   "cell_type": "code",
   "execution_count": 3,
   "id": "ee7046b6",
   "metadata": {},
   "outputs": [
    {
     "name": "stdout",
     "output_type": "stream",
     "text": [
      "Hello! This is Professor Raimal Raja,\n",
      "A cybersecurity expert and Machine Learning Engineer\n"
     ]
    }
   ],
   "source": [
    "## read file line by line using loop make it iterable\n",
    "with  open('example.txt', 'r') as file:\n",
    "    for line in file:\n",
    "        print(line.strip()) ## .strip() will remove new line character\n"
   ]
  },
  {
   "cell_type": "code",
   "execution_count": null,
   "id": "2790462b",
   "metadata": {},
   "outputs": [],
   "source": [
    "## Writing a file\n",
    "with open('example1.txt', 'w') as file:\n",
    "    str =  \"\"\"\n",
    "Hello Professor\n",
    "are you there?\n",
    "\n",
    "\"\"\"\n",
    "    file.write(str)\n",
    "    file.write(str)\n",
    "    "
   ]
  },
  {
   "cell_type": "code",
   "execution_count": 21,
   "id": "762827e5",
   "metadata": {},
   "outputs": [
    {
     "name": "stdout",
     "output_type": "stream",
     "text": [
      "\n",
      "Hello Professor\n",
      "are you there?\n",
      "\n",
      "\n",
      "Hello Professor\n",
      "are you there?\n",
      "\n"
     ]
    }
   ],
   "source": [
    "file_path =  \"example1.txt\"\n",
    "with open(file_path, 'r') as file:\n",
    "    for line in file:\n",
    "        print(line.strip())"
   ]
  },
  {
   "cell_type": "code",
   "execution_count": null,
   "id": "4c312d3a",
   "metadata": {},
   "outputs": [],
   "source": []
  }
 ],
 "metadata": {
  "kernelspec": {
   "display_name": ".venv",
   "language": "python",
   "name": "python3"
  },
  "language_info": {
   "codemirror_mode": {
    "name": "ipython",
    "version": 3
   },
   "file_extension": ".py",
   "mimetype": "text/x-python",
   "name": "python",
   "nbconvert_exporter": "python",
   "pygments_lexer": "ipython3",
   "version": "3.12.3"
  }
 },
 "nbformat": 4,
 "nbformat_minor": 5
}
