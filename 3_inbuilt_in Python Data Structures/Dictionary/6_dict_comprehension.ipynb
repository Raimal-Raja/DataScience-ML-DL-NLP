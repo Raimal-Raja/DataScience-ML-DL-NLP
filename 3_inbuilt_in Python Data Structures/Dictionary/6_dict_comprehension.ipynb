{
 "cells": [
  {
   "cell_type": "code",
   "execution_count": 4,
   "id": "c6e28d6d",
   "metadata": {},
   "outputs": [
    {
     "name": "stdout",
     "output_type": "stream",
     "text": [
      "{0: 0, 1: 1, 2: 4, 3: 9, 4: 16, 5: 25, 6: 36, 7: 49, 8: 64, 9: 81, 10: 100}\n"
     ]
    }
   ],
   "source": [
    "# example\n",
    "square = {x: x**2 for x in range(11)}\n",
    "print(square)"
   ]
  },
  {
   "cell_type": "code",
   "execution_count": 5,
   "id": "aa9d281a",
   "metadata": {},
   "outputs": [],
   "source": [
    "student =  {\n",
    "    \n",
    "    'first_name': 'Raimal',\n",
    "    'last_name': 'Raja',\n",
    "    'age': 20,\n",
    "    'year': '3rd',\n",
    "    'roll': 49,\n",
    "    'address': 'Badin'\n",
    "    \n",
    "}"
   ]
  },
  {
   "cell_type": "code",
   "execution_count": 8,
   "id": "6e53dc24",
   "metadata": {},
   "outputs": [
    {
     "name": "stdout",
     "output_type": "stream",
     "text": [
      "{'first_name': 'Raimal', 'last_name': 'Raja', 'age': 20, 'year': '3rd', 'roll': 49, 'address': 'Badin'}\n"
     ]
    }
   ],
   "source": [
    "newDict = {key:value for key, value in student.items()}\n",
    "print(newDict)"
   ]
  },
  {
   "cell_type": "code",
   "execution_count": 9,
   "id": "cf0d4f61",
   "metadata": {},
   "outputs": [],
   "source": [
    "# Nested Dictionary\n",
    "students = {\n",
    "    \"student1\": {'f_name': 'Raimal', 'l_name': 'Raja', 'age': 49},\n",
    "    \"student2\": {'f_name': 'Professor', 'l_name': 'cypher', 'age': 20}\n",
    "}"
   ]
  },
  {
   "cell_type": "code",
   "execution_count": 13,
   "id": "e644354c",
   "metadata": {},
   "outputs": [],
   "source": [
    "nestDict = {key: {key:value} for key, value in student.items()}"
   ]
  },
  {
   "cell_type": "code",
   "execution_count": 14,
   "id": "0b5082a2",
   "metadata": {},
   "outputs": [
    {
     "name": "stdout",
     "output_type": "stream",
     "text": [
      "{'first_name': 'Raimal', 'last_name': 'Raja', 'age': 20, 'year': '3rd', 'roll': 49, 'address': 'Badin'}\n"
     ]
    }
   ],
   "source": [
    "print(newDict)"
   ]
  },
  {
   "cell_type": "code",
   "execution_count": 15,
   "id": "430b5867",
   "metadata": {},
   "outputs": [],
   "source": [
    "# conditional dictionary comprehension\n",
    "evens = {x:x**2 for x in range(11) if x%2==0}"
   ]
  },
  {
   "cell_type": "code",
   "execution_count": 16,
   "id": "a5f6f8da",
   "metadata": {},
   "outputs": [
    {
     "name": "stdout",
     "output_type": "stream",
     "text": [
      "{0: 0, 2: 4, 4: 16, 6: 36, 8: 64, 10: 100}\n"
     ]
    }
   ],
   "source": [
    "print(evens)"
   ]
  },
  {
   "cell_type": "code",
   "execution_count": null,
   "id": "2709b7d9",
   "metadata": {},
   "outputs": [],
   "source": []
  }
 ],
 "metadata": {
  "kernelspec": {
   "display_name": ".venv",
   "language": "python",
   "name": "python3"
  },
  "language_info": {
   "codemirror_mode": {
    "name": "ipython",
    "version": 3
   },
   "file_extension": ".py",
   "mimetype": "text/x-python",
   "name": "python",
   "nbconvert_exporter": "python",
   "pygments_lexer": "ipython3",
   "version": "3.12.3"
  }
 },
 "nbformat": 4,
 "nbformat_minor": 5
}
