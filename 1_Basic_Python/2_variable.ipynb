{
 "cells": [
  {
   "cell_type": "markdown",
   "id": "ed0aff90",
   "metadata": {},
   "source": [
    "### Assignment and Declaration of variable"
   ]
  },
  {
   "cell_type": "code",
   "execution_count": 2,
   "id": "1fc98ccb",
   "metadata": {},
   "outputs": [],
   "source": [
    "age = 20\n",
    "name = \"Raimal Raja\"\n",
    "height = 5.5"
   ]
  },
  {
   "cell_type": "code",
   "execution_count": 3,
   "id": "0b5c1a7b",
   "metadata": {},
   "outputs": [
    {
     "name": "stdout",
     "output_type": "stream",
     "text": [
      "Raimal Raja\n",
      "5.5\n",
      "20\n"
     ]
    }
   ],
   "source": [
    "print(name)\n",
    "print(height)\n",
    "print(age)"
   ]
  },
  {
   "cell_type": "markdown",
   "id": "2623050f",
   "metadata": {},
   "source": [
    "### Naming Conventions"
   ]
  },
  {
   "cell_type": "code",
   "execution_count": 4,
   "id": "a3290de4",
   "metadata": {},
   "outputs": [],
   "source": [
    "# variable names should be meaningful, descriptive\n",
    "# they must start with a letter or an _\n",
    "# variables names are case sensitive\n",
    "\n",
    "# valid variable  names\n",
    "first_name = \"Raimal\"\n",
    "last_name = \"Raja\"\n"
   ]
  },
  {
   "cell_type": "markdown",
   "id": "58d615fa",
   "metadata": {},
   "source": [
    "### Python is dynamically typed"
   ]
  },
  {
   "cell_type": "markdown",
   "id": "75dd3144",
   "metadata": {},
   "source": [
    "type of a variable is determined at run time"
   ]
  },
  {
   "cell_type": "markdown",
   "id": "6d4e2bbd",
   "metadata": {},
   "source": [
    "#### type conversion"
   ]
  },
  {
   "cell_type": "code",
   "execution_count": 6,
   "id": "62791da7",
   "metadata": {},
   "outputs": [
    {
     "name": "stdout",
     "output_type": "stream",
     "text": [
      "<class 'int'>\n",
      "<class 'str'>\n"
     ]
    }
   ],
   "source": [
    "age = 20\n",
    "print(type(age))\n",
    "new_age = str(age)\n",
    "print(type(new_age))"
   ]
  },
  {
   "cell_type": "code",
   "execution_count": 7,
   "id": "68bf3d8b",
   "metadata": {},
   "outputs": [
    {
     "data": {
      "text/plain": [
       "20"
      ]
     },
     "execution_count": 7,
     "metadata": {},
     "output_type": "execute_result"
    }
   ],
   "source": [
    "int(age)"
   ]
  },
  {
   "cell_type": "code",
   "execution_count": 8,
   "id": "bcfec6c4",
   "metadata": {},
   "outputs": [
    {
     "data": {
      "text/plain": [
       "int"
      ]
     },
     "execution_count": 8,
     "metadata": {},
     "output_type": "execute_result"
    }
   ],
   "source": [
    "type(age)"
   ]
  },
  {
   "cell_type": "markdown",
   "id": "7ecaaf6f",
   "metadata": {},
   "source": [
    "### Dynamic Typing\n",
    "## Python allows the type of a variable to change as program executes"
   ]
  },
  {
   "cell_type": "code",
   "execution_count": 10,
   "id": "308daa8c",
   "metadata": {},
   "outputs": [
    {
     "name": "stdout",
     "output_type": "stream",
     "text": [
      "10 <class 'int'>\n",
      "hello <class 'str'>\n"
     ]
    }
   ],
   "source": [
    "var = 10\n",
    "print(var,type(var))\n",
    "\n",
    "var = \"hello\"\n",
    "print(var,type(var))"
   ]
  },
  {
   "cell_type": "markdown",
   "id": "3a5c3d9b",
   "metadata": {},
   "source": [
    "### input"
   ]
  },
  {
   "cell_type": "code",
   "execution_count": 12,
   "id": "e6c00aaa",
   "metadata": {},
   "outputs": [
    {
     "name": "stdout",
     "output_type": "stream",
     "text": [
      "23 <class 'str'>\n",
      "23 <class 'int'>\n"
     ]
    }
   ],
   "source": [
    "age = input(\"Enter age: \")\n",
    "print(age, type(age))\n",
    "\n",
    "age = int(input(\"Enter age: \"))\n",
    "print(age, type(age))\n"
   ]
  },
  {
   "cell_type": "code",
   "execution_count": null,
   "id": "558763b6",
   "metadata": {},
   "outputs": [],
   "source": []
  }
 ],
 "metadata": {
  "kernelspec": {
   "display_name": ".venv",
   "language": "python",
   "name": "python3"
  },
  "language_info": {
   "codemirror_mode": {
    "name": "ipython",
    "version": 3
   },
   "file_extension": ".py",
   "mimetype": "text/x-python",
   "name": "python",
   "nbconvert_exporter": "python",
   "pygments_lexer": "ipython3",
   "version": "3.12.3"
  }
 },
 "nbformat": 4,
 "nbformat_minor": 5
}
