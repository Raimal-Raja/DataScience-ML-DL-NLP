{
 "cells": [
  {
   "cell_type": "markdown",
   "id": "ed0aff90",
   "metadata": {},
   "source": [
    "### Assignment and Declaration of variable"
   ]
  },
  {
   "cell_type": "code",
   "execution_count": 2,
   "id": "1fc98ccb",
   "metadata": {},
   "outputs": [],
   "source": [
    "age = 20\n",
    "name = \"Raimal Raja\"\n",
    "height = 5.5"
   ]
  },
  {
   "cell_type": "code",
   "execution_count": 3,
   "id": "0b5c1a7b",
   "metadata": {},
   "outputs": [
    {
     "name": "stdout",
     "output_type": "stream",
     "text": [
      "Raimal Raja\n",
      "5.5\n",
      "20\n"
     ]
    }
   ],
   "source": [
    "print(name)\n",
    "print(height)\n",
    "print(age)"
   ]
  },
  {
   "cell_type": "markdown",
   "id": "2623050f",
   "metadata": {},
   "source": [
    "### Naming Conventions"
   ]
  },
  {
   "cell_type": "code",
   "execution_count": 4,
   "id": "a3290de4",
   "metadata": {},
   "outputs": [],
   "source": [
    "# variable names should be meaningful, descriptive\n",
    "# they must start with a letter or an _\n",
    "# variables names are case sensitive\n",
    "\n",
    "# valid variable  names\n",
    "first_name = \"Raimal\"\n",
    "last_name = \"Raja\"\n"
   ]
  },
  {
   "cell_type": "markdown",
   "id": "58d615fa",
   "metadata": {},
   "source": [
    "### Python is dynamically typed"
   ]
  },
  {
   "cell_type": "markdown",
   "id": "75dd3144",
   "metadata": {},
   "source": [
    "type of a variable is determined at run time"
   ]
  },
  {
   "cell_type": "markdown",
   "id": "6d4e2bbd",
   "metadata": {},
   "source": [
    "#### type conversion"
   ]
  },
  {
   "cell_type": "code",
   "execution_count": 6,
   "id": "62791da7",
   "metadata": {},
   "outputs": [
    {
     "name": "stdout",
     "output_type": "stream",
     "text": [
      "<class 'int'>\n",
      "<class 'str'>\n"
     ]
    }
   ],
   "source": [
    "age = 20\n",
    "print(type(age))\n",
    "new_age = str(age)\n",
    "print(type(new_age))"
   ]
  },
  {
   "cell_type": "code",
   "execution_count": 7,
   "id": "68bf3d8b",
   "metadata": {},
   "outputs": [
    {
     "data": {
      "text/plain": [
       "20"
      ]
     },
     "execution_count": 7,
     "metadata": {},
     "output_type": "execute_result"
    }
   ],
   "source": [
    "int(age)"
   ]
  },
  {
   "cell_type": "code",
   "execution_count": 8,
   "id": "bcfec6c4",
   "metadata": {},
   "outputs": [
    {
     "data": {
      "text/plain": [
       "int"
      ]
     },
     "execution_count": 8,
     "metadata": {},
     "output_type": "execute_result"
    }
   ],
   "source": [
    "type(age)"
   ]
  }
 ],
 "metadata": {
  "kernelspec": {
   "display_name": ".venv",
   "language": "python",
   "name": "python3"
  },
  "language_info": {
   "codemirror_mode": {
    "name": "ipython",
    "version": 3
   },
   "file_extension": ".py",
   "mimetype": "text/x-python",
   "name": "python",
   "nbconvert_exporter": "python",
   "pygments_lexer": "ipython3",
   "version": "3.12.3"
  }
 },
 "nbformat": 4,
 "nbformat_minor": 5
}
