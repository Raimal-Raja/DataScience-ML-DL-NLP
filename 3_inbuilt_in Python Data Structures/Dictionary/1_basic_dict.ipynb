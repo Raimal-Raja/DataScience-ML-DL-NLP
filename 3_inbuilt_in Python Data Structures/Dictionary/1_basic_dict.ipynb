{
 "cells": [
  {
   "cell_type": "markdown",
   "id": "7cfd6a45",
   "metadata": {},
   "source": [
    "### Dictionary\n",
    "Dictionary are unordered collections of items.They store data in key-values pair. keys must be unique and immutable  (e.g numbers, string, or tuple), while values can be of any type\n"
   ]
  },
  {
   "cell_type": "code",
   "execution_count": 1,
   "id": "c6472c9e",
   "metadata": {},
   "outputs": [
    {
     "name": "stdout",
     "output_type": "stream",
     "text": [
      "<class 'dict'>\n"
     ]
    }
   ],
   "source": [
    "## create Dictionaries\n",
    "empty_dict = {}\n",
    "print(type(empty_dict))"
   ]
  },
  {
   "cell_type": "code",
   "execution_count": 2,
   "id": "38f0e336",
   "metadata": {},
   "outputs": [
    {
     "data": {
      "text/plain": [
       "dict"
      ]
     },
     "execution_count": 2,
     "metadata": {},
     "output_type": "execute_result"
    }
   ],
   "source": [
    "empty_dict = dict()\n",
    "type(empty_dict)"
   ]
  },
  {
   "cell_type": "code",
   "execution_count": 3,
   "id": "9ec9a0fc",
   "metadata": {},
   "outputs": [
    {
     "name": "stdout",
     "output_type": "stream",
     "text": [
      "{'name': 'Raimal', 'last_name': 'Raja', 'Roll': 49} <class 'dict'>\n"
     ]
    }
   ],
   "source": [
    "student = {\n",
    "    'name':\"Raimal\",\n",
    "    'last_name': \"Raja\",\n",
    "    'Roll': 49\n",
    "}\n",
    "print(student,type(student))"
   ]
  },
  {
   "cell_type": "code",
   "execution_count": 5,
   "id": "7b815e99",
   "metadata": {},
   "outputs": [
    {
     "name": "stdout",
     "output_type": "stream",
     "text": [
      "{'first_name': 49, 'last_name': 'Raja', 'age': 20}\n"
     ]
    }
   ],
   "source": [
    "# Error\n",
    "student = {'first_name': \"Raimal\",\n",
    "           'last_name': \"Raja\",\n",
    "           'age':20,\n",
    "           \"first_name\": 49}\n",
    "print(student)"
   ]
  },
  {
   "cell_type": "code",
   "execution_count": 7,
   "id": "e2158c72",
   "metadata": {},
   "outputs": [
    {
     "name": "stdout",
     "output_type": "stream",
     "text": [
      "20\n"
     ]
    }
   ],
   "source": [
    "# accesing dictionary elements\n",
    "print(student['age'])"
   ]
  },
  {
   "cell_type": "code",
   "execution_count": 8,
   "id": "dac7fccf",
   "metadata": {},
   "outputs": [
    {
     "name": "stdout",
     "output_type": "stream",
     "text": [
      "20\n"
     ]
    }
   ],
   "source": [
    "print(student.get('age'))"
   ]
  },
  {
   "cell_type": "code",
   "execution_count": 9,
   "id": "2f80e76a",
   "metadata": {},
   "outputs": [
    {
     "name": "stdout",
     "output_type": "stream",
     "text": [
      "None\n"
     ]
    }
   ],
   "source": [
    "print(student.get('grade'))"
   ]
  },
  {
   "cell_type": "code",
   "execution_count": 10,
   "id": "c04d5a50",
   "metadata": {},
   "outputs": [
    {
     "name": "stdout",
     "output_type": "stream",
     "text": [
      "Not available\n"
     ]
    }
   ],
   "source": [
    "print(student.get('last-name', 'Not available'))"
   ]
  },
  {
   "cell_type": "code",
   "execution_count": null,
   "id": "c9a0d77b",
   "metadata": {},
   "outputs": [],
   "source": []
  }
 ],
 "metadata": {
  "kernelspec": {
   "display_name": ".venv",
   "language": "python",
   "name": "python3"
  },
  "language_info": {
   "codemirror_mode": {
    "name": "ipython",
    "version": 3
   },
   "file_extension": ".py",
   "mimetype": "text/x-python",
   "name": "python",
   "nbconvert_exporter": "python",
   "pygments_lexer": "ipython3",
   "version": "3.12.3"
  }
 },
 "nbformat": 4,
 "nbformat_minor": 5
}
