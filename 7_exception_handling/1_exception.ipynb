{
 "cells": [
  {
   "cell_type": "markdown",
   "id": "cd24c125",
   "metadata": {},
   "source": [
    "### Understanding Exceptions\n",
    "Exception handling in python allows you to handle errors gracefully and take corrective action without stopping the execution of the program. This  lesson will cover the basics of exceptions, including how to use \"try, except, and finally\" blocks"
   ]
  },
  {
   "cell_type": "markdown",
   "id": "62e8b927",
   "metadata": {},
   "source": [
    "### What are Exceptions?\n",
    "Exceptions are events that distrupt the normal flow of a program. They occur when an error is encountered during program execution. common  exceptions include:\n",
    "\n",
    "* ZeroDivisionError: dividing by zero.\n",
    "* FiileNotFoundError: file not found\n",
    "* ValueError: invalid value.\n",
    "* TypeErro: invalid type\n",
    "    "
   ]
  },
  {
   "cell_type": "code",
   "execution_count": 25,
   "id": "b7c1fb3d",
   "metadata": {},
   "outputs": [
    {
     "name": "stdout",
     "output_type": "stream",
     "text": [
      "there is error in assigning a to b\n"
     ]
    }
   ],
   "source": [
    "a = 4\n",
    "try:\n",
    "    a=b\n",
    "except:\n",
    "    print(\"there is error in assigning a to b\")"
   ]
  },
  {
   "cell_type": "code",
   "execution_count": 26,
   "id": "79129720",
   "metadata": {},
   "outputs": [
    {
     "name": "stdout",
     "output_type": "stream",
     "text": [
      "there is error in assigning a to b, Error: name 'b' is not defined\n"
     ]
    }
   ],
   "source": [
    "## raise type of error\n",
    "a = 4\n",
    "try:\n",
    "    a=b\n",
    "except NameError as e:\n",
    "    print(f\"there is error in assigning a to b, Error: {e}\")"
   ]
  },
  {
   "cell_type": "code",
   "execution_count": 27,
   "id": "d41e0278",
   "metadata": {},
   "outputs": [
    {
     "name": "stdout",
     "output_type": "stream",
     "text": [
      "division by zero\n",
      "Please  enter the denominator greater than 0\n"
     ]
    }
   ],
   "source": [
    "## ZeroDivisonError\n",
    "try:\n",
    "    result =1/0\n",
    "    \n",
    "except ZeroDivisionError as e:\n",
    "    print(e)\n",
    "    print(\"Please  enter the denominator greater than 0\")\n",
    "\n"
   ]
  },
  {
   "cell_type": "code",
   "execution_count": 31,
   "id": "3fd19cb6",
   "metadata": {},
   "outputs": [
    {
     "name": "stdout",
     "output_type": "stream",
     "text": [
      "name 'b' is not defined\n"
     ]
    }
   ],
   "source": [
    "## exception from main class\n",
    "try:\n",
    "    result = 1/2\n",
    "    a= b\n",
    "    \n",
    "except NameError as ex:\n",
    "    print(ex)\n",
    "except Exception as e: ## this is main parent class of exception, it can handling any kind oof exception\n",
    "    print(\"Main exception got here\")\n",
    "    print(e)"
   ]
  },
  {
   "cell_type": "code",
   "execution_count": 37,
   "id": "386abb61",
   "metadata": {},
   "outputs": [
    {
     "name": "stdout",
     "output_type": "stream",
     "text": [
      "This is not a valid number\n"
     ]
    }
   ],
   "source": [
    "try:\n",
    "    num = int(input('Enter a number: '))\n",
    "    result = 10/num\n",
    "except ValueError:\n",
    "    print(\"This is not a valid number\")\n",
    "except ZeroDivisionError:\n",
    "    print(\"Enter denominator greater than 0\")\n",
    "except Exception as e:\n",
    "    print(e)"
   ]
  },
  {
   "cell_type": "code",
   "execution_count": null,
   "id": "494727e8",
   "metadata": {},
   "outputs": [
    {
     "name": "stdout",
     "output_type": "stream",
     "text": [
      "The result 0.8333333333333334\n"
     ]
    }
   ],
   "source": [
    "## Try, except, else Block\n",
    "try:\n",
    "    num = int(input('Enter an nummber: '))\n",
    "    result = 10/num\n",
    "except ValueError:\n",
    "    print(\"That's not a valid number\")\n",
    "\n",
    "except Exception as e:\n",
    "    print(x)\n",
    "\n",
    "else:\n",
    "    print(f'The result {result}') # this will definately executed if above except block did'nt"
   ]
  },
  {
   "cell_type": "code",
   "execution_count": null,
   "id": "79850e62",
   "metadata": {},
   "outputs": [],
   "source": []
  }
 ],
 "metadata": {
  "kernelspec": {
   "display_name": ".venv",
   "language": "python",
   "name": "python3"
  },
  "language_info": {
   "codemirror_mode": {
    "name": "ipython",
    "version": 3
   },
   "file_extension": ".py",
   "mimetype": "text/x-python",
   "name": "python",
   "nbconvert_exporter": "python",
   "pygments_lexer": "ipython3",
   "version": "3.12.3"
  }
 },
 "nbformat": 4,
 "nbformat_minor": 5
}
