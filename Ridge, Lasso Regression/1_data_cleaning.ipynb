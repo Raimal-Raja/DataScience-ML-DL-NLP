{
 "cells": [
  {
   "cell_type": "markdown",
   "id": "cef92867",
   "metadata": {},
   "source": [
    "### Algerian forest fires Dataset\n",
    "data set information:\n",
    "the dataset  includes  244 instance that  regroup a data of two regions of Algeria, namely the bejaia  region located in the northest of ALgeria and the sidi  bel-abbes locatedd in the northwest of Algeria.\n",
    "\n",
    "122 instance for each region\n",
    "\n",
    "the period from june 2012 to september 2012. the dataset  includes 11 attributes and 1 output attribute (class) the 244 instance have been classified into fire (138 classes) and not fire (106 classes) classes."
   ]
  }
 ],
 "metadata": {
  "language_info": {
   "name": "python"
  }
 },
 "nbformat": 4,
 "nbformat_minor": 5
}
