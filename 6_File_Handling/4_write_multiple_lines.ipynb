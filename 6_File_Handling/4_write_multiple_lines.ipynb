{
 "cells": [
  {
   "cell_type": "markdown",
   "id": "ee86e331",
   "metadata": {},
   "source": [
    "### Writing list of lines to a file"
   ]
  },
  {
   "cell_type": "code",
   "execution_count": 2,
   "id": "7dca19e8",
   "metadata": {},
   "outputs": [],
   "source": [
    "lines = ['Hello Professor\\nHow are you\\nAre you there?']\n",
    "\n",
    "with open('example2.txt', 'a') as file:\n",
    "    file.writelines(lines)"
   ]
  },
  {
   "cell_type": "code",
   "execution_count": 3,
   "id": "33b51438",
   "metadata": {},
   "outputs": [
    {
     "name": "stdout",
     "output_type": "stream",
     "text": [
      "Hello Professor\n",
      "How are you\n",
      "Are you there?\n"
     ]
    }
   ],
   "source": [
    "with open('example2.txt', 'r') as file:\n",
    "    content = file.read()\n",
    "    print(content)"
   ]
  }
 ],
 "metadata": {
  "kernelspec": {
   "display_name": ".venv",
   "language": "python",
   "name": "python3"
  },
  "language_info": {
   "codemirror_mode": {
    "name": "ipython",
    "version": 3
   },
   "file_extension": ".py",
   "mimetype": "text/x-python",
   "name": "python",
   "nbconvert_exporter": "python",
   "pygments_lexer": "ipython3",
   "version": "3.12.3"
  }
 },
 "nbformat": 4,
 "nbformat_minor": 5
}
