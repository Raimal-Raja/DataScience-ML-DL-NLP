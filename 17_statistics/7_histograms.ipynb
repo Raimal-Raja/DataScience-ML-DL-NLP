{
 "cells": [
  {
   "cell_type": "markdown",
   "id": "f7c1e153",
   "metadata": {},
   "source": [
    "### Histogram \n",
    "Histogram gives us frequency of perticular distribution\n",
    "in the form  of building"
   ]
  }
 ],
 "metadata": {
  "language_info": {
   "name": "python"
  }
 },
 "nbformat": 4,
 "nbformat_minor": 5
}
