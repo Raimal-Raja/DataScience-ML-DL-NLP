{
 "cells": [
  {
   "cell_type": "markdown",
   "id": "6fadca85",
   "metadata": {},
   "source": [
    "### Python Logging\n",
    "Logging is a crucial aspect of any application, providing a way to tract events, error, and operational information. Python's builts-in logging module offers a flexible framework for emitting log messages from python programs. in this lesson, we will cover the basic of logging, including how to configure logging, log levels and best practices for using logging in python applications"
   ]
  },
  {
   "cell_type": "code",
   "execution_count": 1,
   "id": "9b753ead",
   "metadata": {},
   "outputs": [
    {
     "name": "stderr",
     "output_type": "stream",
     "text": [
      "DEBUG:root:This is debug message\n",
      "INFO:root:This is info message\n",
      "WARNING:root:This is warning message\n",
      "ERROR:root:This is error message\n",
      "CRITICAL:root:This is critical message\n"
     ]
    }
   ],
   "source": [
    "import logging\n",
    "\n",
    "## configure the basic logging setting\n",
    "logging.basicConfig(level=logging.DEBUG)\n",
    "\n",
    "\n",
    "## log messages\n",
    "logging.debug('This is debug message')\n",
    "logging.info('This is info message')\n",
    "logging.warning('This is warning message')\n",
    "logging.error('This is error message')\n",
    "logging.critical('This is critical message')\n"
   ]
  },
  {
   "cell_type": "code",
   "execution_count": 2,
   "id": "787ef431",
   "metadata": {},
   "outputs": [
    {
     "name": "stderr",
     "output_type": "stream",
     "text": [
      "DEBUG:root:This is debug message\n",
      "INFO:root:This is info message\n",
      "WARNING:root:This is warning message\n",
      "ERROR:root:This is error message\n",
      "CRITICAL:root:This is critical message\n"
     ]
    }
   ],
   "source": [
    "## configuring logging\n",
    "logging.basicConfig(\n",
    "    filemode='w',\n",
    "    filename='app.log',\n",
    "    level=logging.DEBUG,\n",
    "    format='%(asctime)s-%(name)s-%(levelname)s-%(message)s',\n",
    "    datefmt='%Y-%m-%d %H:%M: %S')\n",
    "\n",
    "\n",
    "logging.debug('This is debug message')\n",
    "logging.info('This is info message')\n",
    "logging.warning('This is warning message')\n",
    "logging.error('This is error message')\n",
    "logging.critical('This is critical message')"
   ]
  },
  {
   "cell_type": "code",
   "execution_count": null,
   "id": "b206000c",
   "metadata": {},
   "outputs": [],
   "source": []
  }
 ],
 "metadata": {
  "kernelspec": {
   "display_name": ".venv",
   "language": "python",
   "name": "python3"
  },
  "language_info": {
   "codemirror_mode": {
    "name": "ipython",
    "version": 3
   },
   "file_extension": ".py",
   "mimetype": "text/x-python",
   "name": "python",
   "nbconvert_exporter": "python",
   "pygments_lexer": "ipython3",
   "version": "3.12.3"
  }
 },
 "nbformat": 4,
 "nbformat_minor": 5
}
