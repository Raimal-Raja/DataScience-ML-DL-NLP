{
 "cells": [
  {
   "cell_type": "markdown",
   "id": "94c0c08c",
   "metadata": {},
   "source": [
    "### Read the content from a source text file and wrie to a destination text file"
   ]
  },
  {
   "cell_type": "code",
   "execution_count": 3,
   "id": "1405d8f6",
   "metadata": {},
   "outputs": [],
   "source": [
    "with open('example2.txt', 'r') as source_file:\n",
    "    content = source_file.read()\n",
    "    \n",
    "with open('destination.txt', 'w') as destination_file:\n",
    "    destination_file.write(content)"
   ]
  },
  {
   "cell_type": "markdown",
   "id": "549b598b",
   "metadata": {},
   "source": [
    "### Read a text file and count the number of lines, words, and characters"
   ]
  },
  {
   "cell_type": "code",
   "execution_count": 6,
   "id": "62c1ca28",
   "metadata": {},
   "outputs": [
    {
     "name": "stdout",
     "output_type": "stream",
     "text": [
      "15\n"
     ]
    }
   ],
   "source": [
    "def count_text_file(file_path):\n",
    "    with open(file_path, 'r') as file:\n",
    "        content = file.read().split(' ')\n",
    "        count = 0\n",
    "        for word in content:\n",
    "            count+=1\n",
    "        return count\n",
    "\n",
    "file_path = 'example.txt'\n",
    "print(count_text_file(file_path))"
   ]
  },
  {
   "cell_type": "code",
   "execution_count": 10,
   "id": "b130d75c",
   "metadata": {},
   "outputs": [
    {
     "name": "stdout",
     "output_type": "stream",
     "text": [
      "lines :3, word: 16, Character: 106\n"
     ]
    }
   ],
   "source": [
    "def count_text_file(file_path):\n",
    "    with open(file_path) as file:\n",
    "        lines = file.readlines()\n",
    "        line_count = len(lines)\n",
    "        word_count =  sum(len(line.split()) for line in lines)\n",
    "        char_count = sum(len(line) for line in lines)\n",
    "    return line_count, word_count, char_count\n",
    "file_path = 'example.txt'\n",
    "lines, word, characters = count_text_file(file_path)\n",
    "print(f'lines :{lines}, word: {word}, Character: {characters}')\n"
   ]
  },
  {
   "cell_type": "markdown",
   "id": "1fe6268d",
   "metadata": {},
   "source": [
    "### Read and write file\n",
    "The w+ mode in Python is used to open a file for both reading and writing, if the file does'nt exist, it will be created. If the file exist, it's content is truncated (i.e the file is overwritten)"
   ]
  },
  {
   "cell_type": "code",
   "execution_count": 12,
   "id": "54074b3d",
   "metadata": {},
   "outputs": [
    {
     "name": "stdout",
     "output_type": "stream",
     "text": [
      "Hello world\n",
      "Weclome Python Course\n"
     ]
    }
   ],
   "source": [
    "with open('example', 'w+') as file:\n",
    "    file.write(\"Hello world\\n\")\n",
    "    file.write(\"Weclome Python Course\")\n",
    "    \n",
    "    ## Move the file cursor to the beginning\n",
    "    file.seek(0)\n",
    "    \n",
    "    ## read the content of the file\n",
    "    content = file.read()\n",
    "    print(content)\n",
    "    "
   ]
  },
  {
   "cell_type": "code",
   "execution_count": null,
   "id": "3587dd9f",
   "metadata": {},
   "outputs": [],
   "source": []
  }
 ],
 "metadata": {
  "kernelspec": {
   "display_name": ".venv",
   "language": "python",
   "name": "python3"
  },
  "language_info": {
   "codemirror_mode": {
    "name": "ipython",
    "version": 3
   },
   "file_extension": ".py",
   "mimetype": "text/x-python",
   "name": "python",
   "nbconvert_exporter": "python",
   "pygments_lexer": "ipython3",
   "version": "3.12.3"
  }
 },
 "nbformat": 4,
 "nbformat_minor": 5
}
