{
 "cells": [
  {
   "cell_type": "markdown",
   "id": "f8c2273c",
   "metadata": {},
   "source": [
    "###  Lambda Functions in Python\n",
    "lambda functions are small anonymous functions defined using the lambda keyword. They can have any number of arguments but only one expression. they  are commonly used for short operations or as arguments to higher-order functions"
   ]
  },
  {
   "cell_type": "code",
   "execution_count": null,
   "id": "4b02ef01",
   "metadata": {},
   "outputs": [],
   "source": [
    "#Syntax\n",
    "lambda arguments: expression"
   ]
  },
  {
   "cell_type": "code",
   "execution_count": null,
   "id": "1f5edb01",
   "metadata": {},
   "outputs": [],
   "source": []
  }
 ],
 "metadata": {
  "kernelspec": {
   "display_name": ".venv",
   "language": "python",
   "name": "python3"
  },
  "language_info": {
   "name": "python",
   "version": "3.12.3"
  }
 },
 "nbformat": 4,
 "nbformat_minor": 5
}
