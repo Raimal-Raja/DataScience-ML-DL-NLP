{
 "cells": [
  {
   "cell_type": "markdown",
   "id": "7d1de48f",
   "metadata": {},
   "source": [
    "### Correlation and Covariance\n",
    "Covariance and correlation are"
   ]
  },
  {
   "cell_type": "markdown",
   "id": "0b3e9b3d",
   "metadata": {},
   "source": []
  }
 ],
 "metadata": {
  "language_info": {
   "name": "python"
  }
 },
 "nbformat": 4,
 "nbformat_minor": 5
}
