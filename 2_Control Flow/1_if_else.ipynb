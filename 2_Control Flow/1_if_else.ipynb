{
 "cells": [
  {
   "cell_type": "code",
   "execution_count": 2,
   "id": "d3559f19",
   "metadata": {},
   "outputs": [
    {
     "name": "stdout",
     "output_type": "stream",
     "text": [
      "Hello\n"
     ]
    }
   ],
   "source": [
    "## if Statement\n",
    "age = 20\n",
    "if age  >= 20:\n",
    "    print(\"Hello\")\n",
    "else:\n",
    "    print(\"world\")"
   ]
  },
  {
   "cell_type": "markdown",
   "id": "32b12b36",
   "metadata": {},
   "source": [
    "#### Else condition passed if the 'if' statement failed to pass"
   ]
  },
  {
   "cell_type": "markdown",
   "id": "131449e1",
   "metadata": {},
   "source": [
    "## Nested Conditional statement"
   ]
  },
  {
   "cell_type": "code",
   "execution_count": 5,
   "id": "23fa0238",
   "metadata": {},
   "outputs": [
    {
     "name": "stdout",
     "output_type": "stream",
     "text": [
      "The number is zero or negative\n"
     ]
    }
   ],
   "source": [
    "num = int(input(\"Enter a number: \"))\n",
    "\n",
    "if num >0:\n",
    "    print('The number is positive')\n",
    "    if(num%2==0):\n",
    "        print(\"The nnumber is even\")\n",
    "    else:\n",
    "        print('The number is odd')\n",
    "else:\n",
    "    print('The number is zero or negative')"
   ]
  },
  {
   "cell_type": "code",
   "execution_count": 6,
   "id": "656945bb",
   "metadata": {},
   "outputs": [
    {
     "name": "stdout",
     "output_type": "stream",
     "text": [
      "Not a leap year\n"
     ]
    }
   ],
   "source": [
    "## Practical Example\n",
    "year = int(input(\"Enter a year: \"))\n",
    "\n",
    "if year%4 ==0:\n",
    "    if year %100 == 0:\n",
    "        if year%4 == 0:\n",
    "            print(\"It's a leap year\")\n",
    "        else:\n",
    "            print('Not a leap year')\n",
    "    else:\n",
    "        print(\"It's a leap year\")\n",
    "else:\n",
    "    print(\"Not a leap year\")"
   ]
  }
 ],
 "metadata": {
  "kernelspec": {
   "display_name": ".venv",
   "language": "python",
   "name": "python3"
  },
  "language_info": {
   "codemirror_mode": {
    "name": "ipython",
    "version": 3
   },
   "file_extension": ".py",
   "mimetype": "text/x-python",
   "name": "python",
   "nbconvert_exporter": "python",
   "pygments_lexer": "ipython3",
   "version": "3.12.3"
  }
 },
 "nbformat": 4,
 "nbformat_minor": 5
}
