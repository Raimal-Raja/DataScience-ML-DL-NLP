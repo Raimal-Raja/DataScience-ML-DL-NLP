{
 "cells": [
  {
   "cell_type": "code",
   "execution_count": null,
   "id": "ea8564ac",
   "metadata": {},
   "outputs": [],
   "source": [
    "## write a file (without overwriting it)\n",
    "\n",
    "with open('example.txt', 'a') as file:\n",
    "    file.write(\"\\n are you there?\")"
   ]
  },
  {
   "cell_type": "code",
   "execution_count": 6,
   "id": "b4dc9d41",
   "metadata": {},
   "outputs": [
    {
     "name": "stdout",
     "output_type": "stream",
     "text": [
      "Hello! This is Professor Raimal Raja, \n",
      "A cybersecurity expert and Machine Learning Engineer are you there? are you there? \n",
      " are you there?\n"
     ]
    }
   ],
   "source": [
    "with open('example.txt','r') as file:\n",
    "    content = file.read()\n",
    "    print(content)"
   ]
  }
 ],
 "metadata": {
  "kernelspec": {
   "display_name": ".venv",
   "language": "python",
   "name": "python3"
  },
  "language_info": {
   "codemirror_mode": {
    "name": "ipython",
    "version": 3
   },
   "file_extension": ".py",
   "mimetype": "text/x-python",
   "name": "python",
   "nbconvert_exporter": "python",
   "pygments_lexer": "ipython3",
   "version": "3.12.3"
  }
 },
 "nbformat": 4,
 "nbformat_minor": 5
}
