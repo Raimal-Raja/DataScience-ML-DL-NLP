{
 "cells": [
  {
   "cell_type": "markdown",
   "id": "14843d8c",
   "metadata": {},
   "source": [
    "### Decorators\n",
    "Decorators  are a powerfull and flexible feature in Python that allows you to modify the behavior of a function or class method. They are commonaly used to add functionality to functions or methods without modifying their actual code. This lesson covers the basics of decorators, including how to create and use them"
   ]
  },
  {
   "cell_type": "code",
   "execution_count": 11,
   "id": "3b68af15",
   "metadata": {},
   "outputs": [],
   "source": [
    "## function copy\n",
    "## closures\n",
    "## decorators"
   ]
  },
  {
   "cell_type": "code",
   "execution_count": 12,
   "id": "706d6bab",
   "metadata": {},
   "outputs": [
    {
     "data": {
      "text/plain": [
       "'Welcome to the welcome function'"
      ]
     },
     "execution_count": 12,
     "metadata": {},
     "output_type": "execute_result"
    }
   ],
   "source": [
    "## function copy\n",
    "def welcome():\n",
    "    return 'Welcome to the welcome function'\n",
    "\n",
    "welcome()"
   ]
  },
  {
   "cell_type": "code",
   "execution_count": 16,
   "id": "ad18464c",
   "metadata": {},
   "outputs": [
    {
     "data": {
      "text/plain": [
       "'Welcome to the welcome function'"
      ]
     },
     "execution_count": 16,
     "metadata": {},
     "output_type": "execute_result"
    }
   ],
   "source": [
    "wel = welcome()\n",
    "wel\n",
    "del welcome\n",
    "wel"
   ]
  },
  {
   "cell_type": "code",
   "execution_count": 21,
   "id": "24b3e72f",
   "metadata": {},
   "outputs": [],
   "source": [
    "## Closures\n",
    "def main_welcome():\n",
    "    msg = \"Welcome\"\n",
    "    def sub_welcome_method():\n",
    "        print(\"Welcome to sub-welcome method\")\n",
    "        \n",
    "        print('Please learn these concept properly')\n",
    "        \n",
    "    return sub_welcome_method()"
   ]
  },
  {
   "cell_type": "code",
   "execution_count": 22,
   "id": "2c2aff05",
   "metadata": {},
   "outputs": [
    {
     "name": "stdout",
     "output_type": "stream",
     "text": [
      "Welcome to sub-welcome method\n",
      "Please learn these concept properly\n"
     ]
    }
   ],
   "source": [
    "main_welcome()"
   ]
  },
  {
   "cell_type": "code",
   "execution_count": 23,
   "id": "e1b650cd",
   "metadata": {},
   "outputs": [],
   "source": [
    "def main_welcome(func):\n",
    "    msg = \"Welcome\"\n",
    "    def sub_welcome_method():\n",
    "        print(\"Welcome to sub-welcome method\")\n",
    "        \n",
    "        func()\n",
    "        print('Please learn these concept properly')\n",
    "        \n",
    "    return sub_welcome_method()"
   ]
  },
  {
   "cell_type": "code",
   "execution_count": 24,
   "id": "ebe5f400",
   "metadata": {},
   "outputs": [
    {
     "name": "stdout",
     "output_type": "stream",
     "text": [
      "Welcome to sub-welcome method\n",
      "\n",
      "Please learn these concept properly\n"
     ]
    }
   ],
   "source": [
    "main_welcome(print)"
   ]
  },
  {
   "cell_type": "code",
   "execution_count": 32,
   "id": "dd3a5df5",
   "metadata": {},
   "outputs": [],
   "source": [
    "def main_welcome(func, lst):\n",
    "    msg = \"Welcome\"\n",
    "    def sub_welcome_method():\n",
    "        print(\"Welcome to sub-welcome method\")\n",
    "        \n",
    "        print(func(lst))\n",
    "        print('Please learn these concept properly')\n",
    "        \n",
    "    return sub_welcome_method()"
   ]
  },
  {
   "cell_type": "code",
   "execution_count": 33,
   "id": "65c213ee",
   "metadata": {},
   "outputs": [
    {
     "name": "stdout",
     "output_type": "stream",
     "text": [
      "Welcome to sub-welcome method\n",
      "5\n",
      "Please learn these concept properly\n"
     ]
    }
   ],
   "source": [
    "main_welcome(len, [1,2,3,4,4])"
   ]
  },
  {
   "cell_type": "code",
   "execution_count": null,
   "id": "6fe4f580",
   "metadata": {},
   "outputs": [],
   "source": [
    "## Decorator manually\n"
   ]
  }
 ],
 "metadata": {
  "kernelspec": {
   "display_name": ".venv",
   "language": "python",
   "name": "python3"
  },
  "language_info": {
   "codemirror_mode": {
    "name": "ipython",
    "version": 3
   },
   "file_extension": ".py",
   "mimetype": "text/x-python",
   "name": "python",
   "nbconvert_exporter": "python",
   "pygments_lexer": "ipython3",
   "version": "3.12.3"
  }
 },
 "nbformat": 4,
 "nbformat_minor": 5
}
