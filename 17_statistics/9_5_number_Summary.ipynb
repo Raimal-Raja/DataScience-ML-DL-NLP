{
 "cells": [
  {
   "cell_type": "markdown",
   "id": "8089d8da",
   "metadata": {},
   "source": [
    "### 5 Number Summary\n",
    "Minimum, 1St Quartile, Median, 3rd Quartile Maximum"
   ]
  }
 ],
 "metadata": {
  "language_info": {
   "name": "python"
  }
 },
 "nbformat": 4,
 "nbformat_minor": 5
}
