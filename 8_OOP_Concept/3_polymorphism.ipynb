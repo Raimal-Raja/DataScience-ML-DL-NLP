{
 "cells": [
  {
   "cell_type": "markdown",
   "id": "b6540961",
   "metadata": {},
   "source": [
    "### Polymorphism\n",
    "Polymorphism is a core concept in Object-Oriented programming (OOP) that allows objects of different classes to be treated as objects of a common superclass. It providing a way perform a single action in different forms.\n",
    "Polymorphism is typically achieved through method overriding and interfaces"
   ]
  },
  {
   "cell_type": "markdown",
   "id": "2fb1a90d",
   "metadata": {},
   "source": [
    "### Method Overriding\n",
    "Method  overriding allows a child class to providing, a specific implementation of a method that is already defined in it's parent class"
   ]
  },
  {
   "cell_type": "code",
   "execution_count": 5,
   "id": "c6bb1151",
   "metadata": {},
   "outputs": [
    {
     "name": "stdout",
     "output_type": "stream",
     "text": [
      "woof!\n",
      "meow!\n",
      "woof!\n"
     ]
    }
   ],
   "source": [
    "## Method Overrriding\n",
    "## Base Class\n",
    "class Animal:\n",
    "    def speak(self):\n",
    "        return 'sound of the animal'\n",
    "\n",
    "## Derived class 1\n",
    "class Dog(Animal):\n",
    "    def  speak(self):\n",
    "        return 'woof!'\n",
    " \n",
    "## Derived class  2   \n",
    "class Cat(Animal):\n",
    "    def speak(self):\n",
    "        return 'meow!'\n",
    "    \n",
    "## Derived class\n",
    "    \n",
    "    \n",
    "## Function that demonstrates polymorphism\n",
    "\n",
    "def animal_speak(animal):\n",
    "    print(animal.speak())\n",
    "     \n",
    "    \n",
    "dog = Dog()\n",
    "cat = Cat()\n",
    "print(dog.speak())\n",
    "print(cat.speak())\n",
    "animal_speak(dog)\n"
   ]
  },
  {
   "cell_type": "code",
   "execution_count": null,
   "id": "6d949195",
   "metadata": {},
   "outputs": [],
   "source": []
  }
 ],
 "metadata": {
  "kernelspec": {
   "display_name": ".venv",
   "language": "python",
   "name": "python3"
  },
  "language_info": {
   "codemirror_mode": {
    "name": "ipython",
    "version": 3
   },
   "file_extension": ".py",
   "mimetype": "text/x-python",
   "name": "python",
   "nbconvert_exporter": "python",
   "pygments_lexer": "ipython3",
   "version": "3.12.3"
  }
 },
 "nbformat": 4,
 "nbformat_minor": 5
}
