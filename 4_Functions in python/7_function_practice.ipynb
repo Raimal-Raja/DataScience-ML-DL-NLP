{
 "cells": [
  {
   "cell_type": "markdown",
   "id": "e3b756a1",
   "metadata": {},
   "source": [
    "### Example 1: Temperature conversion"
   ]
  },
  {
   "cell_type": "code",
   "execution_count": 4,
   "id": "ea12da0b",
   "metadata": {},
   "outputs": [
    {
     "name": "stdout",
     "output_type": "stream",
     "text": [
      "100.4\n",
      "36.666666666666664\n"
     ]
    }
   ],
   "source": [
    "def convert_temperature(temp, unit):\n",
    "    \"\"\"This function will converts temperature between Celcuis and Fehrenheit\"\"\"\n",
    "    if unit == \"c\":\n",
    "        return temp * 9/5 + 32 # Celsius to fehrenheit\n",
    "    \n",
    "    elif unit =='f':\n",
    "        return( temp-32)*5/9 # Fehrenheit to celsuis\n",
    "    else:\n",
    "        return None\n",
    "\n",
    "print(convert_temperature(38,'c'))\n",
    "print(convert_temperature(98,'f'))"
   ]
  },
  {
   "cell_type": "markdown",
   "id": "4f8c3665",
   "metadata": {},
   "source": [
    "## Example 2: Password strength checker"
   ]
  },
  {
   "cell_type": "code",
   "execution_count": 12,
   "id": "b075146c",
   "metadata": {},
   "outputs": [
    {
     "name": "stdout",
     "output_type": "stream",
     "text": [
      "True\n",
      "False\n"
     ]
    }
   ],
   "source": [
    "def is_strong_password(password):\n",
    "    \"\"\"this function will check whether password is strong or not\"\"\"\n",
    "    \n",
    "    if len(password)<8:\n",
    "        return False\n",
    "    if not any(char.isdigit() for char in password):\n",
    "        return False\n",
    "    if not any(char.islower() for char in password):\n",
    "        return False\n",
    "    if not any(char.isupper() for char in password):\n",
    "        return False\n",
    "    if not any(char in \"!@#$%&*()+\" for char in password):\n",
    "        return False\n",
    "    return True\n",
    "\n",
    "## call function\n",
    "print(is_strong_password('Professor@123'))\n",
    "print(is_strong_password('Professor'))"
   ]
  },
  {
   "cell_type": "markdown",
   "id": "4b2bf95a",
   "metadata": {},
   "source": [
    "### Example 3: Calculate the Total Cost of Items in a Shopping Card"
   ]
  },
  {
   "cell_type": "code",
   "execution_count": 13,
   "id": "60a6a36b",
   "metadata": {},
   "outputs": [
    {
     "name": "stdout",
     "output_type": "stream",
     "text": [
      "3.9000000000000004\n"
     ]
    }
   ],
   "source": [
    "def calculate_total_cost(cart):\n",
    "    total_cost  = 0\n",
    "    for item in cart:\n",
    "        total_cost = item['price']*item['quantity']\n",
    "        \n",
    "    return total_cost\n",
    "    \n",
    "    \n",
    "    \n",
    "## example  card data\n",
    "cart = [\n",
    "    {'name': \"apple\", 'price': 1.5, 'quantity':4 },\n",
    "    {'name': \"banana\", 'price': 1.0, 'quantity':6 },\n",
    "    {'name': \"mango\", 'price': 1.3, 'quantity':3 },\n",
    "\n",
    "]\n",
    "\n",
    "\n",
    "## call the function\n",
    "total_cost = calculate_total_cost(cart)\n",
    "print(total_cost)"
   ]
  },
  {
   "cell_type": "markdown",
   "id": "fed785c0",
   "metadata": {},
   "source": [
    "### Example 4: Check if a String is Palindrome"
   ]
  },
  {
   "cell_type": "code",
   "execution_count": 14,
   "id": "f72aec8b",
   "metadata": {},
   "outputs": [
    {
     "name": "stdout",
     "output_type": "stream",
     "text": [
      "True\n"
     ]
    }
   ],
   "source": [
    "def is_palindrome(s):\n",
    "    s = s.lower().replace(\" \", '')\n",
    "    return s==s[::-1]\n",
    "print(is_palindrome(\"A man a plan  a canal Panama\"))"
   ]
  },
  {
   "cell_type": "markdown",
   "id": "c623bd90",
   "metadata": {},
   "source": [
    "### Example 5:  Calculate the factorial of a number using recusion"
   ]
  },
  {
   "cell_type": "code",
   "execution_count": 1,
   "id": "85ac7686",
   "metadata": {},
   "outputs": [
    {
     "data": {
      "text/plain": [
       "25852016738884976640000"
      ]
     },
     "execution_count": 1,
     "metadata": {},
     "output_type": "execute_result"
    }
   ],
   "source": [
    "def factorial(n):\n",
    "    if n==0:\n",
    "        return 1\n",
    "    else:\n",
    "        return n* factorial(n-1)\n",
    "n = int(input(\"Enter value of N: \"))\n",
    "factorial(n)"
   ]
  },
  {
   "cell_type": "markdown",
   "id": "55a3736c",
   "metadata": {},
   "source": [
    "### Example 6: A function to read a file and count the frequency of each word"
   ]
  },
  {
   "cell_type": "code",
   "execution_count": 2,
   "id": "6544c4a8",
   "metadata": {},
   "outputs": [
    {
     "name": "stdout",
     "output_type": "stream",
     "text": [
      "{'hello': 1, 'professor': 3, 'how': 1, 'are': 1, 'you': 1, 'my': 1, 'name': 1, 'is': 1, 'raimal': 1, 'raja': 1}\n"
     ]
    }
   ],
   "source": [
    "def count_word_frequence(file_path):\n",
    "    word_count = {}\n",
    "    with open(file_path, 'r') as file:\n",
    "        for line in file:\n",
    "            words = line.split()\n",
    "            for word in words:\n",
    "                word = word.lower().strip(',.!?;:\"\\'')\n",
    "                word_count[word] = word_count.get(word, 0)+1\n",
    "    return word_count\n",
    "file_path = 'sample.txt'\n",
    "word_count = count_word_frequence(file_path)\n",
    "print(word_count)"
   ]
  },
  {
   "cell_type": "markdown",
   "id": "094bb2fa",
   "metadata": {},
   "source": [
    "### Example 7: Validate Email Address"
   ]
  },
  {
   "cell_type": "code",
   "execution_count": 4,
   "id": "339e2914",
   "metadata": {},
   "outputs": [
    {
     "name": "stdout",
     "output_type": "stream",
     "text": [
      "True\n",
      "False\n"
     ]
    }
   ],
   "source": [
    "import re\n",
    "\n",
    "# Email validation function\n",
    "\n",
    "def is_valid_email(email):\n",
    "    \"\"\"This function checks  if  the email is valid\"\"\"\n",
    "    pattern = r'^[a-zA-Z0-9_.+-]+@[a-zA-Z0-9-]+\\.[a-zA-Z0-9-.]+$'\n",
    "    return re.match(pattern, email) is not None\n",
    "\n",
    "# calling the function\n",
    "print(is_valid_email(\"test@example.com\"))\n",
    "print(is_valid_email(\"invalid-email.com\"))"
   ]
  },
  {
   "cell_type": "code",
   "execution_count": null,
   "id": "ddf378d4",
   "metadata": {},
   "outputs": [],
   "source": []
  }
 ],
 "metadata": {
  "kernelspec": {
   "display_name": ".venv",
   "language": "python",
   "name": "python3"
  },
  "language_info": {
   "codemirror_mode": {
    "name": "ipython",
    "version": 3
   },
   "file_extension": ".py",
   "mimetype": "text/x-python",
   "name": "python",
   "nbconvert_exporter": "python",
   "pygments_lexer": "ipython3",
   "version": "3.12.3"
  }
 },
 "nbformat": 4,
 "nbformat_minor": 5
}
