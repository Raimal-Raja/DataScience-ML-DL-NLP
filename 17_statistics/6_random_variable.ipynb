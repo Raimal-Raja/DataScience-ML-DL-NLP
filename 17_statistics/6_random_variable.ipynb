{
 "cells": [
  {
   "cell_type": "markdown",
   "id": "53cf5b54",
   "metadata": {},
   "source": [
    "### Random Variables\n",
    "It generally denoted by x, where  x can have different values, it can have 4, 5, or 40"
   ]
  },
  {
   "cell_type": "markdown",
   "id": "69787b33",
   "metadata": {},
   "source": []
  }
 ],
 "metadata": {
  "language_info": {
   "name": "python"
  }
 },
 "nbformat": 4,
 "nbformat_minor": 5
}
