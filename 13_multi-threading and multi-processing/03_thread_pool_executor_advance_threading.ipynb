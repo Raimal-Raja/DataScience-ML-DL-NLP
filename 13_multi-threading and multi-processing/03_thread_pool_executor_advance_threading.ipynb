{
 "cells": [
  {
   "cell_type": "code",
   "execution_count": null,
   "id": "fab223fc",
   "metadata": {},
   "outputs": [
    {
     "name": "stdout",
     "output_type": "stream",
     "text": [
      "number: 1\n",
      "number: 2\n",
      "number: 3\n",
      "number: 4\n",
      "number: 5\n",
      "number: 6\n",
      "number: 7\n",
      "number: 8\n",
      "number: 9\n",
      "number: 10\n"
     ]
    }
   ],
   "source": [
    "## Multithreading with Thread Pool Executor\n",
    "\n",
    "from concurrent.futures import ThreadPoolExecutor\n",
    "import time\n",
    "\n",
    "def print_number_list(number):\n",
    "    time.sleep(1)\n",
    "    \n",
    "    return f'number: {number}'\n",
    "\n",
    "numbers = [1,2,3,4,5,6,7,8,9,10]\n",
    "\n",
    "with ThreadPoolExecutor(max_workers=3) as executor:\n",
    "    results  = executor.map(print_number_list, numbers)\n",
    "    \n",
    "\n",
    "for result in results:\n",
    "    print(result)"
   ]
  }
 ],
 "metadata": {
  "kernelspec": {
   "display_name": ".venv",
   "language": "python",
   "name": "python3"
  },
  "language_info": {
   "codemirror_mode": {
    "name": "ipython",
    "version": 3
   },
   "file_extension": ".py",
   "mimetype": "text/x-python",
   "name": "python",
   "nbconvert_exporter": "python",
   "pygments_lexer": "ipython3",
   "version": "3.12.3"
  }
 },
 "nbformat": 4,
 "nbformat_minor": 5
}
