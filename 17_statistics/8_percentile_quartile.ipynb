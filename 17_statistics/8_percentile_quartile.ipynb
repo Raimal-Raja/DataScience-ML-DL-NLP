{
 "cells": [
  {
   "cell_type": "markdown",
   "id": "aad4127a",
   "metadata": {},
   "source": [
    "### Percentile\n",
    "A percentile is a value below which certain percentage of observation lie."
   ]
  }
 ],
 "metadata": {
  "language_info": {
   "name": "python"
  }
 },
 "nbformat": 4,
 "nbformat_minor": 5
}
