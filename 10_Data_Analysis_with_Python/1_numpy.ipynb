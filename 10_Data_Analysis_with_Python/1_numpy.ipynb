{
 "cells": [
  {
   "cell_type": "markdown",
   "id": "f519d00e",
   "metadata": {},
   "source": [
    "### Numpy\n",
    "Numpy is a fundamental library for scientific computing in python. It provides support for arrays and matrices, along with a collection of methematical functions to operate on these data structures. in this lesson, we will cover the basics of numpy, focusing on array and vectorized operation."
   ]
  },
  {
   "cell_type": "code",
   "execution_count": 2,
   "id": "1e221187",
   "metadata": {},
   "outputs": [
    {
     "name": "stdout",
     "output_type": "stream",
     "text": [
      "Requirement already satisfied: numpy in c:\\users\\professor\\desktop\\programming\\datascience-ml-dl-nlp-projects&practice\\.venv\\lib\\site-packages (2.2.6)\n"
     ]
    }
   ],
   "source": [
    "!pip install numpy"
   ]
  },
  {
   "cell_type": "code",
   "execution_count": 3,
   "id": "ef127b68",
   "metadata": {},
   "outputs": [
    {
     "name": "stdout",
     "output_type": "stream",
     "text": [
      "[1 2 3 4 5]\n"
     ]
    }
   ],
   "source": [
    "import numpy as np\n",
    "\n",
    "#1D array\n",
    "arr1 =np.array([1,2,3,4,5])\n",
    "print(arr1)"
   ]
  },
  {
   "cell_type": "code",
   "execution_count": 4,
   "id": "7bf065e0",
   "metadata": {},
   "outputs": [
    {
     "data": {
      "text/plain": [
       "numpy.ndarray"
      ]
     },
     "execution_count": 4,
     "metadata": {},
     "output_type": "execute_result"
    }
   ],
   "source": [
    "type(arr1)"
   ]
  },
  {
   "cell_type": "code",
   "execution_count": 5,
   "id": "4fe4ef5b",
   "metadata": {},
   "outputs": [
    {
     "data": {
      "text/plain": [
       "array([[1, 2, 3, 4, 5]])"
      ]
     },
     "execution_count": 5,
     "metadata": {},
     "output_type": "execute_result"
    }
   ],
   "source": [
    "arr1.reshape(1,5) # 1 row and 5 columns"
   ]
  },
  {
   "cell_type": "code",
   "execution_count": 6,
   "id": "9ae17184",
   "metadata": {},
   "outputs": [
    {
     "data": {
      "text/plain": [
       "(2, 5)"
      ]
     },
     "execution_count": 6,
     "metadata": {},
     "output_type": "execute_result"
    }
   ],
   "source": [
    "## 2D array\n",
    "arr2  = np.array([[1,2,3,4,5],[6,7,8,9,0]])\n",
    "arr2.shape"
   ]
  },
  {
   "cell_type": "code",
   "execution_count": 7,
   "id": "73f0df69",
   "metadata": {},
   "outputs": [
    {
     "data": {
      "text/plain": [
       "array([0, 2, 4, 6, 8])"
      ]
     },
     "execution_count": 7,
     "metadata": {},
     "output_type": "execute_result"
    }
   ],
   "source": [
    "arr3 = np.arange(0,10,2) ## 0 for starting point, 10 for ending, 2 for skip\n",
    "arr3"
   ]
  },
  {
   "cell_type": "code",
   "execution_count": 8,
   "id": "d830d36b",
   "metadata": {},
   "outputs": [
    {
     "data": {
      "text/plain": [
       "array([[0],\n",
       "       [2],\n",
       "       [4],\n",
       "       [6],\n",
       "       [8]])"
      ]
     },
     "execution_count": 8,
     "metadata": {},
     "output_type": "execute_result"
    }
   ],
   "source": [
    "arr3.reshape(5,1)"
   ]
  },
  {
   "cell_type": "code",
   "execution_count": 9,
   "id": "d63ca6e0",
   "metadata": {},
   "outputs": [
    {
     "data": {
      "text/plain": [
       "array([[1., 1., 1., 1.],\n",
       "       [1., 1., 1., 1.],\n",
       "       [1., 1., 1., 1.]])"
      ]
     },
     "execution_count": 9,
     "metadata": {},
     "output_type": "execute_result"
    }
   ],
   "source": [
    "np.ones((3,4))"
   ]
  },
  {
   "cell_type": "code",
   "execution_count": 10,
   "id": "646f06a1",
   "metadata": {},
   "outputs": [
    {
     "data": {
      "text/plain": [
       "array([[1., 0., 0.],\n",
       "       [0., 1., 0.],\n",
       "       [0., 0., 1.]])"
      ]
     },
     "execution_count": 10,
     "metadata": {},
     "output_type": "execute_result"
    }
   ],
   "source": [
    "## identity matrix\n",
    "np.eye(3)"
   ]
  },
  {
   "cell_type": "code",
   "execution_count": 11,
   "id": "cc68f99c",
   "metadata": {},
   "outputs": [
    {
     "name": "stdout",
     "output_type": "stream",
     "text": [
      "Array:\n",
      " [[1 2 3]\n",
      " [4 5 6]]\n",
      "Shape: (2, 3)\n",
      "Number of dimensions: 2\n",
      "Size (number of elements):  6\n",
      "Data type: int64\n",
      "Item size (in bytes):  8\n"
     ]
    }
   ],
   "source": [
    "## attribute of numpy\n",
    "arr  = np.array([[1,2,3],[4,5,6]])\n",
    "\n",
    "print(\"Array:\\n\", arr)\n",
    "print(\"Shape:\",arr.shape) # output: (2,3)\n",
    "print(\"Number of dimensions:\", arr.ndim) #output: 2\n",
    "print(\"Size (number of elements): \", arr.size) #output:6\n",
    "print(\"Data type:\", arr.dtype) # output: int64 (may vary based on platfom)\n",
    "print('Item size (in bytes): ', arr.itemsize) # output: 8 (may vary based on platform)"
   ]
  },
  {
   "cell_type": "code",
   "execution_count": 12,
   "id": "a6f82ff8",
   "metadata": {},
   "outputs": [
    {
     "name": "stdout",
     "output_type": "stream",
     "text": [
      "Addition: [ 7  9 11 13  5]\n",
      "Substraction: [-5 -5 -5 -5  5]\n",
      "Multiplication:  [ 6 14 24 36  0]\n",
      "Division:  [0.16666667 0.28571429 0.375      0.44444444        inf]\n"
     ]
    },
    {
     "name": "stderr",
     "output_type": "stream",
     "text": [
      "C:\\Users\\Professor\\AppData\\Local\\Temp\\ipykernel_17544\\1592447632.py:17: RuntimeWarning: divide by zero encountered in divide\n",
      "  print(\"Division: \", arr1/arr2)\n"
     ]
    }
   ],
   "source": [
    "## Numpy Vectorized Operation\n",
    "arr1 = np.array([1,2,3,4,5])\n",
    "arr2 = np.array([6,7,8,9,0])\n",
    "\n",
    "\n",
    "## element wise addition\n",
    "print(\"Addition:\", arr1+arr2)\n",
    "\n",
    "## Element wise Substraction\n",
    "print(\"Substraction:\", arr1-arr2)\n",
    "\n",
    "\n",
    "## Element wise substraction\n",
    "print(\"Multiplication: \", arr1*arr2)\n",
    "\n",
    "## Element-wise multiplication\n",
    "print(\"Division: \", arr1/arr2)"
   ]
  },
  {
   "cell_type": "code",
   "execution_count": 13,
   "id": "3712af36",
   "metadata": {},
   "outputs": [
    {
     "name": "stdout",
     "output_type": "stream",
     "text": [
      "[1.41421356 2.         2.44948974 2.82842712]\n",
      "[   7.3890561    54.59815003  403.42879349 2980.95798704]\n",
      "[ 0.90929743 -0.7568025  -0.2794155   0.98935825]\n",
      "[0.69314718 1.38629436 1.79175947 2.07944154]\n"
     ]
    }
   ],
   "source": [
    "## Universal Functions\n",
    "arr = np.array([2,4,6,8])\n",
    "\n",
    "## square root\n",
    "print(np.sqrt(arr))\n",
    "\n",
    "## exponential\n",
    "print(np.exp(arr))\n",
    "\n",
    "## sin\n",
    "print(np.sin(arr))\n",
    "\n",
    "## natural log\n",
    "print(np.log(arr))"
   ]
  },
  {
   "cell_type": "code",
   "execution_count": 17,
   "id": "9e935bdb",
   "metadata": {},
   "outputs": [
    {
     "name": "stdout",
     "output_type": "stream",
     "text": [
      "Array: \n",
      " [[ 1  2  3  4  5]\n",
      " [ 6  7  8  9  0]\n",
      " [11 22 33 44 55]]\n"
     ]
    }
   ],
   "source": [
    "## Array licing and Indexing\n",
    "arr = np.array([[1,2,3,4,5],[6,7,8,9,0],[11,22,33,44,55]])\n",
    "print(\"Array: \\n\", arr)\n"
   ]
  },
  {
   "cell_type": "code",
   "execution_count": 18,
   "id": "4e93203a",
   "metadata": {},
   "outputs": [
    {
     "data": {
      "text/plain": [
       "array([1, 2, 3, 4, 5])"
      ]
     },
     "execution_count": 18,
     "metadata": {},
     "output_type": "execute_result"
    }
   ],
   "source": [
    "arr[0]"
   ]
  },
  {
   "cell_type": "code",
   "execution_count": 26,
   "id": "20e68924",
   "metadata": {},
   "outputs": [
    {
     "name": "stdout",
     "output_type": "stream",
     "text": [
      "[[ 9  0]\n",
      " [44 55]]\n"
     ]
    }
   ],
   "source": [
    "print(arr[1:,3:])"
   ]
  },
  {
   "cell_type": "code",
   "execution_count": 29,
   "id": "4f290975",
   "metadata": {},
   "outputs": [
    {
     "name": "stdout",
     "output_type": "stream",
     "text": [
      "1\n",
      "[[3 4 5]\n",
      " [8 9 0]]\n",
      "[[ 7  8]\n",
      " [22 33]]\n"
     ]
    }
   ],
   "source": [
    "print(arr[0][0])\n",
    "print(arr[0:2,2:])\n",
    "print(arr[1:,1:3])"
   ]
  },
  {
   "cell_type": "code",
   "execution_count": 30,
   "id": "77f507f1",
   "metadata": {},
   "outputs": [],
   "source": [
    "## Modi fy array elements\n",
    "arr[0,0] =  100"
   ]
  },
  {
   "cell_type": "code",
   "execution_count": 31,
   "id": "374c63b4",
   "metadata": {},
   "outputs": [
    {
     "name": "stdout",
     "output_type": "stream",
     "text": [
      "[[100   2   3   4   5]\n",
      " [  6   7   8   9   0]\n",
      " [ 11  22  33  44  55]]\n"
     ]
    }
   ],
   "source": [
    "print(arr)"
   ]
  },
  {
   "cell_type": "code",
   "execution_count": 32,
   "id": "767da033",
   "metadata": {},
   "outputs": [],
   "source": [
    "arr[1:] = 100"
   ]
  },
  {
   "cell_type": "code",
   "execution_count": 33,
   "id": "11197203",
   "metadata": {},
   "outputs": [
    {
     "name": "stdout",
     "output_type": "stream",
     "text": [
      "[[100   2   3   4   5]\n",
      " [100 100 100 100 100]\n",
      " [100 100 100 100 100]]\n"
     ]
    }
   ],
   "source": [
    "print(arr)"
   ]
  },
  {
   "cell_type": "markdown",
   "id": "4c3b991f",
   "metadata": {},
   "source": [
    "### Statistical concepts -- Normalization"
   ]
  },
  {
   "cell_type": "code",
   "execution_count": 38,
   "id": "c9837603",
   "metadata": {},
   "outputs": [
    {
     "name": "stdout",
     "output_type": "stream",
     "text": [
      "Normalized Data:  [-1.46385011 -0.87831007 -0.29277002  0.29277002  0.87831007  1.46385011]\n",
      "Median: 3.5\n",
      "Variance:  2.9166666666666665\n"
     ]
    }
   ],
   "source": [
    "## to have a mean of 0 and standard deviation of 1\n",
    "data = np.array([1,2,3,4,5,6])\n",
    "\n",
    "# calculate the mean and standard deviation\n",
    "mean = np.mean(data)\n",
    "std_dev =  np.std(data)\n",
    "\n",
    "# Normalize the  data\n",
    "normalize_data = (data-mean)/std_dev\n",
    "print(\"Normalized Data: \", normalize_data)\n",
    "\n",
    "\n",
    "# Median\n",
    "median = np.median(data)\n",
    "print(\"Median:\", median)\n",
    "\n",
    "## Variance\n",
    "variance = np.var(data)\n",
    "print(\"Variance: \", variance)"
   ]
  },
  {
   "cell_type": "code",
   "execution_count": null,
   "id": "f7e6e9b0",
   "metadata": {},
   "outputs": [],
   "source": []
  }
 ],
 "metadata": {
  "kernelspec": {
   "display_name": ".venv",
   "language": "python",
   "name": "python3"
  },
  "language_info": {
   "codemirror_mode": {
    "name": "ipython",
    "version": 3
   },
   "file_extension": ".py",
   "mimetype": "text/x-python",
   "name": "python",
   "nbconvert_exporter": "python",
   "pygments_lexer": "ipython3",
   "version": "3.12.3"
  }
 },
 "nbformat": 4,
 "nbformat_minor": 5
}
