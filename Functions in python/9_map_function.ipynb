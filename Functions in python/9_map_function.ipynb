{
 "cells": [
  {
   "cell_type": "markdown",
   "id": "e9949fe1",
   "metadata": {},
   "source": [
    "### The map() functions in python\n",
    "\n",
    "The map() function applies a given function to ll ite,s in an input list (or any other iterable) and returns a map object (an iterator). This is particularly usefull for transforming data in a list comprehensively."
   ]
  },
  {
   "cell_type": "code",
   "execution_count": 1,
   "id": "1be52297",
   "metadata": {},
   "outputs": [
    {
     "data": {
      "text/plain": [
       "9"
      ]
     },
     "execution_count": 1,
     "metadata": {},
     "output_type": "execute_result"
    }
   ],
   "source": [
    "def square(x):\n",
    "    return x*x\n",
    "\n",
    "square(3)"
   ]
  },
  {
   "cell_type": "code",
   "execution_count": 5,
   "id": "eec21acf",
   "metadata": {},
   "outputs": [
    {
     "data": {
      "text/plain": [
       "[1, 4, 9, 16, 25, 36]"
      ]
     },
     "execution_count": 5,
     "metadata": {},
     "output_type": "execute_result"
    }
   ],
   "source": [
    "num = [1,2,3,4,5,6]\n",
    "map(square, num) # map usually take two parameter input, 1 function name, 2 iterable\n",
    "\n",
    "# it will return map object values\n",
    "# you need to convert into iterable data structure, output of this function\n",
    "\n",
    "list(map(square, num))\n"
   ]
  },
  {
   "cell_type": "markdown",
   "id": "0d4f42dd",
   "metadata": {},
   "source": [
    "### lambda function with map"
   ]
  },
  {
   "cell_type": "code",
   "execution_count": 6,
   "id": "6d5019de",
   "metadata": {},
   "outputs": [
    {
     "data": {
      "text/plain": [
       "[1, 4, 9, 16, 25, 36]"
      ]
     },
     "execution_count": 6,
     "metadata": {},
     "output_type": "execute_result"
    }
   ],
   "source": [
    "num =  [1,2,3,4,5, 6]\n",
    "list(map(lambda x: x*x, num))\n",
    "\n",
    "\n"
   ]
  },
  {
   "cell_type": "code",
   "execution_count": null,
   "id": "e76362d6",
   "metadata": {},
   "outputs": [],
   "source": []
  }
 ],
 "metadata": {
  "kernelspec": {
   "display_name": ".venv",
   "language": "python",
   "name": "python3"
  },
  "language_info": {
   "codemirror_mode": {
    "name": "ipython",
    "version": 3
   },
   "file_extension": ".py",
   "mimetype": "text/x-python",
   "name": "python",
   "nbconvert_exporter": "python",
   "pygments_lexer": "ipython3",
   "version": "3.12.3"
  }
 },
 "nbformat": 4,
 "nbformat_minor": 5
}
