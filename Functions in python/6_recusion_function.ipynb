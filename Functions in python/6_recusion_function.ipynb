{
 "cells": [
  {
   "cell_type": "markdown",
   "id": "5d16bde8",
   "metadata": {},
   "source": [
    "### Example 1:  Calculate the factorial of a number using recusion"
   ]
  },
  {
   "cell_type": "code",
   "execution_count": 3,
   "id": "07677cfd",
   "metadata": {},
   "outputs": [
    {
     "data": {
      "text/plain": [
       "479001600"
      ]
     },
     "execution_count": 3,
     "metadata": {},
     "output_type": "execute_result"
    }
   ],
   "source": [
    "def factorial(n):\n",
    "    if n==0:\n",
    "        return 1\n",
    "    else:\n",
    "        return n* factorial(n-1)\n",
    "n = int(input(\"Enter value of N: \"))\n",
    "factorial(n)"
   ]
  }
 ],
 "metadata": {
  "kernelspec": {
   "display_name": ".venv",
   "language": "python",
   "name": "python3"
  },
  "language_info": {
   "codemirror_mode": {
    "name": "ipython",
    "version": 3
   },
   "file_extension": ".py",
   "mimetype": "text/x-python",
   "name": "python",
   "nbconvert_exporter": "python",
   "pygments_lexer": "ipython3",
   "version": "3.12.3"
  }
 },
 "nbformat": 4,
 "nbformat_minor": 5
}
