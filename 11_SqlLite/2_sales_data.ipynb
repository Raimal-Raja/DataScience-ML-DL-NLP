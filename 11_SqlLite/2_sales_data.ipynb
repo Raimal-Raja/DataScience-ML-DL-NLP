{
 "cells": [
  {
   "cell_type": "code",
   "execution_count": 12,
   "id": "9f4055cf",
   "metadata": {},
   "outputs": [],
   "source": [
    "### working with sales data\n",
    "## connect to an SQLite database\n",
    "import sqlite3\n",
    "\n",
    "\n",
    "connection = sqlite3.connect('sales_data.db')\n",
    "cursor  = connection.cursor()\n",
    "\n",
    "\n",
    "# create a table for sales data\n",
    "cursor.execute('''\n",
    "                CREATE TABLE IF NOT EXISTS sales (\n",
    "                    id Integer primary key,\n",
    "                    date text not null, \n",
    "                    product text not null,\n",
    "                    sale integer,\n",
    "                    region text\n",
    "                )\n",
    "               \n",
    "               ''')\n",
    "\n",
    "## insert data into sales table\n",
    "sale_data = [\n",
    "    \n",
    "    ('2025-01-01', 'Product1',100, 'North'),\n",
    "    ('2025-01-02', 'Product2',149, 'South'),\n",
    "    ('2025-01-03', 'Product3',130, 'East'),\n",
    "    ('2025-01-04', 'Product4',150, 'West'),\n",
    "    ('2025-01-05', 'Product5',200, 'North')\n",
    "]\n",
    "\n",
    "\n",
    "cursor.executemany('''\n",
    "                   insert into sales (date, product, sale, region)\n",
    "                   values(?,?,?,?)\n",
    "                   ''', sale_data)\n",
    "\n",
    "connection.commit()"
   ]
  },
  {
   "cell_type": "code",
   "execution_count": 13,
   "id": "861e5611",
   "metadata": {},
   "outputs": [
    {
     "name": "stdout",
     "output_type": "stream",
     "text": [
      "(1, '2025-01-01', 'Product1', 100, 'North')\n",
      "(2, '2025-01-02', 'Product2', 149, 'South')\n",
      "(3, '2025-01-03', 'Product3', 130, 'East')\n",
      "(4, '2025-01-04', 'Product4', 150, 'West')\n",
      "(5, '2025-01-05', 'Product5', 200, 'North')\n"
     ]
    }
   ],
   "source": [
    "cursor.execute('select * from sales')\n",
    "rows = cursor.fetchall()\n",
    "\n",
    "for row in rows:\n",
    "    print(row)"
   ]
  },
  {
   "cell_type": "code",
   "execution_count": 14,
   "id": "9bb71254",
   "metadata": {},
   "outputs": [],
   "source": [
    "connection.close()"
   ]
  },
  {
   "cell_type": "code",
   "execution_count": 15,
   "id": "ebe8fde0",
   "metadata": {},
   "outputs": [
    {
     "ename": "ProgrammingError",
     "evalue": "Cannot operate on a closed database.",
     "output_type": "error",
     "traceback": [
      "\u001b[31m---------------------------------------------------------------------------\u001b[39m",
      "\u001b[31mProgrammingError\u001b[39m                          Traceback (most recent call last)",
      "\u001b[36mCell\u001b[39m\u001b[36m \u001b[39m\u001b[32mIn[15]\u001b[39m\u001b[32m, line 1\u001b[39m\n\u001b[32m----> \u001b[39m\u001b[32m1\u001b[39m \u001b[43mcursor\u001b[49m\u001b[43m.\u001b[49m\u001b[43mexecute\u001b[49m\u001b[43m(\u001b[49m\u001b[33;43m'\u001b[39;49m\u001b[33;43mselect * from sales\u001b[39;49m\u001b[33;43m'\u001b[39;49m\u001b[43m)\u001b[49m\n\u001b[32m      2\u001b[39m rows = cursor.fetchall()\n\u001b[32m      4\u001b[39m \u001b[38;5;28;01mfor\u001b[39;00m row \u001b[38;5;129;01min\u001b[39;00m rows:\n",
      "\u001b[31mProgrammingError\u001b[39m: Cannot operate on a closed database."
     ]
    }
   ],
   "source": [
    "cursor.execute('select * from sales')\n",
    "rows = cursor.fetchall()\n",
    "\n",
    "for row in rows:\n",
    "    print(row)"
   ]
  },
  {
   "cell_type": "code",
   "execution_count": null,
   "id": "bbe6950a",
   "metadata": {},
   "outputs": [],
   "source": []
  }
 ],
 "metadata": {
  "kernelspec": {
   "display_name": ".venv",
   "language": "python",
   "name": "python3"
  },
  "language_info": {
   "codemirror_mode": {
    "name": "ipython",
    "version": 3
   },
   "file_extension": ".py",
   "mimetype": "text/x-python",
   "name": "python",
   "nbconvert_exporter": "python",
   "pygments_lexer": "ipython3",
   "version": "3.12.3"
  }
 },
 "nbformat": 4,
 "nbformat_minor": 5
}
