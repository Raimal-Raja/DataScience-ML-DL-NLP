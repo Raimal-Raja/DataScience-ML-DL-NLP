{
 "cells": [
  {
   "cell_type": "markdown",
   "id": "e9949fe1",
   "metadata": {},
   "source": [
    "### The map() functions in python\n",
    "\n",
    "The map() function applies a given function to ll ite,s in an input list (or any other iterable) and returns a map object (an iterator). This is particularly usefull for transforming data in a list comprehensively."
   ]
  },
  {
   "cell_type": "markdown",
   "id": "7dc96d48",
   "metadata": {},
   "source": []
  }
 ],
 "metadata": {
  "kernelspec": {
   "display_name": ".venv",
   "language": "python",
   "name": "python3"
  },
  "language_info": {
   "name": "python",
   "version": "3.12.3"
  }
 },
 "nbformat": 4,
 "nbformat_minor": 5
}
