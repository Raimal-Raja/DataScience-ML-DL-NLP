{
 "cells": [
  {
   "cell_type": "markdown",
   "id": "b59d1601",
   "metadata": {},
   "source": [
    "### Tupe Operation"
   ]
  },
  {
   "cell_type": "code",
   "execution_count": 1,
   "id": "19c6e892",
   "metadata": {},
   "outputs": [
    {
     "name": "stdout",
     "output_type": "stream",
     "text": [
      "(1, 2, 2, 3, 4, 1, 'Raimal', True, 23.2)\n"
     ]
    }
   ],
   "source": [
    "mix = (1, \"Raimal\", True, 23.2)\n",
    "num = (1,2,2,3,4)\n",
    "concatination = num + mix\n",
    "print(concatination)"
   ]
  },
  {
   "cell_type": "code",
   "execution_count": 2,
   "id": "43eeeb9a",
   "metadata": {},
   "outputs": [
    {
     "data": {
      "text/plain": [
       "(1, 'Raimal', True, 23.2, 1, 'Raimal', True, 23.2, 1, 'Raimal', True, 23.2)"
      ]
     },
     "execution_count": 2,
     "metadata": {},
     "output_type": "execute_result"
    }
   ],
   "source": [
    "mix *3"
   ]
  },
  {
   "cell_type": "code",
   "execution_count": 4,
   "id": "c26395b0",
   "metadata": {},
   "outputs": [
    {
     "data": {
      "text/plain": [
       "2"
      ]
     },
     "execution_count": 4,
     "metadata": {},
     "output_type": "execute_result"
    }
   ],
   "source": [
    "## immutable Nature of tuples\n",
    "## tuples are immutable, meaning their elements cannot be changed once assigned\n",
    "\n",
    "num[1]"
   ]
  },
  {
   "cell_type": "code",
   "execution_count": 5,
   "id": "b5d24392",
   "metadata": {},
   "outputs": [
    {
     "ename": "TypeError",
     "evalue": "'tuple' object does not support item assignment",
     "output_type": "error",
     "traceback": [
      "\u001b[31m---------------------------------------------------------------------------\u001b[39m",
      "\u001b[31mTypeError\u001b[39m                                 Traceback (most recent call last)",
      "\u001b[36mCell\u001b[39m\u001b[36m \u001b[39m\u001b[32mIn[5]\u001b[39m\u001b[32m, line 1\u001b[39m\n\u001b[32m----> \u001b[39m\u001b[32m1\u001b[39m \u001b[43mnum\u001b[49m\u001b[43m[\u001b[49m\u001b[32;43m1\u001b[39;49m\u001b[43m]\u001b[49m = \u001b[33m\"\u001b[39m\u001b[33mRaimal\u001b[39m\u001b[33m\"\u001b[39m\n",
      "\u001b[31mTypeError\u001b[39m: 'tuple' object does not support item assignment"
     ]
    }
   ],
   "source": [
    "num[1] = \"Raimal\""
   ]
  },
  {
   "cell_type": "code",
   "execution_count": null,
   "id": "2d107abf",
   "metadata": {},
   "outputs": [],
   "source": []
  }
 ],
 "metadata": {
  "kernelspec": {
   "display_name": ".venv",
   "language": "python",
   "name": "python3"
  },
  "language_info": {
   "codemirror_mode": {
    "name": "ipython",
    "version": 3
   },
   "file_extension": ".py",
   "mimetype": "text/x-python",
   "name": "python",
   "nbconvert_exporter": "python",
   "pygments_lexer": "ipython3",
   "version": "3.12.3"
  }
 },
 "nbformat": 4,
 "nbformat_minor": 5
}
