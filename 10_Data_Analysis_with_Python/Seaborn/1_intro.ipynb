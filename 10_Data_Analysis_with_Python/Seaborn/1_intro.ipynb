{
 "cells": [
  {
   "cell_type": "markdown",
   "id": "1f18be45",
   "metadata": {},
   "source": [
    "### Data Visualization With Seaborn\n",
    "Seaborn is a Python visualization library based on Matplotlib tht provides a high-level interface for drawing attractive and informative statistical graphics. Seaborn  helps in creating complex visualization with just a few lines of code"
   ]
  },
  {
   "cell_type": "markdown",
   "id": "d6d3f9ff",
   "metadata": {},
   "source": []
  }
 ],
 "metadata": {
  "language_info": {
   "name": "python"
  }
 },
 "nbformat": 4,
 "nbformat_minor": 5
}
