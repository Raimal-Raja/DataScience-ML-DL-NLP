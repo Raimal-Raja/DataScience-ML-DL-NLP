{
 "cells": [
  {
   "cell_type": "markdown",
   "id": "6c781ee2",
   "metadata": {},
   "source": [
    "### Generator\n",
    "Generators are a simpler way to create iterators. They use the yield keyword to produce a series of values lazily.\n",
    "which means they generate values on the fly and do not store them in memory"
   ]
  },
  {
   "cell_type": "code",
   "execution_count": 14,
   "id": "1e7ad30f",
   "metadata": {},
   "outputs": [],
   "source": [
    "def sqaure(a):\n",
    "    for  i in range(3):\n",
    "        # return i**2\n",
    "        yield i**2\n",
    "a = sqaure(3)"
   ]
  },
  {
   "cell_type": "code",
   "execution_count": 15,
   "id": "e8cfaf48",
   "metadata": {},
   "outputs": [
    {
     "name": "stdout",
     "output_type": "stream",
     "text": [
      "0\n",
      "1\n",
      "4\n"
     ]
    }
   ],
   "source": [
    "for i in sqaure(3):\n",
    "    print(i)"
   ]
  },
  {
   "cell_type": "code",
   "execution_count": 20,
   "id": "00afcdda",
   "metadata": {},
   "outputs": [
    {
     "name": "stdout",
     "output_type": "stream",
     "text": [
      "Out of iteration\n"
     ]
    }
   ],
   "source": [
    "try:\n",
    "    next(a)\n",
    "\n",
    "except StopIteration:\n",
    "    print(\"Out of iteration\")"
   ]
  },
  {
   "cell_type": "code",
   "execution_count": 29,
   "id": "928be382",
   "metadata": {},
   "outputs": [],
   "source": [
    "def my_generator():\n",
    "    yield  1\n",
    "    yield  2\n",
    "    yield  3\n",
    "    \n",
    "gen = my_generator()\n",
    "    "
   ]
  },
  {
   "cell_type": "code",
   "execution_count": 34,
   "id": "77d38f2b",
   "metadata": {},
   "outputs": [
    {
     "ename": "StopIteration",
     "evalue": "",
     "output_type": "error",
     "traceback": [
      "\u001b[31m---------------------------------------------------------------------------\u001b[39m",
      "\u001b[31mStopIteration\u001b[39m                             Traceback (most recent call last)",
      "\u001b[36mCell\u001b[39m\u001b[36m \u001b[39m\u001b[32mIn[34]\u001b[39m\u001b[32m, line 1\u001b[39m\n\u001b[32m----> \u001b[39m\u001b[32m1\u001b[39m \u001b[38;5;28;43mnext\u001b[39;49m\u001b[43m(\u001b[49m\u001b[43mgen\u001b[49m\u001b[43m)\u001b[49m\n",
      "\u001b[31mStopIteration\u001b[39m: "
     ]
    }
   ],
   "source": [
    "next(gen)"
   ]
  }
 ],
 "metadata": {
  "kernelspec": {
   "display_name": ".venv",
   "language": "python",
   "name": "python3"
  },
  "language_info": {
   "codemirror_mode": {
    "name": "ipython",
    "version": 3
   },
   "file_extension": ".py",
   "mimetype": "text/x-python",
   "name": "python",
   "nbconvert_exporter": "python",
   "pygments_lexer": "ipython3",
   "version": "3.12.3"
  }
 },
 "nbformat": 4,
 "nbformat_minor": 5
}
