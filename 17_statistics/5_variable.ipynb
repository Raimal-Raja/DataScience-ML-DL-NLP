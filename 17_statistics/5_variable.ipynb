{
 "cells": [
  {
   "cell_type": "markdown",
   "id": "5861c91f",
   "metadata": {},
   "source": [
    "### Variable\n",
    "Variable is  a property that can take  up any value\n",
    "age = 34\n",
    "ages = [12,242,343]"
   ]
  },
  {
   "cell_type": "markdown",
   "id": "db9fc9eb",
   "metadata": {},
   "source": [
    "Gender can be male or female"
   ]
  },
  {
   "cell_type": "markdown",
   "id": "2c1d9368",
   "metadata": {},
   "source": [
    "### Types of variable"
   ]
  },
  {
   "cell_type": "markdown",
   "id": "897e367f",
   "metadata": {},
   "source": [
    "1 Quantitativr Variable"
   ]
  },
  {
   "cell_type": "markdown",
   "id": "47146191",
   "metadata": {},
   "source": [
    "2 Categorical/Qualitative Variable"
   ]
  },
  {
   "cell_type": "markdown",
   "id": "a6737306",
   "metadata": {},
   "source": [
    "1 - Quantitative Variable > 1 Discrete Quantitative, 2  Continues Quantitative"
   ]
  },
  {
   "cell_type": "markdown",
   "id": "0cfc7451",
   "metadata": {},
   "source": []
  }
 ],
 "metadata": {
  "language_info": {
   "name": "python"
  }
 },
 "nbformat": 4,
 "nbformat_minor": 5
}
