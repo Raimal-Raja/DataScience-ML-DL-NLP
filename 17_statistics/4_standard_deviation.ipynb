{
 "cells": [
  {
   "cell_type": "markdown",
   "id": "26339ac0",
   "metadata": {},
   "source": [
    "### Standard Deviation"
   ]
  }
 ],
 "metadata": {
  "language_info": {
   "name": "python"
  }
 },
 "nbformat": 4,
 "nbformat_minor": 5
}
