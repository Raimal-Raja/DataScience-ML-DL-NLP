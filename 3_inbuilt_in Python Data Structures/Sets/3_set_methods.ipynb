{
 "cells": [
  {
   "cell_type": "code",
   "execution_count": 2,
   "id": "1375e4b3",
   "metadata": {},
   "outputs": [
    {
     "name": "stdout",
     "output_type": "stream",
     "text": [
      "False\n"
     ]
    }
   ],
   "source": [
    "## .issubset()\n",
    "set1 =  {1,2,3,4,5,6,7}\n",
    "set2 = {1,2,3,4}\n",
    "\n",
    "print(set1.issubset(set2))"
   ]
  },
  {
   "cell_type": "code",
   "execution_count": 3,
   "id": "f5ff77a2",
   "metadata": {},
   "outputs": [
    {
     "name": "stdout",
     "output_type": "stream",
     "text": [
      "True\n"
     ]
    }
   ],
   "source": [
    "print(set1.issuperset(set2))"
   ]
  },
  {
   "cell_type": "code",
   "execution_count": 9,
   "id": "843f05e3",
   "metadata": {},
   "outputs": [],
   "source": [
    "## remove duplicates from list\n",
    "list = [1,2,3,4,5,5]\n",
    "# convert list into set\n",
    "removed_duplicates = set(list)"
   ]
  },
  {
   "cell_type": "code",
   "execution_count": 10,
   "id": "8a56e591",
   "metadata": {},
   "outputs": [
    {
     "data": {
      "text/plain": [
       "{1, 2, 3, 4, 5}"
      ]
     },
     "execution_count": 10,
     "metadata": {},
     "output_type": "execute_result"
    }
   ],
   "source": [
    "removed_duplicates"
   ]
  },
  {
   "cell_type": "code",
   "execution_count": null,
   "id": "9a18f5ba",
   "metadata": {},
   "outputs": [],
   "source": []
  }
 ],
 "metadata": {
  "kernelspec": {
   "display_name": ".venv",
   "language": "python",
   "name": "python3"
  },
  "language_info": {
   "codemirror_mode": {
    "name": "ipython",
    "version": 3
   },
   "file_extension": ".py",
   "mimetype": "text/x-python",
   "name": "python",
   "nbconvert_exporter": "python",
   "pygments_lexer": "ipython3",
   "version": "3.12.3"
  }
 },
 "nbformat": 4,
 "nbformat_minor": 5
}
