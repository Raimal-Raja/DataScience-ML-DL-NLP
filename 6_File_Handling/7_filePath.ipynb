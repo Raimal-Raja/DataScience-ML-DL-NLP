{
 "cells": [
  {
   "cell_type": "code",
   "execution_count": 2,
   "id": "11bc7348",
   "metadata": {},
   "outputs": [],
   "source": [
    "import os"
   ]
  },
  {
   "cell_type": "code",
   "execution_count": 3,
   "id": "e9f9db85",
   "metadata": {},
   "outputs": [
    {
     "name": "stdout",
     "output_type": "stream",
     "text": [
      "c:\\Users\\Professor\\Desktop\\Programming\\DataScience-ML-DL-NLP-Projects&Practice\\6_File_Handling\n"
     ]
    }
   ],
   "source": [
    "cwd = os.getcwd()\n",
    "print(cwd)"
   ]
  },
  {
   "cell_type": "code",
   "execution_count": 4,
   "id": "74c6a014",
   "metadata": {},
   "outputs": [],
   "source": [
    "#create a new  directory\n",
    "# new_directory =  'package'\n",
    "# os.mkdir(new_directory)\n",
    "# print(f\"Directory  '{new_directory}' created\")\n"
   ]
  },
  {
   "cell_type": "code",
   "execution_count": 7,
   "id": "0b8897d0",
   "metadata": {},
   "outputs": [
    {
     "name": "stdout",
     "output_type": "stream",
     "text": [
      "['1_fileOperation.ipynb', '2_file_writing_overwritiing.ipynb', '3_write_file_without_overWriting.ipynb', '4_write_multiple_lines.ipynb', '5_binary_file_handling.ipynb', '6_practice.ipynb', '7_filePath.ipynb', 'destination.txt', 'example', 'example.txt', 'example1.txt', 'example2.txt', 'example3.bin']\n"
     ]
    }
   ],
   "source": [
    "## listing files and directories\n",
    "items = os.listdir('.')\n",
    "print(items)"
   ]
  },
  {
   "cell_type": "code",
   "execution_count": 8,
   "id": "725f6eaf",
   "metadata": {},
   "outputs": [
    {
     "name": "stdout",
     "output_type": "stream",
     "text": [
      "folder\\file.txt\n"
     ]
    }
   ],
   "source": [
    "## joinning path\n",
    "direct_name = 'folder'\n",
    "file_name = 'file.txt'\n",
    "full_path = os.path.join(direct_name,file_name)\n",
    "print(full_path)"
   ]
  },
  {
   "cell_type": "code",
   "execution_count": 9,
   "id": "76980e47",
   "metadata": {},
   "outputs": [
    {
     "name": "stdout",
     "output_type": "stream",
     "text": [
      "c:\\Users\\Professor\\Desktop\\Programming\\DataScience-ML-DL-NLP-Projects&Practice\\6_File_Handling\\folder\\file.txt\n"
     ]
    }
   ],
   "source": [
    "direct_name = 'folder'\n",
    "file_name = 'file.txt'\n",
    "full_path = os.path.join(os.getcwd(), direct_name,file_name)\n",
    "print(full_path)"
   ]
  },
  {
   "cell_type": "code",
   "execution_count": 10,
   "id": "0982a096",
   "metadata": {},
   "outputs": [
    {
     "name": "stdout",
     "output_type": "stream",
     "text": [
      "The file 'example.txt' does exists\n"
     ]
    }
   ],
   "source": [
    "path='example.txt'\n",
    "if os.path.exists(path):\n",
    "    print(f\"The file '{path}' does exists\")\n",
    "else:\n",
    "    print(f\"The file '{path}' does'nt exists\")"
   ]
  },
  {
   "cell_type": "code",
   "execution_count": 12,
   "id": "9303967a",
   "metadata": {},
   "outputs": [
    {
     "name": "stdout",
     "output_type": "stream",
     "text": [
      "The path 'example.txt' is a file\n"
     ]
    }
   ],
   "source": [
    "## Checking if a path is file or directory\n",
    "if os.path.isfile(path):\n",
    "    print(f\"The path '{path}' is a file\")\n",
    "elif os.path.isdir(path):\n",
    "    print(f\"The path '{path}' is a directory\")\n",
    "else:\n",
    "    print(f\"This '{path}' neither a file nor directory\")\n",
    "\n"
   ]
  },
  {
   "cell_type": "code",
   "execution_count": null,
   "id": "97ae6514",
   "metadata": {},
   "outputs": [],
   "source": []
  }
 ],
 "metadata": {
  "kernelspec": {
   "display_name": ".venv",
   "language": "python",
   "name": "python3"
  },
  "language_info": {
   "codemirror_mode": {
    "name": "ipython",
    "version": 3
   },
   "file_extension": ".py",
   "mimetype": "text/x-python",
   "name": "python",
   "nbconvert_exporter": "python",
   "pygments_lexer": "ipython3",
   "version": "3.12.3"
  }
 },
 "nbformat": 4,
 "nbformat_minor": 5
}
