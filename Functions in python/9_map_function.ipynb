{
 "cells": [
  {
   "cell_type": "markdown",
   "id": "e9949fe1",
   "metadata": {},
   "source": [
    "### The map() functions in python\n",
    "\n",
    "The map() function applies a given function to ll ite,s in an input list (or any other iterable) and returns a map object (an iterator). This is particularly usefull for transforming data in a list comprehensively."
   ]
  },
  {
   "cell_type": "code",
   "execution_count": 1,
   "id": "1be52297",
   "metadata": {},
   "outputs": [
    {
     "data": {
      "text/plain": [
       "9"
      ]
     },
     "execution_count": 1,
     "metadata": {},
     "output_type": "execute_result"
    }
   ],
   "source": [
    "def square(x):\n",
    "    return x*x\n",
    "\n",
    "square(3)"
   ]
  },
  {
   "cell_type": "code",
   "execution_count": 5,
   "id": "eec21acf",
   "metadata": {},
   "outputs": [
    {
     "data": {
      "text/plain": [
       "[1, 4, 9, 16, 25, 36]"
      ]
     },
     "execution_count": 5,
     "metadata": {},
     "output_type": "execute_result"
    }
   ],
   "source": [
    "num = [1,2,3,4,5,6]\n",
    "map(square, num) # map usually take two parameter input, 1 function name, 2 iterable\n",
    "\n",
    "# it will return map object values\n",
    "# you need to convert into iterable data structure, output of this function\n",
    "\n",
    "list(map(square, num))\n"
   ]
  },
  {
   "cell_type": "markdown",
   "id": "0d4f42dd",
   "metadata": {},
   "source": [
    "### lambda function with map"
   ]
  },
  {
   "cell_type": "code",
   "execution_count": 6,
   "id": "6d5019de",
   "metadata": {},
   "outputs": [
    {
     "data": {
      "text/plain": [
       "[1, 4, 9, 16, 25, 36]"
      ]
     },
     "execution_count": 6,
     "metadata": {},
     "output_type": "execute_result"
    }
   ],
   "source": [
    "num =  [1,2,3,4,5, 6]\n",
    "list(map(lambda x: x*x, num))\n",
    "\n",
    "\n"
   ]
  },
  {
   "cell_type": "markdown",
   "id": "236a498f",
   "metadata": {},
   "source": [
    "### Map multiple iterables\n"
   ]
  },
  {
   "cell_type": "code",
   "execution_count": 13,
   "id": "152d8c56",
   "metadata": {},
   "outputs": [
    {
     "name": "stdout",
     "output_type": "stream",
     "text": [
      "[6, 8, 10, 12]\n"
     ]
    }
   ],
   "source": [
    "## Map multiple iterable\n",
    "num1 = [1,2,3,4]\n",
    "num2 = [5,6,7,8]\n",
    "\n",
    "add_number_two_iterable = list(map(lambda x,y:x+y, num1,num2))\n",
    "print(add_number_two_iterable)\n"
   ]
  },
  {
   "cell_type": "code",
   "execution_count": 15,
   "id": "c2d7d146",
   "metadata": {},
   "outputs": [
    {
     "name": "stdout",
     "output_type": "stream",
     "text": [
      "[1, 2, 3, 4]\n"
     ]
    }
   ],
   "source": [
    "##  map() convert list of strig to integers\n",
    "str_num3 = ['1','2','3','4']\n",
    "int_num4 = list(map(int, str_num3))\n",
    "print(int_num4)"
   ]
  },
  {
   "cell_type": "code",
   "execution_count": 16,
   "id": "4bf25468",
   "metadata": {},
   "outputs": [
    {
     "name": "stdout",
     "output_type": "stream",
     "text": [
      "['APPLE', 'BANANA', 'CHERRY']\n"
     ]
    }
   ],
   "source": [
    "words = ['apple', 'banana', 'cherry']\n",
    "upper_word = list(map(str.upper, words))\n",
    "print(upper_word)"
   ]
  },
  {
   "cell_type": "code",
   "execution_count": null,
   "id": "780d4a8a",
   "metadata": {},
   "outputs": [
    {
     "data": {
      "text/plain": [
       "['Raimal', 'Raja']"
      ]
     },
     "execution_count": 17,
     "metadata": {},
     "output_type": "execute_result"
    }
   ],
   "source": [
    "## pass iterable to function\n",
    "def get_name(person):\n",
    "    return person['name']\n",
    "\n",
    "people = [\n",
    "    {'name':'Raimal','age': 20},\n",
    "    {'name' :'Raja','age': 23}\n",
    "]\n",
    "list(map(get_name, people))"
   ]
  },
  {
   "cell_type": "code",
   "execution_count": null,
   "id": "ed52808f",
   "metadata": {},
   "outputs": [],
   "source": []
  }
 ],
 "metadata": {
  "kernelspec": {
   "display_name": ".venv",
   "language": "python",
   "name": "python3"
  },
  "language_info": {
   "codemirror_mode": {
    "name": "ipython",
    "version": 3
   },
   "file_extension": ".py",
   "mimetype": "text/x-python",
   "name": "python",
   "nbconvert_exporter": "python",
   "pygments_lexer": "ipython3",
   "version": "3.12.3"
  }
 },
 "nbformat": 4,
 "nbformat_minor": 5
}
