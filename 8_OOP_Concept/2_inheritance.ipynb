{
 "cells": [
  {
   "cell_type": "markdown",
   "id": "ddc88fe8",
   "metadata": {},
   "source": [
    "### Inheritance in python\n",
    "Inheritance is a fundamental concept in Object-Oriented Programming (OOP) that allows a class to inherit attributes and methods from another class. This lesson covers single inheritance and multiple inheritance, demonstrating how to create and use them in Python"
   ]
  },
  {
   "cell_type": "code",
   "execution_count": null,
   "id": "2a0f4050",
   "metadata": {},
   "outputs": [],
   "source": [
    "## Inheritance (single inheritance)\n",
    "## Parent Class\n",
    "class Car:\n",
    "    def __init__(self, windows, door ,enginetype):\n",
    "        self.windows = windows\n",
    "        self.door = door\n",
    "        self.enginetype = enginetype\n",
    "        \n",
    "    def drive(self):\n",
    "        print(f\"The person will drive the {self.enginetype} car\")"
   ]
  },
  {
   "cell_type": "code",
   "execution_count": 9,
   "id": "939a4ab1",
   "metadata": {},
   "outputs": [
    {
     "name": "stdout",
     "output_type": "stream",
     "text": [
      "The person will drive the patrol car\n"
     ]
    }
   ],
   "source": [
    "car1 = Car(4,5,'patrol')\n",
    "car1.drive()"
   ]
  },
  {
   "cell_type": "code",
   "execution_count": 14,
   "id": "dce81e37",
   "metadata": {},
   "outputs": [],
   "source": [
    "class Tesla(Car):\n",
    "    def  __init__(self, windows, door, engtype, is_selfdriving):\n",
    "        super().__init__(windows, door, engtype)\n",
    "        self.is_selfdriving = is_selfdriving\n",
    "    \n",
    "    def selfdriving(self):\n",
    "        print(f\"tesla supporst self driving: {self.is_selfdriving}\")\n",
    "        \n",
    "     \n",
    "        \n"
   ]
  },
  {
   "cell_type": "code",
   "execution_count": 17,
   "id": "b8dc1a1c",
   "metadata": {},
   "outputs": [
    {
     "name": "stdout",
     "output_type": "stream",
     "text": [
      "tesla supporst self driving: True\n",
      "None\n"
     ]
    }
   ],
   "source": [
    "tesla1= Tesla(1,2,'electric', True)\n",
    "print(tesla1.selfdriving())"
   ]
  },
  {
   "cell_type": "code",
   "execution_count": 18,
   "id": "4cb9c1b2",
   "metadata": {},
   "outputs": [
    {
     "name": "stdout",
     "output_type": "stream",
     "text": [
      "The person will drive the electric car\n"
     ]
    }
   ],
   "source": [
    "tesla1.drive()"
   ]
  },
  {
   "cell_type": "code",
   "execution_count": null,
   "id": "5c1dd6c0",
   "metadata": {},
   "outputs": [
    {
     "name": "stdout",
     "output_type": "stream",
     "text": [
      "buddy say woof\n"
     ]
    }
   ],
   "source": [
    "## Multiple Inheritance\n",
    "## When a class inherits from more than one base class\n",
    "class Animal:\n",
    "    def __init__(self,name):\n",
    "        self.name = name\n",
    "    def speak(self):\n",
    "        print(\"Subclass must implement this method\")\n",
    "    \n",
    "## Base class 2\n",
    "class Pet:\n",
    "    def __init__(self, owner):\n",
    "        self.owner = owner\n",
    "\n",
    "## drived class\n",
    "class Dog(Animal, Pet):\n",
    "    def __init__(self, name, owner):\n",
    "        Animal.__init__(self, name)\n",
    "        Pet.__init__(self, owner)\n",
    "        \n",
    "    def speak(self):\n",
    "        return f'{self.name} say woof'\n",
    "\n",
    "\n",
    "## create an object\n",
    "dog = Dog('buddy', 'Raimal')\n",
    "print(dog.speak())\n",
    "print(f'owner: {dog.owner}')"
   ]
  },
  {
   "cell_type": "code",
   "execution_count": null,
   "id": "b12604e6",
   "metadata": {},
   "outputs": [],
   "source": []
  }
 ],
 "metadata": {
  "kernelspec": {
   "display_name": ".venv",
   "language": "python",
   "name": "python3"
  },
  "language_info": {
   "codemirror_mode": {
    "name": "ipython",
    "version": 3
   },
   "file_extension": ".py",
   "mimetype": "text/x-python",
   "name": "python",
   "nbconvert_exporter": "python",
   "pygments_lexer": "ipython3",
   "version": "3.12.3"
  }
 },
 "nbformat": 4,
 "nbformat_minor": 5
}
