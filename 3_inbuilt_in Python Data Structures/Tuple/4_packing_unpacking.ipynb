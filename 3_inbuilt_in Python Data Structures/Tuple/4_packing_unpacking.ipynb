{
 "cells": [
  {
   "cell_type": "code",
   "execution_count": null,
   "id": "ec3e2556",
   "metadata": {},
   "outputs": [
    {
     "name": "stdout",
     "output_type": "stream",
     "text": [
      "(1, 'hello', 1.2)\n"
     ]
    }
   ],
   "source": [
    "# packing tuple\n",
    "packed_tupe = 1,\"hello\", 1.2\n",
    "print(packed_tupe)"
   ]
  },
  {
   "cell_type": "code",
   "execution_count": 6,
   "id": "6dd306a7",
   "metadata": {},
   "outputs": [
    {
     "name": "stdout",
     "output_type": "stream",
     "text": [
      "1\n",
      "hello\n",
      "1.2\n"
     ]
    }
   ],
   "source": [
    "#  unpacking\n",
    "a,b,c = packed_tupe\n",
    "print(a)\n",
    "print(b)\n",
    "print(c)"
   ]
  },
  {
   "cell_type": "code",
   "execution_count": 7,
   "id": "c290681d",
   "metadata": {},
   "outputs": [
    {
     "name": "stdout",
     "output_type": "stream",
     "text": [
      "1\n",
      "[2, 3, 4]\n",
      "4\n"
     ]
    }
   ],
   "source": [
    "num = (1,2,3,4,4)\n",
    "first, *middle, last = num\n",
    "print(first)\n",
    "print(middle)\n",
    "print(last)"
   ]
  },
  {
   "cell_type": "code",
   "execution_count": 8,
   "id": "ff6fc026",
   "metadata": {},
   "outputs": [
    {
     "data": {
      "text/plain": [
       "[1, 2, 3]"
      ]
     },
     "execution_count": 8,
     "metadata": {},
     "output_type": "execute_result"
    }
   ],
   "source": [
    "nested_list = [[1,2,3,4,5],[6,7,8,9,10], [11,12,13,14,16]]\n",
    "nested_list[0][0:3]"
   ]
  },
  {
   "cell_type": "code",
   "execution_count": 10,
   "id": "a4756f9b",
   "metadata": {},
   "outputs": [
    {
     "data": {
      "text/plain": [
       "[3]"
      ]
     },
     "execution_count": 10,
     "metadata": {},
     "output_type": "execute_result"
    }
   ],
   "source": [
    "list = [[1,2,3,4,5],[6,7,8,9,10], (1,\"Hello\", 3.3)]\n",
    "nested_list[0][2:3]"
   ]
  },
  {
   "cell_type": "code",
   "execution_count": null,
   "id": "a9940e0a",
   "metadata": {},
   "outputs": [],
   "source": []
  }
 ],
 "metadata": {
  "kernelspec": {
   "display_name": ".venv",
   "language": "python",
   "name": "python3"
  },
  "language_info": {
   "codemirror_mode": {
    "name": "ipython",
    "version": 3
   },
   "file_extension": ".py",
   "mimetype": "text/x-python",
   "name": "python",
   "nbconvert_exporter": "python",
   "pygments_lexer": "ipython3",
   "version": "3.12.3"
  }
 },
 "nbformat": 4,
 "nbformat_minor": 5
}
