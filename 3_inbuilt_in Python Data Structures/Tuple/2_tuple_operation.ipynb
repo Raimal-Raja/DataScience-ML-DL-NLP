{
 "cells": [
  {
   "cell_type": "markdown",
   "id": "b59d1601",
   "metadata": {},
   "source": [
    "### Tupe Operation"
   ]
  },
  {
   "cell_type": "code",
   "execution_count": 1,
   "id": "19c6e892",
   "metadata": {},
   "outputs": [
    {
     "name": "stdout",
     "output_type": "stream",
     "text": [
      "(1, 2, 2, 3, 4, 1, 'Raimal', True, 23.2)\n"
     ]
    }
   ],
   "source": [
    "mix = (1, \"Raimal\", True, 23.2)\n",
    "num = (1,2,2,3,4)\n",
    "concatination = num + mix\n",
    "print(concatination)"
   ]
  },
  {
   "cell_type": "code",
   "execution_count": null,
   "id": "43eeeb9a",
   "metadata": {},
   "outputs": [],
   "source": []
  }
 ],
 "metadata": {
  "kernelspec": {
   "display_name": ".venv",
   "language": "python",
   "name": "python3"
  },
  "language_info": {
   "codemirror_mode": {
    "name": "ipython",
    "version": 3
   },
   "file_extension": ".py",
   "mimetype": "text/x-python",
   "name": "python",
   "nbconvert_exporter": "python",
   "pygments_lexer": "ipython3",
   "version": "3.12.3"
  }
 },
 "nbformat": 4,
 "nbformat_minor": 5
}
