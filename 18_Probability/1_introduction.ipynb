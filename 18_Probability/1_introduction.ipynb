{
 "cells": [
  {
   "cell_type": "markdown",
   "id": "08b21d3e",
   "metadata": {},
   "source": [
    "### Probability\n",
    "**1** - Introduction\n",
    "**2** - Addition Rule (For mutually exclusive event)\n",
    "**3** - Additon Rule (for non mutually exclusive event)\n",
    "**4** - Multiplication Rule (Independent & Dependen event)"
   ]
  },
  {
   "cell_type": "markdown",
   "id": "01db1ace",
   "metadata": {},
   "source": [
    "### 1- Probability:\n",
    "It is about determinig the likelihood of an event/ experiement"
   ]
  },
  {
   "cell_type": "markdown",
   "id": "115029aa",
   "metadata": {},
   "source": [
    "### Mutual exclusive\n",
    "Two event are Mutual exclusive if they cannot occur at the same time\n",
    "Ex; Tossing a coin\n",
    "we can not have head and tail at same time"
   ]
  },
  {
   "cell_type": "markdown",
   "id": "9fc336fc",
   "metadata": {},
   "source": [
    "### Non mutual Exclusive Event\n",
    "Taking a card from the deck\n",
    "two event occur at a time"
   ]
  }
 ],
 "metadata": {
  "language_info": {
   "name": "python"
  }
 },
 "nbformat": 4,
 "nbformat_minor": 5
}
