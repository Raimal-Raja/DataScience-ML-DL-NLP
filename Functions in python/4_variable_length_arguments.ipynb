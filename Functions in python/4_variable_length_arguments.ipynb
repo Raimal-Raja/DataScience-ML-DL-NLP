{
 "cells": [
  {
   "cell_type": "markdown",
   "id": "02725a36",
   "metadata": {},
   "source": [
    "### Positional and Keyword Arguments"
   ]
  },
  {
   "cell_type": "code",
   "execution_count": 2,
   "id": "ac29c91f",
   "metadata": {},
   "outputs": [
    {
     "name": "stdout",
     "output_type": "stream",
     "text": [
      "1\n",
      "2\n",
      "3\n",
      "4\n",
      "5\n",
      "6\n",
      "7\n",
      "Raimal\n"
     ]
    }
   ],
   "source": [
    "def print_number(*args):\n",
    "    for number in args:\n",
    "        print(number)\n",
    "        \n",
    "print_number(1,2,3,4,5,6,7,'Raimal') # positional arguments"
   ]
  },
  {
   "cell_type": "code",
   "execution_count": null,
   "id": "d8210950",
   "metadata": {},
   "outputs": [
    {
     "name": "stdout",
     "output_type": "stream",
     "text": [
      "name: raimal\n",
      "age: 20\n",
      "roll: 49\n"
     ]
    }
   ],
   "source": [
    "### Keyword arguments\n",
    "\n",
    "def print_number(**kwargs):\n",
    "    for key, value  in kwargs.items():\n",
    "        print(f'{key}: {value}')\n",
    "        \n",
    "print_number(name= 'raimal', age=20, roll=49) # keyword arguments"
   ]
  },
  {
   "cell_type": "code",
   "execution_count": null,
   "id": "052acdda",
   "metadata": {},
   "outputs": [],
   "source": []
  }
 ],
 "metadata": {
  "kernelspec": {
   "display_name": ".venv",
   "language": "python",
   "name": "python3"
  },
  "language_info": {
   "codemirror_mode": {
    "name": "ipython",
    "version": 3
   },
   "file_extension": ".py",
   "mimetype": "text/x-python",
   "name": "python",
   "nbconvert_exporter": "python",
   "pygments_lexer": "ipython3",
   "version": "3.12.3"
  }
 },
 "nbformat": 4,
 "nbformat_minor": 5
}
