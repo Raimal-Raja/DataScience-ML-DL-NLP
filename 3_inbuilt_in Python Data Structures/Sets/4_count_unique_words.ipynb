{
 "cells": [
  {
   "cell_type": "code",
   "execution_count": 1,
   "id": "ea56749f",
   "metadata": {},
   "outputs": [
    {
     "name": "stdout",
     "output_type": "stream",
     "text": [
      "{'is', 'this', 'great', 'my', 'first', 'Hello', 'program,', 'which'}\n",
      "8\n"
     ]
    }
   ],
   "source": [
    "### count the unique word in a string\n",
    "text = \"Hello this is my first program, which is great\"\n",
    "\n",
    "# first convert text to list\n",
    "words = text.split()\n",
    "\n",
    "# now count words\n",
    "unique_words =  set(words)\n",
    "print(unique_words)\n",
    "print(len(unique_words))"
   ]
  },
  {
   "cell_type": "code",
   "execution_count": null,
   "id": "e3400ea2",
   "metadata": {},
   "outputs": [],
   "source": []
  }
 ],
 "metadata": {
  "kernelspec": {
   "display_name": ".venv",
   "language": "python",
   "name": "python3"
  },
  "language_info": {
   "codemirror_mode": {
    "name": "ipython",
    "version": 3
   },
   "file_extension": ".py",
   "mimetype": "text/x-python",
   "name": "python",
   "nbconvert_exporter": "python",
   "pygments_lexer": "ipython3",
   "version": "3.12.3"
  }
 },
 "nbformat": 4,
 "nbformat_minor": 5
}
