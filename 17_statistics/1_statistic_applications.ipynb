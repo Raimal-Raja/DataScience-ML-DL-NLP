{
 "cells": [
  {
   "cell_type": "markdown",
   "id": "c9ce3d14",
   "metadata": {},
   "source": [
    "#### What is statistic and its application?\n",
    "Statistics is a field that deals with collection, organization, analysis, interpretation, and presentation of data"
   ]
  },
  {
   "cell_type": "markdown",
   "id": "e9e28d23",
   "metadata": {},
   "source": [
    "Decision Making"
   ]
  },
  {
   "cell_type": "markdown",
   "id": "a4166dfa",
   "metadata": {},
   "source": [
    "### statistical decision\n",
    "decision based on some data is called statistical decision"
   ]
  },
  {
   "cell_type": "markdown",
   "id": "241f4353",
   "metadata": {},
   "source": [
    "### Applications\n",
    "1 - Every one uses it\n",
    "2 - Machine learning\n",
    "3 - Data Analyst\n",
    "4 - Business Analyst\n",
    "5 - Risk Analyst\n",
    "6 - House wife\n",
    "7 - in every domain of field"
   ]
  }
 ],
 "metadata": {
  "language_info": {
   "name": "python"
  }
 },
 "nbformat": 4,
 "nbformat_minor": 5
}
