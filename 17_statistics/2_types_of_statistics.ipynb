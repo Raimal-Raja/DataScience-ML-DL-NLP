{
 "cells": [
  {
   "cell_type": "markdown",
   "id": "11bb4610",
   "metadata": {},
   "source": [
    "### Types of Statistic\n",
    "1 - Descriptive\n",
    "2 - Inferential"
   ]
  },
  {
   "cell_type": "markdown",
   "id": "fff85a5f",
   "metadata": {},
   "source": [
    "### 1 -  Descriptive\n",
    "it consists of organizing and summerizing of data\n"
   ]
  },
  {
   "cell_type": "markdown",
   "id": "e7d10781",
   "metadata": {},
   "source": [
    "### Techniques\n",
    "1 -  Measure of central tendency( mean, median, mode)\n",
    "2 -  Measure of Dispursion (Variance, Standard Deviation)"
   ]
  },
  {
   "cell_type": "markdown",
   "id": "a029eee7",
   "metadata": {},
   "source": [
    "### 2 -  Inferential Statistics\n",
    "collect data > conclusion or inferences using some experiment\n",
    "(z-test, t-test)"
   ]
  }
 ],
 "metadata": {
  "language_info": {
   "name": "python"
  }
 },
 "nbformat": 4,
 "nbformat_minor": 5
}
