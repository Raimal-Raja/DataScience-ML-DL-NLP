{
 "cells": [
  {
   "cell_type": "markdown",
   "id": "758070d2",
   "metadata": {},
   "source": [
    "### Memory management in Python involves a combination of automatic garbage collection, reference counting, and values internal optimizations to efficiently manage memory allocation and deallocation. Understanding these mechanisms can help developers write more efficient and robust applications.\n",
    "\n",
    "**1.** Key Concepts in Python Memory Management\n",
    "2 Memory allocation and deallocation\n",
    "3 Reference Counting\n",
    "4 Garbage Collection\n",
    "5 The gc Module\n",
    "6 Memory Management Best Practice"
   ]
  },
  {
   "cell_type": "markdown",
   "id": "fa440609",
   "metadata": {},
   "source": [
    "### Reference Counting\n",
    "Reference counting is primary method Python uses to manage memory. Each object in python maintains a count of references pointing to it. When the reference count drops to zero, the memory occupied by the object is deallocated\n"
   ]
  },
  {
   "cell_type": "code",
   "execution_count": 5,
   "id": "8ecf47ce",
   "metadata": {},
   "outputs": [
    {
     "name": "stdout",
     "output_type": "stream",
     "text": [
      "2\n"
     ]
    }
   ],
   "source": [
    "## Reference counting\n",
    "import sys\n",
    "\n",
    "a = []\n",
    "print(sys.getrefcount(a))\n"
   ]
  },
  {
   "cell_type": "code",
   "execution_count": 6,
   "id": "0ac482c0",
   "metadata": {},
   "outputs": [
    {
     "name": "stdout",
     "output_type": "stream",
     "text": [
      "3\n"
     ]
    }
   ],
   "source": [
    "b = a\n",
    "print(sys.getrefcount(b))"
   ]
  },
  {
   "cell_type": "code",
   "execution_count": 7,
   "id": "b3c8430a",
   "metadata": {},
   "outputs": [
    {
     "name": "stdout",
     "output_type": "stream",
     "text": [
      "2\n"
     ]
    }
   ],
   "source": [
    "del b\n",
    "print(sys.getrefcount(a))"
   ]
  },
  {
   "cell_type": "code",
   "execution_count": null,
   "id": "c8f68a2f",
   "metadata": {},
   "outputs": [],
   "source": []
  }
 ],
 "metadata": {
  "kernelspec": {
   "display_name": ".venv",
   "language": "python",
   "name": "python3"
  },
  "language_info": {
   "codemirror_mode": {
    "name": "ipython",
    "version": 3
   },
   "file_extension": ".py",
   "mimetype": "text/x-python",
   "name": "python",
   "nbconvert_exporter": "python",
   "pygments_lexer": "ipython3",
   "version": "3.12.3"
  }
 },
 "nbformat": 4,
 "nbformat_minor": 5
}
