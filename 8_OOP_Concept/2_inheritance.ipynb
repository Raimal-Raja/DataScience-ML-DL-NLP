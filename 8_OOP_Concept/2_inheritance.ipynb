{
 "cells": [
  {
   "cell_type": "markdown",
   "id": "ddc88fe8",
   "metadata": {},
   "source": [
    "### Inheritance in python\n",
    "Inheritance is a fundamental concept in Object-Oriented Programming (OOP) that allows a class to inherit attributes and methods from another class. This lesson covers single inheritance and multiple inheritance, demonstrating how to create and use them in Python"
   ]
  },
  {
   "cell_type": "code",
   "execution_count": 7,
   "id": "2a0f4050",
   "metadata": {},
   "outputs": [],
   "source": [
    "## Inheritance\n",
    "## Parent Class\n",
    "class Car:\n",
    "    def __init__(self, windows, door ,enginetype):\n",
    "        self.windows = windows\n",
    "        self.door = door\n",
    "        self.enginetype = enginetype\n",
    "        \n",
    "    def drive(self):\n",
    "        print(f\"The person will drive the {self.enginetype} car\")"
   ]
  },
  {
   "cell_type": "code",
   "execution_count": 9,
   "id": "939a4ab1",
   "metadata": {},
   "outputs": [
    {
     "name": "stdout",
     "output_type": "stream",
     "text": [
      "The person will drive the patrol car\n"
     ]
    }
   ],
   "source": [
    "car1 = Car(4,5,'patrol')\n",
    "car1.drive()"
   ]
  },
  {
   "cell_type": "code",
   "execution_count": null,
   "id": "dce81e37",
   "metadata": {},
   "outputs": [],
   "source": [
    "\n"
   ]
  }
 ],
 "metadata": {
  "kernelspec": {
   "display_name": ".venv",
   "language": "python",
   "name": "python3"
  },
  "language_info": {
   "codemirror_mode": {
    "name": "ipython",
    "version": 3
   },
   "file_extension": ".py",
   "mimetype": "text/x-python",
   "name": "python",
   "nbconvert_exporter": "python",
   "pygments_lexer": "ipython3",
   "version": "3.12.3"
  }
 },
 "nbformat": 4,
 "nbformat_minor": 5
}
