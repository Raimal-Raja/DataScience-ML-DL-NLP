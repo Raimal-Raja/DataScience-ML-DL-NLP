{
 "cells": [
  {
   "cell_type": "markdown",
   "id": "ad99b340",
   "metadata": {},
   "source": [
    "### Example Code"
   ]
  },
  {
   "cell_type": "code",
   "execution_count": 3,
   "id": "65799fde",
   "metadata": {},
   "outputs": [
    {
     "name": "stdout",
     "output_type": "stream",
     "text": [
      "Why do we want intelligent terminals when there are so many stupid users?\n"
     ]
    }
   ],
   "source": [
    "import pyjokes\n",
    "joke = pyjokes.get_joke()\n",
    "print(joke)"
   ]
  },
  {
   "cell_type": "markdown",
   "id": "32ea43d6",
   "metadata": {},
   "source": [
    "### line continuation"
   ]
  },
  {
   "cell_type": "code",
   "execution_count": 11,
   "id": "51c3093a",
   "metadata": {},
   "outputs": [
    {
     "name": "stdout",
     "output_type": "stream",
     "text": [
      "9\n"
     ]
    }
   ],
   "source": [
    "sum = 1+3+\\\n",
    "    4+1\n",
    "\n",
    "print(sum)"
   ]
  },
  {
   "cell_type": "markdown",
   "id": "aef269bd",
   "metadata": {},
   "source": [
    "### Multiple Statement on Single"
   ]
  },
  {
   "cell_type": "code",
   "execution_count": 13,
   "id": "d8e1d6db",
   "metadata": {},
   "outputs": [
    {
     "name": "stdout",
     "output_type": "stream",
     "text": [
      "13\n"
     ]
    }
   ],
   "source": [
    "x = 3; y = 10; z = x+y\n",
    "print(z)"
   ]
  },
  {
   "cell_type": "markdown",
   "id": "9529c779",
   "metadata": {},
   "source": [
    "### Uderstanding Semantic in python"
   ]
  },
  {
   "cell_type": "code",
   "execution_count": 14,
   "id": "740cee82",
   "metadata": {},
   "outputs": [],
   "source": [
    "# variable assignment\n",
    "age = 32\n",
    "name = \"Raimal\" # name is a strin\n"
   ]
  },
  {
   "cell_type": "code",
   "execution_count": 18,
   "id": "09a013eb",
   "metadata": {},
   "outputs": [
    {
     "data": {
      "text/plain": [
       "str"
      ]
     },
     "execution_count": 18,
     "metadata": {},
     "output_type": "execute_result"
    }
   ],
   "source": [
    "# Type Inference\n",
    "type(name)"
   ]
  },
  {
   "cell_type": "code",
   "execution_count": 16,
   "id": "43d6a0d9",
   "metadata": {},
   "outputs": [
    {
     "data": {
      "text/plain": [
       "int"
      ]
     },
     "execution_count": 16,
     "metadata": {},
     "output_type": "execute_result"
    }
   ],
   "source": [
    "type(age)"
   ]
  },
  {
   "cell_type": "code",
   "execution_count": null,
   "id": "b7411a4d",
   "metadata": {},
   "outputs": [],
   "source": []
  }
 ],
 "metadata": {
  "kernelspec": {
   "display_name": ".venv",
   "language": "python",
   "name": "python3"
  },
  "language_info": {
   "codemirror_mode": {
    "name": "ipython",
    "version": 3
   },
   "file_extension": ".py",
   "mimetype": "text/x-python",
   "name": "python",
   "nbconvert_exporter": "python",
   "pygments_lexer": "ipython3",
   "version": "3.12.3"
  }
 },
 "nbformat": 4,
 "nbformat_minor": 5
}
