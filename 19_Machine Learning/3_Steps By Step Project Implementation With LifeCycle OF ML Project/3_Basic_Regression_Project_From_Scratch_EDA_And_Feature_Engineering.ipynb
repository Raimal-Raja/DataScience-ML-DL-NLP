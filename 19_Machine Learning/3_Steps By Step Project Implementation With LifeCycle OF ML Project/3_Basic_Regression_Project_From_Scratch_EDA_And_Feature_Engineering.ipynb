{
 "cells": [
  {
   "cell_type": "markdown",
   "id": "384ea281",
   "metadata": {},
   "source": [
    "### Algerian forest fires Dataset\n",
    "data set information:\n",
    "the dataset  includes  244 instance that  regroup a data of two regions of Algeria, namely the bejaia  region located in the northest of ALgeria and the sidi  bel-abbes locatedd in the northwest of Algeria.\n",
    "\n",
    "122 instance for each region\n",
    "\n",
    "the period from june 2012 to september 2012. the dataset  includes 11 attributes and 1 output attribute (class) the 244 instance have been classified into fire (138 classes) and not fire (106 classes) classes."
   ]
  },
  {
   "cell_type": "markdown",
   "id": "a778e76b",
   "metadata": {},
   "source": [
    "#### Attribute information:\n",
    "1 - date: (DDMMYYYY) day, month, year , (june to sept,  2012) Weather  observations\n",
    "2 - Temp: temperature noon (temperature max) in Celsius degrees: 22t0 42\n",
    "3 - WS: wind speed in km/h 6 to 29\n",
    "4 - RH : Relative Humidity in % 21 to 90\n",
    "5 - Rain: total day in mm: 0 to 16.8 FWI components\n",
    "6 - fine fuel mositure code (ffmc) index from the fWI system 28 to 92.5\n",
    "7 - duff moisture code (DMC) index from the FWI system: 1.1 to 65.9\n",
    "8 - drought code (DC) index from the  FWI system 0 to 18.5\n",
    "9 -  initail spread index (ISI) index from the FWI system 1.1 to 68\n",
    "11 - fire weather index (FWI) index  0 to 31.1\n",
    "12 - classes: two classes, namely fire and not  fire"
   ]
  },
  {
   "cell_type": "markdown",
   "id": "07a484e4",
   "metadata": {},
   "source": []
  }
 ],
 "metadata": {
  "language_info": {
   "name": "python"
  }
 },
 "nbformat": 4,
 "nbformat_minor": 5
}
