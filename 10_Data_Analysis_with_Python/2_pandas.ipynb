{
 "cells": [
  {
   "cell_type": "markdown",
   "id": "fa37bb6d",
   "metadata": {},
   "source": [
    "### Pandas - DataFrame and Series\n",
    "Pandas is a powerful  data manipulation library in Python, widely used for data analysis and data cleaning. it provides two primary data structure; Series and DataFrame. A Series is a one-dimensionl array-like object, while a DataFrame is a two-dimensional, size-mutable, and potentially heterogeneous tabular data structure with labeled axes (rows and columns)."
   ]
  },
  {
   "cell_type": "markdown",
   "id": "47fef466",
   "metadata": {},
   "source": [
    "### Series\n",
    "Pandas Series is a one-dimensional array-like object that can hold any data type. It is similar to a column in a table"
   ]
  },
  {
   "cell_type": "code",
   "execution_count": 3,
   "id": "0caf0a19",
   "metadata": {},
   "outputs": [],
   "source": [
    "import pandas as pd\n",
    "import numpy as np"
   ]
  },
  {
   "cell_type": "code",
   "execution_count": 4,
   "id": "514b9b0f",
   "metadata": {},
   "outputs": [
    {
     "name": "stdout",
     "output_type": "stream",
     "text": [
      "0    1\n",
      "1    2\n",
      "2    3\n",
      "3    4\n",
      "4    5\n",
      "dtype: int64\n"
     ]
    }
   ],
   "source": [
    "data = [1,2,3,4,5]\n",
    "series = pd.Series(data)\n",
    "print(series)"
   ]
  },
  {
   "cell_type": "code",
   "execution_count": 5,
   "id": "7e5d863b",
   "metadata": {},
   "outputs": [
    {
     "name": "stdout",
     "output_type": "stream",
     "text": [
      "a    1\n",
      "b    2\n",
      "c    3\n",
      "dtype: int64\n"
     ]
    }
   ],
   "source": [
    "# Dictionary\n",
    "data1 = {\n",
    "    'a':1,\n",
    "    'b':2,\n",
    "    'c':3\n",
    "}\n",
    "\n",
    "series1 = pd.Series(data1)\n",
    "print(series1)"
   ]
  },
  {
   "cell_type": "code",
   "execution_count": 6,
   "id": "e825c7f4",
   "metadata": {},
   "outputs": [
    {
     "name": "stdout",
     "output_type": "stream",
     "text": [
      "6    1\n",
      "5    2\n",
      "4    3\n",
      "3    4\n",
      "2    5\n",
      "1    6\n",
      "0    6\n",
      "dtype: int64\n"
     ]
    }
   ],
   "source": [
    "data2 = [1,2,3,4,5,6,6]\n",
    "index = [6,5,4,3,2,1,0]\n",
    "series2 = pd.Series(data2, index=index)\n",
    "print(series2)"
   ]
  },
  {
   "cell_type": "code",
   "execution_count": 7,
   "id": "87145a61",
   "metadata": {},
   "outputs": [],
   "source": [
    "arr = np.array([1,2,3,4,5])\n",
    "new_series  = pd.Series(arr)"
   ]
  },
  {
   "cell_type": "code",
   "execution_count": 8,
   "id": "3af2ab76",
   "metadata": {},
   "outputs": [
    {
     "name": "stdout",
     "output_type": "stream",
     "text": [
      "0    1\n",
      "1    2\n",
      "2    3\n",
      "3    4\n",
      "4    5\n",
      "dtype: int64\n"
     ]
    }
   ],
   "source": [
    "print(new_series)"
   ]
  },
  {
   "cell_type": "code",
   "execution_count": 9,
   "id": "e4b7ed1b",
   "metadata": {},
   "outputs": [
    {
     "name": "stdout",
     "output_type": "stream",
     "text": [
      "        Name  Age       City\n",
      "0     Raimal   20      Badin\n",
      "1       Raja   23  hyderabad\n",
      "2  Professor   24    Karachi\n"
     ]
    }
   ],
   "source": [
    "## create dataframe form the dictionary\n",
    "data = {\n",
    "    'Name': ['Raimal', 'Raja', 'Professor'],\n",
    "    'Age': [20,23,24],\n",
    "    'City': ['Badin','hyderabad', 'Karachi']\n",
    "}\n",
    "\n",
    "df = pd.DataFrame(data)\n",
    "print(df)"
   ]
  },
  {
   "cell_type": "code",
   "execution_count": 10,
   "id": "1b0145bc",
   "metadata": {},
   "outputs": [
    {
     "name": "stdout",
     "output_type": "stream",
     "text": [
      "[['Raimal' 20 'Badin']\n",
      " ['Raja' 23 'hyderabad']\n",
      " ['Professor' 24 'Karachi']]\n"
     ]
    }
   ],
   "source": [
    "## convert dataframe into a array\n",
    "arr_df = np.array(df)\n",
    "print(arr_df)"
   ]
  },
  {
   "cell_type": "code",
   "execution_count": 11,
   "id": "8b7dbebc",
   "metadata": {},
   "outputs": [
    {
     "name": "stdout",
     "output_type": "stream",
     "text": [
      "        Name  Age       city\n",
      "0     Raimal   20      Badin\n",
      "1  Professor   21  Hyderabad\n",
      "2       Raja   23    Karachi\n",
      "<class 'pandas.core.frame.DataFrame'>\n"
     ]
    }
   ],
   "source": [
    "## create a  dataframe from a list of dictionaries\n",
    "data = [\n",
    "    {'Name':'Raimal',\n",
    "     'Age':20,\n",
    "     'city': 'Badin'\n",
    "     },\n",
    "    \n",
    "    {'Name':'Professor',\n",
    "     'Age':21, \n",
    "     'city': 'Hyderabad'\n",
    "     },\n",
    "    {'Name':'Raja',\n",
    "     'Age':23, \n",
    "     'city': 'Karachi'\n",
    "     },\n",
    "]\n",
    "\n",
    "df = pd.DataFrame(data)\n",
    "print(df)\n",
    "print(type(df))"
   ]
  },
  {
   "cell_type": "code",
   "execution_count": 12,
   "id": "ad4c5a0e",
   "metadata": {},
   "outputs": [
    {
     "data": {
      "text/html": [
       "<div>\n",
       "<style scoped>\n",
       "    .dataframe tbody tr th:only-of-type {\n",
       "        vertical-align: middle;\n",
       "    }\n",
       "\n",
       "    .dataframe tbody tr th {\n",
       "        vertical-align: top;\n",
       "    }\n",
       "\n",
       "    .dataframe thead th {\n",
       "        text-align: right;\n",
       "    }\n",
       "</style>\n",
       "<table border=\"1\" class=\"dataframe\">\n",
       "  <thead>\n",
       "    <tr style=\"text-align: right;\">\n",
       "      <th></th>\n",
       "      <th>EAN</th>\n",
       "      <th>SKU</th>\n",
       "      <th>Sale price</th>\n",
       "      <th>Regular price</th>\n",
       "      <th>Categories</th>\n",
       "      <th>Brand</th>\n",
       "    </tr>\n",
       "  </thead>\n",
       "  <tbody>\n",
       "    <tr>\n",
       "      <th>0</th>\n",
       "      <td>123123</td>\n",
       "      <td>IC70 WHITE</td>\n",
       "      <td>676</td>\n",
       "      <td>2456.36</td>\n",
       "      <td>Lifestyle Appliances &gt; Speakers</td>\n",
       "      <td>BEC Akustik</td>\n",
       "    </tr>\n",
       "    <tr>\n",
       "      <th>1</th>\n",
       "      <td>12312312</td>\n",
       "      <td>IC70 BLACK</td>\n",
       "      <td>222</td>\n",
       "      <td>2456.36</td>\n",
       "      <td>Lifestyle Appliances &gt; Speakers</td>\n",
       "      <td>BEC Akustik</td>\n",
       "    </tr>\n",
       "    <tr>\n",
       "      <th>2</th>\n",
       "      <td>3432543</td>\n",
       "      <td>IC70S Silver</td>\n",
       "      <td>454</td>\n",
       "      <td>4215.93</td>\n",
       "      <td>Lifestyle Appliances &gt; Speakers</td>\n",
       "      <td>BEC Akustik</td>\n",
       "    </tr>\n",
       "    <tr>\n",
       "      <th>3</th>\n",
       "      <td>4654645</td>\n",
       "      <td>IC100 BLACK</td>\n",
       "      <td>121</td>\n",
       "      <td>2568.97</td>\n",
       "      <td>Lifestyle Appliances &gt; Speakers</td>\n",
       "      <td>BEC Akustik</td>\n",
       "    </tr>\n",
       "    <tr>\n",
       "      <th>4</th>\n",
       "      <td>567657</td>\n",
       "      <td>IC100 WHITE</td>\n",
       "      <td>121</td>\n",
       "      <td>2568.97</td>\n",
       "      <td>Lifestyle Appliances &gt; Speakers</td>\n",
       "      <td>BEC Akustik</td>\n",
       "    </tr>\n",
       "  </tbody>\n",
       "</table>\n",
       "</div>"
      ],
      "text/plain": [
       "        EAN           SKU  Sale price  Regular price  \\\n",
       "0    123123    IC70 WHITE         676        2456.36   \n",
       "1  12312312    IC70 BLACK         222        2456.36   \n",
       "2   3432543  IC70S Silver         454        4215.93   \n",
       "3   4654645   IC100 BLACK         121        2568.97   \n",
       "4    567657   IC100 WHITE         121        2568.97   \n",
       "\n",
       "                        Categories        Brand  \n",
       "0  Lifestyle Appliances > Speakers  BEC Akustik  \n",
       "1  Lifestyle Appliances > Speakers  BEC Akustik  \n",
       "2  Lifestyle Appliances > Speakers  BEC Akustik  \n",
       "3  Lifestyle Appliances > Speakers  BEC Akustik  \n",
       "4  Lifestyle Appliances > Speakers  BEC Akustik  "
      ]
     },
     "execution_count": 12,
     "metadata": {},
     "output_type": "execute_result"
    }
   ],
   "source": [
    "import pandas as pd\n",
    "path = 'my.csv'\n",
    "data_file = pd.read_csv(path)\n",
    "data_file.head(5)\n",
    "# print(df.head(5)) ## .head(5) for top 5 elements and .tail() for top bottom "
   ]
  },
  {
   "cell_type": "code",
   "execution_count": 13,
   "id": "f716b6f7",
   "metadata": {},
   "outputs": [
    {
     "data": {
      "text/plain": [
       "pandas.core.series.Series"
      ]
     },
     "execution_count": 13,
     "metadata": {},
     "output_type": "execute_result"
    }
   ],
   "source": [
    "type(df['Name'])"
   ]
  },
  {
   "cell_type": "code",
   "execution_count": 14,
   "id": "b3315993",
   "metadata": {},
   "outputs": [
    {
     "data": {
      "text/plain": [
       "Name    Raimal\n",
       "Age         20\n",
       "city     Badin\n",
       "Name: 0, dtype: object"
      ]
     },
     "execution_count": 14,
     "metadata": {},
     "output_type": "execute_result"
    }
   ],
   "source": [
    "df.loc[0] # row index"
   ]
  },
  {
   "cell_type": "code",
   "execution_count": 15,
   "id": "22ca5cc0",
   "metadata": {},
   "outputs": [
    {
     "data": {
      "text/plain": [
       "Name    Raimal\n",
       "Age         20\n",
       "city     Badin\n",
       "Name: 0, dtype: object"
      ]
     },
     "execution_count": 15,
     "metadata": {},
     "output_type": "execute_result"
    }
   ],
   "source": [
    "df.iloc[0] ## index location"
   ]
  },
  {
   "cell_type": "code",
   "execution_count": 16,
   "id": "d72e3bf8",
   "metadata": {},
   "outputs": [
    {
     "name": "stderr",
     "output_type": "stream",
     "text": [
      "C:\\Users\\Professor\\AppData\\Local\\Temp\\ipykernel_6288\\2527876973.py:1: FutureWarning: Series.__getitem__ treating keys as positions is deprecated. In a future version, integer keys will always be treated as labels (consistent with DataFrame behavior). To access a value by position, use `ser.iloc[pos]`\n",
      "  df.loc[0][0]\n"
     ]
    },
    {
     "data": {
      "text/plain": [
       "'Raimal'"
      ]
     },
     "execution_count": 16,
     "metadata": {},
     "output_type": "execute_result"
    }
   ],
   "source": [
    "df.loc[0][0]"
   ]
  },
  {
   "cell_type": "code",
   "execution_count": 19,
   "id": "1135084a",
   "metadata": {},
   "outputs": [
    {
     "data": {
      "text/plain": [
       "np.int64(23)"
      ]
     },
     "execution_count": 19,
     "metadata": {},
     "output_type": "execute_result"
    }
   ],
   "source": [
    "## accessing a specified element\n",
    "df.at[2,'Age']"
   ]
  },
  {
   "cell_type": "code",
   "execution_count": null,
   "id": "6f9ef87c",
   "metadata": {},
   "outputs": [
    {
     "data": {
      "text/plain": [
       "'Raja'"
      ]
     },
     "execution_count": 21,
     "metadata": {},
     "output_type": "execute_result"
    }
   ],
   "source": [
    "df.at[2,'Name']"
   ]
  },
  {
   "cell_type": "code",
   "execution_count": 22,
   "id": "a1554f7c",
   "metadata": {},
   "outputs": [
    {
     "data": {
      "text/plain": [
       "'Karachi'"
      ]
     },
     "execution_count": 22,
     "metadata": {},
     "output_type": "execute_result"
    }
   ],
   "source": [
    "## Acceessing a specified element using .iat[]\n",
    "df.iat[2,2]"
   ]
  },
  {
   "cell_type": "code",
   "execution_count": 23,
   "id": "8fcbe27b",
   "metadata": {},
   "outputs": [
    {
     "data": {
      "text/html": [
       "<div>\n",
       "<style scoped>\n",
       "    .dataframe tbody tr th:only-of-type {\n",
       "        vertical-align: middle;\n",
       "    }\n",
       "\n",
       "    .dataframe tbody tr th {\n",
       "        vertical-align: top;\n",
       "    }\n",
       "\n",
       "    .dataframe thead th {\n",
       "        text-align: right;\n",
       "    }\n",
       "</style>\n",
       "<table border=\"1\" class=\"dataframe\">\n",
       "  <thead>\n",
       "    <tr style=\"text-align: right;\">\n",
       "      <th></th>\n",
       "      <th>Name</th>\n",
       "      <th>Age</th>\n",
       "      <th>city</th>\n",
       "    </tr>\n",
       "  </thead>\n",
       "  <tbody>\n",
       "    <tr>\n",
       "      <th>0</th>\n",
       "      <td>Raimal</td>\n",
       "      <td>20</td>\n",
       "      <td>Badin</td>\n",
       "    </tr>\n",
       "    <tr>\n",
       "      <th>1</th>\n",
       "      <td>Professor</td>\n",
       "      <td>21</td>\n",
       "      <td>Hyderabad</td>\n",
       "    </tr>\n",
       "    <tr>\n",
       "      <th>2</th>\n",
       "      <td>Raja</td>\n",
       "      <td>23</td>\n",
       "      <td>Karachi</td>\n",
       "    </tr>\n",
       "  </tbody>\n",
       "</table>\n",
       "</div>"
      ],
      "text/plain": [
       "        Name  Age       city\n",
       "0     Raimal   20      Badin\n",
       "1  Professor   21  Hyderabad\n",
       "2       Raja   23    Karachi"
      ]
     },
     "execution_count": 23,
     "metadata": {},
     "output_type": "execute_result"
    }
   ],
   "source": [
    "## Data manipulation with DataFrame\n",
    "df"
   ]
  },
  {
   "cell_type": "code",
   "execution_count": null,
   "id": "0da115ea",
   "metadata": {},
   "outputs": [],
   "source": [
    "## adding new column \n",
    "df['Salary']=[5000,4000,6000]"
   ]
  },
  {
   "cell_type": "code",
   "execution_count": 25,
   "id": "3d4932b3",
   "metadata": {},
   "outputs": [
    {
     "data": {
      "text/html": [
       "<div>\n",
       "<style scoped>\n",
       "    .dataframe tbody tr th:only-of-type {\n",
       "        vertical-align: middle;\n",
       "    }\n",
       "\n",
       "    .dataframe tbody tr th {\n",
       "        vertical-align: top;\n",
       "    }\n",
       "\n",
       "    .dataframe thead th {\n",
       "        text-align: right;\n",
       "    }\n",
       "</style>\n",
       "<table border=\"1\" class=\"dataframe\">\n",
       "  <thead>\n",
       "    <tr style=\"text-align: right;\">\n",
       "      <th></th>\n",
       "      <th>Name</th>\n",
       "      <th>Age</th>\n",
       "      <th>city</th>\n",
       "      <th>Salary</th>\n",
       "    </tr>\n",
       "  </thead>\n",
       "  <tbody>\n",
       "    <tr>\n",
       "      <th>0</th>\n",
       "      <td>Raimal</td>\n",
       "      <td>20</td>\n",
       "      <td>Badin</td>\n",
       "      <td>5000</td>\n",
       "    </tr>\n",
       "    <tr>\n",
       "      <th>1</th>\n",
       "      <td>Professor</td>\n",
       "      <td>21</td>\n",
       "      <td>Hyderabad</td>\n",
       "      <td>4000</td>\n",
       "    </tr>\n",
       "    <tr>\n",
       "      <th>2</th>\n",
       "      <td>Raja</td>\n",
       "      <td>23</td>\n",
       "      <td>Karachi</td>\n",
       "      <td>6000</td>\n",
       "    </tr>\n",
       "  </tbody>\n",
       "</table>\n",
       "</div>"
      ],
      "text/plain": [
       "        Name  Age       city  Salary\n",
       "0     Raimal   20      Badin    5000\n",
       "1  Professor   21  Hyderabad    4000\n",
       "2       Raja   23    Karachi    6000"
      ]
     },
     "execution_count": 25,
     "metadata": {},
     "output_type": "execute_result"
    }
   ],
   "source": [
    "df"
   ]
  },
  {
   "cell_type": "code",
   "execution_count": 27,
   "id": "2f08859b",
   "metadata": {},
   "outputs": [
    {
     "data": {
      "text/html": [
       "<div>\n",
       "<style scoped>\n",
       "    .dataframe tbody tr th:only-of-type {\n",
       "        vertical-align: middle;\n",
       "    }\n",
       "\n",
       "    .dataframe tbody tr th {\n",
       "        vertical-align: top;\n",
       "    }\n",
       "\n",
       "    .dataframe thead th {\n",
       "        text-align: right;\n",
       "    }\n",
       "</style>\n",
       "<table border=\"1\" class=\"dataframe\">\n",
       "  <thead>\n",
       "    <tr style=\"text-align: right;\">\n",
       "      <th></th>\n",
       "      <th>Name</th>\n",
       "      <th>Age</th>\n",
       "      <th>city</th>\n",
       "    </tr>\n",
       "  </thead>\n",
       "  <tbody>\n",
       "    <tr>\n",
       "      <th>0</th>\n",
       "      <td>Raimal</td>\n",
       "      <td>20</td>\n",
       "      <td>Badin</td>\n",
       "    </tr>\n",
       "    <tr>\n",
       "      <th>1</th>\n",
       "      <td>Professor</td>\n",
       "      <td>21</td>\n",
       "      <td>Hyderabad</td>\n",
       "    </tr>\n",
       "    <tr>\n",
       "      <th>2</th>\n",
       "      <td>Raja</td>\n",
       "      <td>23</td>\n",
       "      <td>Karachi</td>\n",
       "    </tr>\n",
       "  </tbody>\n",
       "</table>\n",
       "</div>"
      ],
      "text/plain": [
       "        Name  Age       city\n",
       "0     Raimal   20      Badin\n",
       "1  Professor   21  Hyderabad\n",
       "2       Raja   23    Karachi"
      ]
     },
     "execution_count": 27,
     "metadata": {},
     "output_type": "execute_result"
    }
   ],
   "source": [
    "## Remove a column\n",
    "df.drop('Salary',axis=1)"
   ]
  },
  {
   "cell_type": "code",
   "execution_count": null,
   "id": "12a2206a",
   "metadata": {},
   "outputs": [
    {
     "data": {
      "text/html": [
       "<div>\n",
       "<style scoped>\n",
       "    .dataframe tbody tr th:only-of-type {\n",
       "        vertical-align: middle;\n",
       "    }\n",
       "\n",
       "    .dataframe tbody tr th {\n",
       "        vertical-align: top;\n",
       "    }\n",
       "\n",
       "    .dataframe thead th {\n",
       "        text-align: right;\n",
       "    }\n",
       "</style>\n",
       "<table border=\"1\" class=\"dataframe\">\n",
       "  <thead>\n",
       "    <tr style=\"text-align: right;\">\n",
       "      <th></th>\n",
       "      <th>Name</th>\n",
       "      <th>Age</th>\n",
       "      <th>city</th>\n",
       "      <th>Salary</th>\n",
       "    </tr>\n",
       "  </thead>\n",
       "  <tbody>\n",
       "    <tr>\n",
       "      <th>0</th>\n",
       "      <td>Raimal</td>\n",
       "      <td>20</td>\n",
       "      <td>Badin</td>\n",
       "      <td>5000</td>\n",
       "    </tr>\n",
       "    <tr>\n",
       "      <th>1</th>\n",
       "      <td>Professor</td>\n",
       "      <td>21</td>\n",
       "      <td>Hyderabad</td>\n",
       "      <td>4000</td>\n",
       "    </tr>\n",
       "    <tr>\n",
       "      <th>2</th>\n",
       "      <td>Raja</td>\n",
       "      <td>23</td>\n",
       "      <td>Karachi</td>\n",
       "      <td>6000</td>\n",
       "    </tr>\n",
       "  </tbody>\n",
       "</table>\n",
       "</div>"
      ],
      "text/plain": [
       "        Name  Age       city  Salary\n",
       "0     Raimal   20      Badin    5000\n",
       "1  Professor   21  Hyderabad    4000\n",
       "2       Raja   23    Karachi    6000"
      ]
     },
     "execution_count": 28,
     "metadata": {},
     "output_type": "execute_result"
    }
   ],
   "source": [
    "## drop it not perminanat for deleting \n",
    "df"
   ]
  },
  {
   "cell_type": "code",
   "execution_count": 29,
   "id": "b3be7f2b",
   "metadata": {},
   "outputs": [],
   "source": [
    "## for saving deletating add another parameter\n",
    "df.drop('Salary', axis=1,inplace=True)"
   ]
  },
  {
   "cell_type": "code",
   "execution_count": 30,
   "id": "d94a6619",
   "metadata": {},
   "outputs": [
    {
     "data": {
      "text/html": [
       "<div>\n",
       "<style scoped>\n",
       "    .dataframe tbody tr th:only-of-type {\n",
       "        vertical-align: middle;\n",
       "    }\n",
       "\n",
       "    .dataframe tbody tr th {\n",
       "        vertical-align: top;\n",
       "    }\n",
       "\n",
       "    .dataframe thead th {\n",
       "        text-align: right;\n",
       "    }\n",
       "</style>\n",
       "<table border=\"1\" class=\"dataframe\">\n",
       "  <thead>\n",
       "    <tr style=\"text-align: right;\">\n",
       "      <th></th>\n",
       "      <th>Name</th>\n",
       "      <th>Age</th>\n",
       "      <th>city</th>\n",
       "    </tr>\n",
       "  </thead>\n",
       "  <tbody>\n",
       "    <tr>\n",
       "      <th>0</th>\n",
       "      <td>Raimal</td>\n",
       "      <td>20</td>\n",
       "      <td>Badin</td>\n",
       "    </tr>\n",
       "    <tr>\n",
       "      <th>1</th>\n",
       "      <td>Professor</td>\n",
       "      <td>21</td>\n",
       "      <td>Hyderabad</td>\n",
       "    </tr>\n",
       "    <tr>\n",
       "      <th>2</th>\n",
       "      <td>Raja</td>\n",
       "      <td>23</td>\n",
       "      <td>Karachi</td>\n",
       "    </tr>\n",
       "  </tbody>\n",
       "</table>\n",
       "</div>"
      ],
      "text/plain": [
       "        Name  Age       city\n",
       "0     Raimal   20      Badin\n",
       "1  Professor   21  Hyderabad\n",
       "2       Raja   23    Karachi"
      ]
     },
     "execution_count": 30,
     "metadata": {},
     "output_type": "execute_result"
    }
   ],
   "source": [
    "df"
   ]
  },
  {
   "cell_type": "code",
   "execution_count": 31,
   "id": "294c175e",
   "metadata": {},
   "outputs": [],
   "source": [
    "### increase age  to the column\n",
    "df['Aged'] = df['Age']+1"
   ]
  },
  {
   "cell_type": "code",
   "execution_count": 32,
   "id": "148ee16d",
   "metadata": {},
   "outputs": [
    {
     "data": {
      "text/html": [
       "<div>\n",
       "<style scoped>\n",
       "    .dataframe tbody tr th:only-of-type {\n",
       "        vertical-align: middle;\n",
       "    }\n",
       "\n",
       "    .dataframe tbody tr th {\n",
       "        vertical-align: top;\n",
       "    }\n",
       "\n",
       "    .dataframe thead th {\n",
       "        text-align: right;\n",
       "    }\n",
       "</style>\n",
       "<table border=\"1\" class=\"dataframe\">\n",
       "  <thead>\n",
       "    <tr style=\"text-align: right;\">\n",
       "      <th></th>\n",
       "      <th>Name</th>\n",
       "      <th>Age</th>\n",
       "      <th>city</th>\n",
       "      <th>Aged</th>\n",
       "    </tr>\n",
       "  </thead>\n",
       "  <tbody>\n",
       "    <tr>\n",
       "      <th>0</th>\n",
       "      <td>Raimal</td>\n",
       "      <td>20</td>\n",
       "      <td>Badin</td>\n",
       "      <td>21</td>\n",
       "    </tr>\n",
       "    <tr>\n",
       "      <th>1</th>\n",
       "      <td>Professor</td>\n",
       "      <td>21</td>\n",
       "      <td>Hyderabad</td>\n",
       "      <td>22</td>\n",
       "    </tr>\n",
       "    <tr>\n",
       "      <th>2</th>\n",
       "      <td>Raja</td>\n",
       "      <td>23</td>\n",
       "      <td>Karachi</td>\n",
       "      <td>24</td>\n",
       "    </tr>\n",
       "  </tbody>\n",
       "</table>\n",
       "</div>"
      ],
      "text/plain": [
       "        Name  Age       city  Aged\n",
       "0     Raimal   20      Badin    21\n",
       "1  Professor   21  Hyderabad    22\n",
       "2       Raja   23    Karachi    24"
      ]
     },
     "execution_count": 32,
     "metadata": {},
     "output_type": "execute_result"
    }
   ],
   "source": [
    "df"
   ]
  },
  {
   "cell_type": "code",
   "execution_count": null,
   "id": "aa0eac5d",
   "metadata": {},
   "outputs": [],
   "source": []
  }
 ],
 "metadata": {
  "kernelspec": {
   "display_name": ".venv",
   "language": "python",
   "name": "python3"
  },
  "language_info": {
   "codemirror_mode": {
    "name": "ipython",
    "version": 3
   },
   "file_extension": ".py",
   "mimetype": "text/x-python",
   "name": "python",
   "nbconvert_exporter": "python",
   "pygments_lexer": "ipython3",
   "version": "3.12.3"
  }
 },
 "nbformat": 4,
 "nbformat_minor": 5
}
