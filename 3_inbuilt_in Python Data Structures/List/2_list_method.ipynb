{
 "cells": [
  {
   "cell_type": "code",
   "execution_count": 2,
   "id": "fb0e197d",
   "metadata": {},
   "outputs": [],
   "source": [
    "## .append(element) > will add in the end of list\n",
    "fruits = [\"apple\", \"Banana\", \"cherry\", \"kiwi\"]\n",
    "\n",
    "fruits.append(\"mango\")"
   ]
  },
  {
   "cell_type": "code",
   "execution_count": 3,
   "id": "95881825",
   "metadata": {},
   "outputs": [
    {
     "name": "stdout",
     "output_type": "stream",
     "text": [
      "mango\n"
     ]
    }
   ],
   "source": [
    "print(fruits[4])"
   ]
  },
  {
   "cell_type": "code",
   "execution_count": 4,
   "id": "0276d6d6",
   "metadata": {},
   "outputs": [],
   "source": [
    "## .insert(index, element)\n",
    "fruits.insert(0, \"orange\")"
   ]
  },
  {
   "cell_type": "code",
   "execution_count": 5,
   "id": "fcbdf079",
   "metadata": {},
   "outputs": [
    {
     "name": "stdout",
     "output_type": "stream",
     "text": [
      "orange\n"
     ]
    }
   ],
   "source": [
    "print(fruits[0])"
   ]
  },
  {
   "cell_type": "code",
   "execution_count": 6,
   "id": "84e79083",
   "metadata": {},
   "outputs": [],
   "source": [
    "## .remove(element) Removing the first occurance of an item\n",
    "fruits.remove('Banana')"
   ]
  },
  {
   "cell_type": "code",
   "execution_count": 7,
   "id": "765f39c0",
   "metadata": {},
   "outputs": [
    {
     "name": "stdout",
     "output_type": "stream",
     "text": [
      "['orange', 'apple', 'cherry', 'kiwi', 'mango']\n"
     ]
    }
   ],
   "source": [
    "print(fruits)"
   ]
  },
  {
   "cell_type": "code",
   "execution_count": 8,
   "id": "9e54739d",
   "metadata": {},
   "outputs": [],
   "source": [
    "## .pop() this will remove last element\n",
    "popped_element = fruits.pop()"
   ]
  },
  {
   "cell_type": "code",
   "execution_count": 9,
   "id": "d0e88fe3",
   "metadata": {},
   "outputs": [
    {
     "name": "stdout",
     "output_type": "stream",
     "text": [
      "mango\n"
     ]
    }
   ],
   "source": [
    "print(popped_element)"
   ]
  },
  {
   "cell_type": "code",
   "execution_count": 10,
   "id": "bfeb7229",
   "metadata": {},
   "outputs": [
    {
     "name": "stdout",
     "output_type": "stream",
     "text": [
      "2\n"
     ]
    }
   ],
   "source": [
    "## .index(element) > this will return an index of an element\n",
    "index_of_cherry = fruits.index(\"cherry\")\n",
    "print(index_of_cherry)"
   ]
  },
  {
   "cell_type": "code",
   "execution_count": 11,
   "id": "11b5a925",
   "metadata": {},
   "outputs": [
    {
     "name": "stdout",
     "output_type": "stream",
     "text": [
      "['kiwi', 'cherry', 'apple', 'orange']\n"
     ]
    }
   ],
   "source": [
    "## .reverse() > will reverse the list\n",
    "fruits.reverse()\n",
    "print(fruits)"
   ]
  },
  {
   "cell_type": "code",
   "execution_count": 12,
   "id": "454d2972",
   "metadata": {},
   "outputs": [],
   "source": [
    "## .copy() > this will copy entire list and assign to new variable\n",
    "newlist = fruits.copy()"
   ]
  },
  {
   "cell_type": "code",
   "execution_count": 13,
   "id": "2da4f678",
   "metadata": {},
   "outputs": [
    {
     "name": "stdout",
     "output_type": "stream",
     "text": [
      "['kiwi', 'cherry', 'apple', 'orange']\n"
     ]
    }
   ],
   "source": [
    "## .clear() > this will clear the list\n",
    "print(newlist)"
   ]
  },
  {
   "cell_type": "code",
   "execution_count": 14,
   "id": "66c01284",
   "metadata": {},
   "outputs": [
    {
     "name": "stdout",
     "output_type": "stream",
     "text": [
      "[] \n",
      " ['kiwi', 'cherry', 'apple', 'orange']\n"
     ]
    }
   ],
   "source": [
    "newlist.clear()\n",
    "print(newlist,\"\\n\", fruits)"
   ]
  },
  {
   "cell_type": "code",
   "execution_count": 15,
   "id": "2641775b",
   "metadata": {},
   "outputs": [
    {
     "data": {
      "text/plain": [
       "[1, 2, 3, 1, 2, 3]"
      ]
     },
     "execution_count": 15,
     "metadata": {},
     "output_type": "execute_result"
    }
   ],
   "source": [
    "list = [1,2,3]\n",
    "list*2\n"
   ]
  }
 ],
 "metadata": {
  "kernelspec": {
   "display_name": ".venv",
   "language": "python",
   "name": "python3"
  },
  "language_info": {
   "codemirror_mode": {
    "name": "ipython",
    "version": 3
   },
   "file_extension": ".py",
   "mimetype": "text/x-python",
   "name": "python",
   "nbconvert_exporter": "python",
   "pygments_lexer": "ipython3",
   "version": "3.12.3"
  }
 },
 "nbformat": 4,
 "nbformat_minor": 5
}
