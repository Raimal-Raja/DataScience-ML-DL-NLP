{
 "cells": [
  {
   "cell_type": "markdown",
   "id": "e5f866bd",
   "metadata": {},
   "source": [
    "### Introduction to Streamlit\n",
    "streamlit is an open source app framework for Machine Learning and Data Science Projects. It allows you to create beautiful web applications for your machine learning and data science projects with simple Python scripts"
   ]
  },
  {
   "cell_type": "code",
   "execution_count": null,
   "id": "4ba89d87",
   "metadata": {
    "vscode": {
     "languageId": "plaintext"
    }
   },
   "outputs": [],
   "source": [
    " "
   ]
  }
 ],
 "metadata": {
  "language_info": {
   "name": "python"
  }
 },
 "nbformat": 4,
 "nbformat_minor": 5
}
