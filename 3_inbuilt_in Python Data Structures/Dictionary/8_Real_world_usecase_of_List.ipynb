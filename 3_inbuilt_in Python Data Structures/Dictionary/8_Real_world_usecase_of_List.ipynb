{
 "cells": [
  {
   "cell_type": "markdown",
   "id": "4735e8ec",
   "metadata": {},
   "source": [
    "### Example 1. Manage A to Do list"
   ]
  },
  {
   "cell_type": "markdown",
   "id": "c27c9134",
   "metadata": {},
   "source": [
    ". create a to do list keep track of task"
   ]
  },
  {
   "cell_type": "code",
   "execution_count": 6,
   "id": "b6fd3cd6",
   "metadata": {},
   "outputs": [
    {
     "name": "stdout",
     "output_type": "stream",
     "text": [
      "don't forget to pay the utility bills\n",
      "to do list remaining\n",
      "Buy Groceries\n",
      "Pay bills\n",
      "Schedule Meeting\n",
      "Go for a fun\n"
     ]
    }
   ],
   "source": [
    "to_do_list = ['Buy Groceries', \"Clean the house\", 'Pay bills']\n",
    "\n",
    "# Addin to task\n",
    "to_do_list.append('Schedule Meeting')\n",
    "to_do_list.append('Go for a fun')\n",
    "\n",
    "## Removing a completed task\n",
    "to_do_list.remove('Clean the house')\n",
    "\n",
    "## Checking if a task is in the list\n",
    "if \"Pay bills\" in to_do_list:\n",
    "    print(\"don't forget to pay the utility bills\")\n",
    "print(\"to do list remaining\")\n",
    "for task in to_do_list:\n",
    "    print(f'{task}')\n",
    "    "
   ]
  },
  {
   "cell_type": "markdown",
   "id": "8769ffed",
   "metadata": {},
   "source": [
    "### Example 2. Oranizing Student Grades\n",
    ". create a list to store and calculate average grades for students"
   ]
  },
  {
   "cell_type": "code",
   "execution_count": 8,
   "id": "5e754c70",
   "metadata": {},
   "outputs": [
    {
     "name": "stdout",
     "output_type": "stream",
     "text": [
      "Average Grade: 87.00\n",
      "Higest Grade: 93\n",
      "Lowest Grade: 79\n"
     ]
    }
   ],
   "source": [
    "# Organizing student grades\n",
    "grades = [82,93,79,88]\n",
    "\n",
    "## adding a new grade\n",
    "grades.append(93)\n",
    "\n",
    "# calculating the average grade\n",
    "average_grade = sum(grades)/len(grades)\n",
    "print(f'Average Grade: {average_grade:.2f}')\n",
    "\n",
    "# Finding the highest and lowest grades\n",
    "\n",
    "highest_grade = max(grades)\n",
    "lowest_grade = min(grades)\n",
    "\n",
    "\n",
    "print(f\"Higest Grade: {highest_grade}\")\n",
    "print(f\"Lowest Grade: {lowest_grade}\")"
   ]
  },
  {
   "cell_type": "markdown",
   "id": "8cce4ba8",
   "metadata": {},
   "source": [
    "### Example 3. Managing an Inventory\n",
    ". use a list to manage inventory items in a store"
   ]
  },
  {
   "cell_type": "code",
   "execution_count": null,
   "id": "28d42092",
   "metadata": {},
   "outputs": [
    {
     "name": "stdout",
     "output_type": "stream",
     "text": [
      "oranges are in stock.\n",
      "inventory  list: \n",
      "apple\n",
      "oranges\n",
      "grapes\n",
      "strawberries\n"
     ]
    }
   ],
   "source": [
    "# managing an inventory \n",
    "inventory = [\"apple\", \"Banana\", \"oranges\", \"grapes\"]\n",
    "\n",
    "# adding  a new item\n",
    "inventory.append(\"strawberries\")\n",
    "\n",
    "# Removing an item that is out of stock\n",
    "inventory.remove('Banana')\n",
    "\n",
    "# checking if an item is in stock\n",
    "item = \"oranges\"\n",
    "\n",
    "if item in inventory:\n",
    "    print(f'{item} are in stock.')\n",
    "else:\n",
    "    print(f\"{item} are out of stock\")\n",
    "    \n",
    "print(\"inventory  list: \")\n",
    "for item in inventory:\n",
    "    print(f'{item}')  "
   ]
  },
  {
   "cell_type": "markdown",
   "id": "8557c2af",
   "metadata": {},
   "source": [
    "### Example 4. Collecting User feedback\n",
    ". Use  a list to collect and analyze user feedback"
   ]
  },
  {
   "cell_type": "code",
   "execution_count": 15,
   "id": "6826841e",
   "metadata": {},
   "outputs": [
    {
     "name": "stdout",
     "output_type": "stream",
     "text": [
      "Positive feedback count: 2\n",
      "User feedback: \n",
      "-Great service\n",
      "-Very satisfied\n",
      "-Could be better\n",
      "-Excellent experience\n",
      "-Not happy woth the service\n"
     ]
    }
   ],
   "source": [
    "# Collecting User feedback\n",
    "feedback = [\"Great service\", \"Very satisfied\", \"Could be better\", \"Excellent experience\"]\n",
    "\n",
    "# Adding new feedback\n",
    "feedback.append(\"Not happy woth the service\")\n",
    "\n",
    "#Counting specific feedback\n",
    "positive_feedback_count = sum(1 for comment in feedback if \"Great\" in comment or 'Excellent' in comment)\n",
    "print(f\"Positive feedback count: {positive_feedback_count}\")\n",
    "\n",
    "# Printing all feedback\n",
    "print(\"User feedback: \")\n",
    "for comment in feedback:\n",
    "    print(f\"-{comment}\")"
   ]
  },
  {
   "cell_type": "code",
   "execution_count": null,
   "id": "b0df8c47",
   "metadata": {},
   "outputs": [],
   "source": []
  }
 ],
 "metadata": {
  "kernelspec": {
   "display_name": ".venv",
   "language": "python",
   "name": "python3"
  },
  "language_info": {
   "codemirror_mode": {
    "name": "ipython",
    "version": 3
   },
   "file_extension": ".py",
   "mimetype": "text/x-python",
   "name": "python",
   "nbconvert_exporter": "python",
   "pygments_lexer": "ipython3",
   "version": "3.12.3"
  }
 },
 "nbformat": 4,
 "nbformat_minor": 5
}
