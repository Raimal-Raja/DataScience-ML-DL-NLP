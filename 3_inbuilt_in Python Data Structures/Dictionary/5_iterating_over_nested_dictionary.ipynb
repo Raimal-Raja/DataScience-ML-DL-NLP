{
 "cells": [
  {
   "cell_type": "code",
   "execution_count": 1,
   "id": "46506207",
   "metadata": {},
   "outputs": [],
   "source": [
    "# Nested Dictionary\n",
    "students = {\n",
    "    \"student1\": {'f_name': 'Raimal', 'l_name': 'Raja', 'age': 49},\n",
    "    \"student2\": {'f_name': 'Professor', 'l_name': 'cypher', 'age': 20}\n",
    "}"
   ]
  },
  {
   "cell_type": "code",
   "execution_count": 5,
   "id": "4190658a",
   "metadata": {},
   "outputs": [
    {
     "name": "stdout",
     "output_type": "stream",
     "text": [
      "student1: {'f_name': 'Raimal', 'l_name': 'Raja', 'age': 49}\n",
      "student2: {'f_name': 'Professor', 'l_name': 'cypher', 'age': 20}\n"
     ]
    }
   ],
   "source": [
    "## iterating over nested dictionary\n",
    "for student_id, student_info in students.items():\n",
    "    print(f'{student_id}: {student_info}')"
   ]
  },
  {
   "cell_type": "code",
   "execution_count": 7,
   "id": "3cac94d3",
   "metadata": {},
   "outputs": [
    {
     "name": "stdout",
     "output_type": "stream",
     "text": [
      "f_name: Raimal\n",
      "l_name: Raja\n",
      "age: 49\n",
      "f_name: Professor\n",
      "l_name: cypher\n",
      "age: 20\n"
     ]
    }
   ],
   "source": [
    "for student_id, student_info in students.items():\n",
    "    for key, value in student_info.items():\n",
    "        print(f\"{key}: {value}\")"
   ]
  },
  {
   "cell_type": "code",
   "execution_count": null,
   "id": "ff6a49cd",
   "metadata": {},
   "outputs": [],
   "source": []
  }
 ],
 "metadata": {
  "kernelspec": {
   "display_name": ".venv",
   "language": "python",
   "name": "python3"
  },
  "language_info": {
   "codemirror_mode": {
    "name": "ipython",
    "version": 3
   },
   "file_extension": ".py",
   "mimetype": "text/x-python",
   "name": "python",
   "nbconvert_exporter": "python",
   "pygments_lexer": "ipython3",
   "version": "3.12.3"
  }
 },
 "nbformat": 4,
 "nbformat_minor": 5
}
