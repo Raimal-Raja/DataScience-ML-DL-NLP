{
 "cells": [
  {
   "cell_type": "markdown",
   "id": "bbee1906",
   "metadata": {},
   "source": [
    "### Logging with Multiple loggers\n",
    "you can create multiple loggers for different parts of your application."
   ]
  },
  {
   "cell_type": "code",
   "execution_count": 1,
   "id": "23d8ed8a",
   "metadata": {},
   "outputs": [],
   "source": [
    "import logging\n",
    "## create a logger module1\n",
    "logger1 =  logging.getLogger('module1')\n",
    "logger1.setLevel(logging.DEBUG)\n",
    "\n",
    "## create a logger for module 2\n",
    "logger2 = logging.getLogger('module2')\n",
    "logger2.setLevel(logging.WARNING)\n",
    "\n",
    "logging.basicConfig(\n",
    "    level=logging.DEBUG,\n",
    "    format='%(asctime)s-%(name)s-%(levelname)s-%(message)s',\n",
    "    datefmt='%Y-%m-%d %H:%M: %S')"
   ]
  },
  {
   "cell_type": "code",
   "execution_count": 2,
   "id": "a612291a",
   "metadata": {},
   "outputs": [
    {
     "name": "stderr",
     "output_type": "stream",
     "text": [
      "2025-06-18 09:12: 42-module1-DEBUG-With is debug message for module1\n",
      "2025-06-18 09:12: 42-module2-WARNING-with a warning message for module2\n"
     ]
    }
   ],
   "source": [
    "## log message with different loggers\n",
    "logger1.debug('With is debug message for module1')\n",
    "logger2.warning('with a warning message for module2')"
   ]
  },
  {
   "cell_type": "code",
   "execution_count": null,
   "id": "72cec8a6",
   "metadata": {},
   "outputs": [],
   "source": []
  },
  {
   "cell_type": "code",
   "execution_count": null,
   "id": "cec94c03",
   "metadata": {},
   "outputs": [],
   "source": []
  }
 ],
 "metadata": {
  "kernelspec": {
   "display_name": ".venv",
   "language": "python",
   "name": "python3"
  },
  "language_info": {
   "codemirror_mode": {
    "name": "ipython",
    "version": 3
   },
   "file_extension": ".py",
   "mimetype": "text/x-python",
   "name": "python",
   "nbconvert_exporter": "python",
   "pygments_lexer": "ipython3",
   "version": "3.12.3"
  }
 },
 "nbformat": 4,
 "nbformat_minor": 5
}
