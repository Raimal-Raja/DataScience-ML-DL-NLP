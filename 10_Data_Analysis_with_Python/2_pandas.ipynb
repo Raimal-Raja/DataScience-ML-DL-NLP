{
 "cells": [
  {
   "cell_type": "markdown",
   "id": "fa37bb6d",
   "metadata": {},
   "source": [
    "### Pandas - DataFrame and Series\n",
    "Pandas is a powerful  data manipulation library in Python, widely used for data analysis and data cleaning. it provides two primary data structure; Series and DataFrame. A Series is a one-dimensionl array-like object, while a DataFrame is a two-dimensional, size-mutable, and potentially heterogeneous tabular data structure with labeled axes (rows and columns)."
   ]
  },
  {
   "cell_type": "markdown",
   "id": "47fef466",
   "metadata": {},
   "source": [
    "### Series\n",
    "Pandas Series is a one-dimensional array-like object that can hold any data type. It is similar to a column in a table"
   ]
  },
  {
   "cell_type": "code",
   "execution_count": 1,
   "id": "0caf0a19",
   "metadata": {},
   "outputs": [],
   "source": [
    "import pandas as pd\n",
    "import numpy as np"
   ]
  },
  {
   "cell_type": "code",
   "execution_count": 4,
   "id": "514b9b0f",
   "metadata": {},
   "outputs": [
    {
     "name": "stdout",
     "output_type": "stream",
     "text": [
      "0    1\n",
      "1    2\n",
      "2    3\n",
      "3    4\n",
      "4    5\n",
      "dtype: int64\n"
     ]
    }
   ],
   "source": [
    "data = [1,2,3,4,5]\n",
    "series = pd.Series(data)\n",
    "print(series)"
   ]
  },
  {
   "cell_type": "code",
   "execution_count": 8,
   "id": "7e5d863b",
   "metadata": {},
   "outputs": [
    {
     "name": "stdout",
     "output_type": "stream",
     "text": [
      "a    1\n",
      "b    2\n",
      "c    3\n",
      "dtype: int64\n"
     ]
    }
   ],
   "source": [
    "# Dictionary\n",
    "data1 = {\n",
    "    'a':1,\n",
    "    'b':2,\n",
    "    'c':3\n",
    "}\n",
    "\n",
    "series1 = pd.Series(data1)\n",
    "print(series1)"
   ]
  },
  {
   "cell_type": "code",
   "execution_count": 13,
   "id": "e825c7f4",
   "metadata": {},
   "outputs": [
    {
     "name": "stdout",
     "output_type": "stream",
     "text": [
      "6    1\n",
      "5    2\n",
      "4    3\n",
      "3    4\n",
      "2    5\n",
      "1    6\n",
      "0    6\n",
      "dtype: int64\n"
     ]
    }
   ],
   "source": [
    "data2 = [1,2,3,4,5,6,6]\n",
    "index = [6,5,4,3,2,1,0]\n",
    "series2 = pd.Series(data2, index=index)\n",
    "print(series2)"
   ]
  },
  {
   "cell_type": "code",
   "execution_count": 2,
   "id": "87145a61",
   "metadata": {},
   "outputs": [],
   "source": [
    "arr = np.array([1,2,3,4,5])\n",
    "new_series  = pd.Series(arr)"
   ]
  },
  {
   "cell_type": "code",
   "execution_count": 3,
   "id": "3af2ab76",
   "metadata": {},
   "outputs": [
    {
     "name": "stdout",
     "output_type": "stream",
     "text": [
      "0    1\n",
      "1    2\n",
      "2    3\n",
      "3    4\n",
      "4    5\n",
      "dtype: int64\n"
     ]
    }
   ],
   "source": [
    "print(new_series)"
   ]
  },
  {
   "cell_type": "code",
   "execution_count": null,
   "id": "e4b7ed1b",
   "metadata": {},
   "outputs": [
    {
     "name": "stdout",
     "output_type": "stream",
     "text": [
      "        Name  Age       City\n",
      "0     Raimal   20      Badin\n",
      "1       Raja   23  hyderabad\n",
      "2  Professor   24    Karachi\n"
     ]
    }
   ],
   "source": [
    "## create dataframe form the dictionary\n",
    "data = {\n",
    "    'Name': ['Raimal', 'Raja', 'Professor'],\n",
    "    'Age': [20,23,24],\n",
    "    'City': ['Badin','hyderabad', 'Karachi']\n",
    "}\n",
    "\n",
    "df = pd.DataFrame(data)\n",
    "print(df)"
   ]
  },
  {
   "cell_type": "code",
   "execution_count": 10,
   "id": "1b0145bc",
   "metadata": {},
   "outputs": [
    {
     "name": "stdout",
     "output_type": "stream",
     "text": [
      "[['Raimal' 20 'Badin']\n",
      " ['Raja' 23 'hyderabad']\n",
      " ['Professor' 24 'Karachi']]\n"
     ]
    }
   ],
   "source": [
    "## convert dataframe into a array\n",
    "arr_df = np.array(df)\n",
    "print(arr_df)"
   ]
  },
  {
   "cell_type": "code",
   "execution_count": 16,
   "id": "8b7dbebc",
   "metadata": {},
   "outputs": [
    {
     "name": "stdout",
     "output_type": "stream",
     "text": [
      "        Name  Age       city\n",
      "0     Raimal   20      Badin\n",
      "1  Professor   21  Hyderabad\n",
      "2       Raja   23    Karachi\n",
      "<class 'pandas.core.frame.DataFrame'>\n"
     ]
    }
   ],
   "source": [
    "## create a  dataframe from a list of dictionaries\n",
    "data = [\n",
    "    {'Name':'Raimal',\n",
    "     'Age':20,\n",
    "     'city': 'Badin'\n",
    "     },\n",
    "    \n",
    "    {'Name':'Professor',\n",
    "     'Age':21, \n",
    "     'city': 'Hyderabad'\n",
    "     },\n",
    "    {'Name':'Raja',\n",
    "     'Age':23, \n",
    "     'city': 'Karachi'\n",
    "     },\n",
    "]\n",
    "\n",
    "df = pd.DataFrame(data)\n",
    "print(df)\n",
    "print(type(df))"
   ]
  },
  {
   "cell_type": "code",
   "execution_count": null,
   "id": "ad4c5a0e",
   "metadata": {},
   "outputs": [],
   "source": []
  }
 ],
 "metadata": {
  "kernelspec": {
   "display_name": ".venv",
   "language": "python",
   "name": "python3"
  },
  "language_info": {
   "codemirror_mode": {
    "name": "ipython",
    "version": 3
   },
   "file_extension": ".py",
   "mimetype": "text/x-python",
   "name": "python",
   "nbconvert_exporter": "python",
   "pygments_lexer": "ipython3",
   "version": "3.12.3"
  }
 },
 "nbformat": 4,
 "nbformat_minor": 5
}
