{
 "cells": [
  {
   "cell_type": "code",
   "execution_count": 4,
   "id": "c5070889",
   "metadata": {},
   "outputs": [
    {
     "data": {
      "text/html": [
       "<div>\n",
       "<style scoped>\n",
       "    .dataframe tbody tr th:only-of-type {\n",
       "        vertical-align: middle;\n",
       "    }\n",
       "\n",
       "    .dataframe tbody tr th {\n",
       "        vertical-align: top;\n",
       "    }\n",
       "\n",
       "    .dataframe thead th {\n",
       "        text-align: right;\n",
       "    }\n",
       "</style>\n",
       "<table border=\"1\" class=\"dataframe\">\n",
       "  <thead>\n",
       "    <tr style=\"text-align: right;\">\n",
       "      <th></th>\n",
       "      <th>EAN</th>\n",
       "      <th>SKU</th>\n",
       "      <th>Sale price</th>\n",
       "      <th>Regular price</th>\n",
       "      <th>Categories</th>\n",
       "      <th>Brand</th>\n",
       "      <th>sell</th>\n",
       "    </tr>\n",
       "  </thead>\n",
       "  <tbody>\n",
       "    <tr>\n",
       "      <th>0</th>\n",
       "      <td>123123</td>\n",
       "      <td>IC70 WHITE</td>\n",
       "      <td>676</td>\n",
       "      <td>2456.36</td>\n",
       "      <td>Lifestyle Appliances &gt; Speakers</td>\n",
       "      <td>BEC Akustik</td>\n",
       "      <td>2</td>\n",
       "    </tr>\n",
       "    <tr>\n",
       "      <th>1</th>\n",
       "      <td>12312312</td>\n",
       "      <td>IC70 BLACK</td>\n",
       "      <td>222</td>\n",
       "      <td>2456.36</td>\n",
       "      <td>Lifestyle Appliances &gt; Speakers</td>\n",
       "      <td>BEC Akustik</td>\n",
       "      <td>4</td>\n",
       "    </tr>\n",
       "    <tr>\n",
       "      <th>2</th>\n",
       "      <td>3432543</td>\n",
       "      <td>IC70S Silver</td>\n",
       "      <td>454</td>\n",
       "      <td>4215.93</td>\n",
       "      <td>Lifestyle Appliances &gt; Speakers</td>\n",
       "      <td>BEC Akustik</td>\n",
       "      <td>5</td>\n",
       "    </tr>\n",
       "    <tr>\n",
       "      <th>3</th>\n",
       "      <td>4654645</td>\n",
       "      <td>IC100 BLACK</td>\n",
       "      <td>121</td>\n",
       "      <td>2568.97</td>\n",
       "      <td>Lifestyle Appliances &gt; Speakers</td>\n",
       "      <td>BEC Akustik</td>\n",
       "      <td>1</td>\n",
       "    </tr>\n",
       "    <tr>\n",
       "      <th>4</th>\n",
       "      <td>567657</td>\n",
       "      <td>IC100 WHITE</td>\n",
       "      <td>121</td>\n",
       "      <td>2568.97</td>\n",
       "      <td>Lifestyle Appliances &gt; Speakers</td>\n",
       "      <td>BEC Akustik</td>\n",
       "      <td>45</td>\n",
       "    </tr>\n",
       "  </tbody>\n",
       "</table>\n",
       "</div>"
      ],
      "text/plain": [
       "        EAN           SKU  Sale price  Regular price  \\\n",
       "0    123123    IC70 WHITE         676        2456.36   \n",
       "1  12312312    IC70 BLACK         222        2456.36   \n",
       "2   3432543  IC70S Silver         454        4215.93   \n",
       "3   4654645   IC100 BLACK         121        2568.97   \n",
       "4    567657   IC100 WHITE         121        2568.97   \n",
       "\n",
       "                        Categories        Brand   sell  \n",
       "0  Lifestyle Appliances > Speakers  BEC Akustik      2  \n",
       "1  Lifestyle Appliances > Speakers  BEC Akustik      4  \n",
       "2  Lifestyle Appliances > Speakers  BEC Akustik      5  \n",
       "3  Lifestyle Appliances > Speakers  BEC Akustik      1  \n",
       "4  Lifestyle Appliances > Speakers  BEC Akustik     45  "
      ]
     },
     "execution_count": 4,
     "metadata": {},
     "output_type": "execute_result"
    }
   ],
   "source": [
    "## csv file\n",
    "import pandas as pd\n",
    "from matplotlib import pyplot as plt\n",
    "\n",
    "sale_data = pd.read_csv('my.csv')\n",
    "sale_data.head(5)"
   ]
  },
  {
   "cell_type": "code",
   "execution_count": 5,
   "id": "5b036270",
   "metadata": {},
   "outputs": [
    {
     "name": "stdout",
     "output_type": "stream",
     "text": [
      "<class 'pandas.core.frame.DataFrame'>\n",
      "RangeIndex: 10 entries, 0 to 9\n",
      "Data columns (total 7 columns):\n",
      " #   Column         Non-Null Count  Dtype  \n",
      "---  ------         --------------  -----  \n",
      " 0   EAN            10 non-null     int64  \n",
      " 1   SKU            10 non-null     object \n",
      " 2   Sale price     10 non-null     int64  \n",
      " 3   Regular price  10 non-null     float64\n",
      " 4   Categories     10 non-null     object \n",
      " 5   Brand          10 non-null     object \n",
      " 6    sell          10 non-null     int64  \n",
      "dtypes: float64(1), int64(3), object(3)\n",
      "memory usage: 692.0+ bytes\n"
     ]
    }
   ],
   "source": [
    "sale_data.info()"
   ]
  },
  {
   "cell_type": "code",
   "execution_count": 7,
   "id": "141c60ef",
   "metadata": {},
   "outputs": [],
   "source": [
    "## plot total sales by products\n",
    "total_sell_by_Product = sale_data.groupby('SKU')['Regular price'].sum()"
   ]
  },
  {
   "cell_type": "code",
   "execution_count": 9,
   "id": "a91419e3",
   "metadata": {},
   "outputs": [
    {
     "data": {
      "text/plain": [
       "SKU\n",
       "Fred (CROSSOVER FILTER FOR 2.1  SET)     344.88\n",
       "IC100 BLACK                             2568.97\n",
       "IC100 SILVER                            4567.84\n",
       "IC100 WHITE                             2568.97\n",
       "IC120 BLACK                             2808.27\n",
       "IC120 GOLD and SILVER                   4919.76\n",
       "IC120 WHITE                             2808.27\n",
       "IC70 BLACK                              2456.36\n",
       "IC70 WHITE                              2456.36\n",
       "IC70S Silver                            4215.93\n",
       "Name: Regular price, dtype: float64"
      ]
     },
     "execution_count": 9,
     "metadata": {},
     "output_type": "execute_result"
    }
   ],
   "source": [
    "total_sell_by_Product"
   ]
  },
  {
   "cell_type": "code",
   "execution_count": 10,
   "id": "17761b14",
   "metadata": {},
   "outputs": [
    {
     "data": {
      "text/plain": [
       "<Axes: xlabel='SKU'>"
      ]
     },
     "execution_count": 10,
     "metadata": {},
     "output_type": "execute_result"
    },
    {
     "data": {
      "image/png": "[encoded data removed]",
      "text/plain": [
       "<Figure size 640x480 with 1 Axes>"
      ]
     },
     "metadata": {},
     "output_type": "display_data"
    }
   ],
   "source": [
    "total_sell_by_Product.plot(kind='bar', color='black')"
   ]
  },
  {
   "cell_type": "code",
   "execution_count": 13,
   "id": "dd036c45",
   "metadata": {},
   "outputs": [],
   "source": [
    "## Plot sells trend over time\n",
    "sale_trend = sale_data.groupby('Sale price')['Regular price'].sum()"
   ]
  },
  {
   "cell_type": "code",
   "execution_count": 14,
   "id": "9ea64414",
   "metadata": {},
   "outputs": [
    {
     "data": {
      "text/plain": [
       "Sale price\n",
       "113     2808.27\n",
       "121     5137.94\n",
       "222     2456.36\n",
       "232     4919.76\n",
       "423     4567.84\n",
       "453     2808.27\n",
       "454     4215.93\n",
       "676     2456.36\n",
       "6868     344.88\n",
       "Name: Regular price, dtype: float64"
      ]
     },
     "execution_count": 14,
     "metadata": {},
     "output_type": "execute_result"
    }
   ],
   "source": [
    "sale_trend"
   ]
  },
  {
   "cell_type": "code",
   "execution_count": 15,
   "id": "3ec68246",
   "metadata": {},
   "outputs": [],
   "source": [
    "## Plot sells trend over time\n",
    "sale_trend = sale_data.groupby('Sale price')['Regular price'].sum().reset_index()"
   ]
  },
  {
   "cell_type": "code",
   "execution_count": 16,
   "id": "318aaf70",
   "metadata": {},
   "outputs": [
    {
     "data": {
      "text/html": [
       "<div>\n",
       "<style scoped>\n",
       "    .dataframe tbody tr th:only-of-type {\n",
       "        vertical-align: middle;\n",
       "    }\n",
       "\n",
       "    .dataframe tbody tr th {\n",
       "        vertical-align: top;\n",
       "    }\n",
       "\n",
       "    .dataframe thead th {\n",
       "        text-align: right;\n",
       "    }\n",
       "</style>\n",
       "<table border=\"1\" class=\"dataframe\">\n",
       "  <thead>\n",
       "    <tr style=\"text-align: right;\">\n",
       "      <th></th>\n",
       "      <th>Sale price</th>\n",
       "      <th>Regular price</th>\n",
       "    </tr>\n",
       "  </thead>\n",
       "  <tbody>\n",
       "    <tr>\n",
       "      <th>0</th>\n",
       "      <td>113</td>\n",
       "      <td>2808.27</td>\n",
       "    </tr>\n",
       "    <tr>\n",
       "      <th>1</th>\n",
       "      <td>121</td>\n",
       "      <td>5137.94</td>\n",
       "    </tr>\n",
       "    <tr>\n",
       "      <th>2</th>\n",
       "      <td>222</td>\n",
       "      <td>2456.36</td>\n",
       "    </tr>\n",
       "    <tr>\n",
       "      <th>3</th>\n",
       "      <td>232</td>\n",
       "      <td>4919.76</td>\n",
       "    </tr>\n",
       "    <tr>\n",
       "      <th>4</th>\n",
       "      <td>423</td>\n",
       "      <td>4567.84</td>\n",
       "    </tr>\n",
       "    <tr>\n",
       "      <th>5</th>\n",
       "      <td>453</td>\n",
       "      <td>2808.27</td>\n",
       "    </tr>\n",
       "    <tr>\n",
       "      <th>6</th>\n",
       "      <td>454</td>\n",
       "      <td>4215.93</td>\n",
       "    </tr>\n",
       "    <tr>\n",
       "      <th>7</th>\n",
       "      <td>676</td>\n",
       "      <td>2456.36</td>\n",
       "    </tr>\n",
       "    <tr>\n",
       "      <th>8</th>\n",
       "      <td>6868</td>\n",
       "      <td>344.88</td>\n",
       "    </tr>\n",
       "  </tbody>\n",
       "</table>\n",
       "</div>"
      ],
      "text/plain": [
       "   Sale price  Regular price\n",
       "0         113        2808.27\n",
       "1         121        5137.94\n",
       "2         222        2456.36\n",
       "3         232        4919.76\n",
       "4         423        4567.84\n",
       "5         453        2808.27\n",
       "6         454        4215.93\n",
       "7         676        2456.36\n",
       "8        6868         344.88"
      ]
     },
     "execution_count": 16,
     "metadata": {},
     "output_type": "execute_result"
    }
   ],
   "source": [
    "sale_trend"
   ]
  },
  {
   "cell_type": "code",
   "execution_count": 18,
   "id": "d478b807",
   "metadata": {},
   "outputs": [
    {
     "data": {
      "text/plain": [
       "[<matplotlib.lines.Line2D at 0x179063035f0>]"
      ]
     },
     "execution_count": 18,
     "metadata": {},
     "output_type": "execute_result"
    },
    {
     "data": {
      "image/png": "[encoded data removed]",
      "text/plain": [
       "<Figure size 640x480 with 1 Axes>"
      ]
     },
     "metadata": {},
     "output_type": "display_data"
    }
   ],
   "source": [
    "plt.plot(sale_trend['Sale price'], sale_trend['Regular price'])"
   ]
  },
  {
   "cell_type": "code",
   "execution_count": null,
   "id": "442d7cb4",
   "metadata": {},
   "outputs": [],
   "source": []
  }
 ],
 "metadata": {
  "kernelspec": {
   "display_name": ".venv",
   "language": "python",
   "name": "python3"
  },
  "language_info": {
   "codemirror_mode": {
    "name": "ipython",
    "version": 3
   },
   "file_extension": ".py",
   "mimetype": "text/x-python",
   "name": "python",
   "nbconvert_exporter": "python",
   "pygments_lexer": "ipython3",
   "version": "3.12.3"
  }
 },
 "nbformat": 4,
 "nbformat_minor": 5
}
