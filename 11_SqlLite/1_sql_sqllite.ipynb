{
 "cells": [
  {
   "cell_type": "markdown",
   "id": "a5ee106b",
   "metadata": {},
   "source": [
    "###  SQL and SQLlite\n",
    "SQL (Structured Query Language) is a standard language for managing and manipulatingg relational databases. SQLlite is a self-contained, serverless, and zero-configuration database engine that is widely used for embbeded database systems. in this lesson, we will cover the basics of SQLite, including databses, tables and perfoming SQL operation"
   ]
  },
  {
   "cell_type": "code",
   "execution_count": 1,
   "id": "2b31de99",
   "metadata": {},
   "outputs": [],
   "source": [
    "import sqlite3\n"
   ]
  },
  {
   "cell_type": "code",
   "execution_count": 2,
   "id": "64dd04db",
   "metadata": {},
   "outputs": [
    {
     "data": {
      "text/plain": [
       "<sqlite3.Connection at 0x23e67a73010>"
      ]
     },
     "execution_count": 2,
     "metadata": {},
     "output_type": "execute_result"
    }
   ],
   "source": [
    "## connect to an SQlite database\n",
    "connection = sqlite3.connect('example.db')\n",
    "connection"
   ]
  },
  {
   "cell_type": "code",
   "execution_count": 3,
   "id": "1c285bd2",
   "metadata": {},
   "outputs": [],
   "source": [
    "## create cursor\n",
    "cursor = connection.cursor()"
   ]
  },
  {
   "cell_type": "code",
   "execution_count": 4,
   "id": "fde78c3d",
   "metadata": {},
   "outputs": [],
   "source": [
    "## create  a table\n",
    "cursor.execute('''\n",
    "               \n",
    "               create  table if not exists employees(\n",
    "                   id integer primary key,\n",
    "                   name text not null,\n",
    "                   age integer,\n",
    "                   department txt\n",
    "               )\n",
    "               \n",
    "               ''')\n",
    "\n",
    "\n",
    "## commit the changes\n",
    "connection.commit()"
   ]
  },
  {
   "cell_type": "code",
   "execution_count": 5,
   "id": "a3b78ec9",
   "metadata": {},
   "outputs": [
    {
     "data": {
      "text/plain": [
       "<sqlite3.Cursor at 0x23e67c564c0>"
      ]
     },
     "execution_count": 5,
     "metadata": {},
     "output_type": "execute_result"
    }
   ],
   "source": [
    "cursor.execute('''\n",
    "               select * from employees'''\n",
    "               )"
   ]
  },
  {
   "cell_type": "code",
   "execution_count": 6,
   "id": "32a7eda8",
   "metadata": {},
   "outputs": [],
   "source": [
    "##insert the data in sqlite3\n",
    "cursor.execute('''\n",
    "               insert into employees(name, age, department)\n",
    "               values('Professor', 20,'data scientist')\n",
    "               ''')\n",
    "\n",
    "cursor.execute('''\n",
    "               insert into employees(name, age, department)\n",
    "               values('Raimal', 22,'data analyst')\n",
    "               ''')\n",
    "\n",
    "cursor.execute('''\n",
    "               insert into employees(name, age, department)\n",
    "               values('Raja', 23,'ML engineer')\n",
    "               ''')\n",
    "\n",
    "connection.commit()"
   ]
  },
  {
   "cell_type": "code",
   "execution_count": 7,
   "id": "75d580bc",
   "metadata": {},
   "outputs": [
    {
     "data": {
      "text/plain": [
       "<sqlite3.Cursor at 0x23e67c564c0>"
      ]
     },
     "execution_count": 7,
     "metadata": {},
     "output_type": "execute_result"
    }
   ],
   "source": [
    "cursor.execute('''\n",
    "               \n",
    "               select * from employees''')\n"
   ]
  },
  {
   "cell_type": "code",
   "execution_count": 8,
   "id": "5b0412e6",
   "metadata": {},
   "outputs": [
    {
     "name": "stdout",
     "output_type": "stream",
     "text": [
      "(1, 'Professor', 20, 'data scientist')\n",
      "(2, 'Raimal', 22, 'data analyst')\n",
      "(3, 'Raja', 23, 'ML engineer')\n"
     ]
    }
   ],
   "source": [
    "## Query  te data from the table\n",
    "cursor.execute('select * from employees')\n",
    "rows= cursor.fetchall()\n",
    "\n",
    "\n",
    "## print  the queried data\n",
    "for row in rows:\n",
    "    print(row)"
   ]
  },
  {
   "cell_type": "code",
   "execution_count": 9,
   "id": "878b89d3",
   "metadata": {},
   "outputs": [],
   "source": [
    "## updated  the data in the table\n",
    "cursor.execute('''\n",
    "               update employees\n",
    "               set age = 34\n",
    "               where name = 'Professor'\n",
    "               \n",
    "               \n",
    "               ''')\n",
    "\n",
    "connection.commit()"
   ]
  },
  {
   "cell_type": "code",
   "execution_count": 10,
   "id": "194acd77",
   "metadata": {},
   "outputs": [
    {
     "name": "stdout",
     "output_type": "stream",
     "text": [
      "(1, 'Professor', 34, 'data scientist')\n",
      "(2, 'Raimal', 22, 'data analyst')\n",
      "(3, 'Raja', 23, 'ML engineer')\n"
     ]
    }
   ],
   "source": [
    "cursor.execute('select * from employees')\n",
    "rows = cursor.fetchall()\n",
    "\n",
    "for row in rows:\n",
    "    print(row)"
   ]
  },
  {
   "cell_type": "code",
   "execution_count": 11,
   "id": "c8a9204c",
   "metadata": {},
   "outputs": [],
   "source": [
    "## Delete the data from table\n",
    "cursor.execute('''\n",
    "              \n",
    "              delete from employees\n",
    "              where name='Professor' \n",
    "               \n",
    "               \n",
    "               ''')\n",
    "\n",
    "connection.commit()"
   ]
  },
  {
   "cell_type": "code",
   "execution_count": 12,
   "id": "55220142",
   "metadata": {},
   "outputs": [
    {
     "name": "stdout",
     "output_type": "stream",
     "text": [
      "(2, 'Raimal', 22, 'data analyst')\n",
      "(3, 'Raja', 23, 'ML engineer')\n"
     ]
    }
   ],
   "source": [
    "cursor.execute('''select *  from employees''')\n",
    "rows = cursor.fetchall()\n",
    "\n",
    "\n",
    "for row in rows:\n",
    "    print(row)"
   ]
  }
 ],
 "metadata": {
  "kernelspec": {
   "display_name": ".venv",
   "language": "python",
   "name": "python3"
  },
  "language_info": {
   "codemirror_mode": {
    "name": "ipython",
    "version": 3
   },
   "file_extension": ".py",
   "mimetype": "text/x-python",
   "name": "python",
   "nbconvert_exporter": "python",
   "pygments_lexer": "ipython3",
   "version": "3.12.3"
  }
 },
 "nbformat": 4,
 "nbformat_minor": 5
}
