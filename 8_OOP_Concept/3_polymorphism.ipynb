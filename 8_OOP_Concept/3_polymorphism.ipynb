{
 "cells": [
  {
   "cell_type": "markdown",
   "id": "b6540961",
   "metadata": {},
   "source": [
    "### Polymorphism\n",
    "Polymorphism is a core concept in Object-Oriented programming (OOP) that allows objects of different classes to be treated as objects of a common superclass. It providing a way perform a single action in different forms.\n",
    "Polymorphism is typically achieved through method overriding and interfaces"
   ]
  },
  {
   "cell_type": "markdown",
   "id": "2fb1a90d",
   "metadata": {},
   "source": [
    "### Method Overriding\n",
    "Method  overriding allows a child class to providing, a specific implementation of a method that is already defined in it's parent class"
   ]
  },
  {
   "cell_type": "code",
   "execution_count": 5,
   "id": "c6bb1151",
   "metadata": {},
   "outputs": [
    {
     "name": "stdout",
     "output_type": "stream",
     "text": [
      "woof!\n",
      "meow!\n",
      "woof!\n"
     ]
    }
   ],
   "source": [
    "## Method Overrriding\n",
    "## Base Class\n",
    "class Animal:\n",
    "    def speak(self):\n",
    "        return 'sound of the animal'\n",
    "\n",
    "## Derived class 1\n",
    "class Dog(Animal):\n",
    "    def  speak(self):\n",
    "        return 'woof!'\n",
    " \n",
    "## Derived class  2   \n",
    "class Cat(Animal):\n",
    "    def speak(self):\n",
    "        return 'meow!'\n",
    "    \n",
    "## Derived class\n",
    "    \n",
    "    \n",
    "## Function that demonstrates polymorphism\n",
    "\n",
    "def animal_speak(animal):\n",
    "    print(animal.speak())\n",
    "     \n",
    "    \n",
    "dog = Dog()\n",
    "cat = Cat()\n",
    "print(dog.speak())\n",
    "print(cat.speak())\n",
    "animal_speak(dog)\n"
   ]
  },
  {
   "cell_type": "code",
   "execution_count": 9,
   "id": "6d949195",
   "metadata": {},
   "outputs": [
    {
     "name": "stdout",
     "output_type": "stream",
     "text": [
      "the are is 12\n",
      "the are is 28.259999999999998\n"
     ]
    }
   ],
   "source": [
    "## polymorphsim with function and Methods\n",
    "## Base class\n",
    "class Shape:\n",
    "    def area(self):\n",
    "        return 'The area of the figure'\n",
    "    \n",
    "## derived class 1\n",
    "class Rectangle(Shape):\n",
    "    def __init__(self, width, height):\n",
    "        self.width = width\n",
    "        self.height = height\n",
    "    \n",
    "    def area(self):\n",
    "        return self.width * self.height\n",
    "    \n",
    "    \n",
    "## Derived class 2\n",
    "class Circle(Shape):\n",
    "    def __init__(self, radius):\n",
    "        self.radius = radius\n",
    "    \n",
    "    def area(self):\n",
    "        return 3.14*self.radius *self.radius\n",
    "## Function that demonstrates Polymorphism\n",
    "\n",
    "def print_area(shape):\n",
    "    print(f\"the are is {shape.area()}\")\n",
    "    \n",
    "rectangle=Rectangle(3,4)\n",
    "circle = Circle(3)\n",
    "\n",
    "print_area(rectangle)\n",
    "print_area(circle)"
   ]
  },
  {
   "cell_type": "markdown",
   "id": "76fd6617",
   "metadata": {},
   "source": [
    "### Polymorphism with Abstract Base Class\n",
    "Abstract Base Classes (ABCs) are used to define common methods for a group of related objects. They can enforce that derived classes implement particular methods, promoting consitency across different implementations"
   ]
  },
  {
   "cell_type": "code",
   "execution_count": 14,
   "id": "ec311b29",
   "metadata": {},
   "outputs": [
    {
     "name": "stdout",
     "output_type": "stream",
     "text": [
      "Car engine started\n"
     ]
    }
   ],
   "source": [
    "## Polymorphism with Abstract base class\n",
    "from abc import ABC, abstractmethod\n",
    "## define an abstract class\n",
    "class Vehicle(ABC):\n",
    "    @abstractmethod\n",
    "    def start_engine(self):\n",
    "        pass\n",
    "\n",
    "## Derived class 1\n",
    "class Car(Vehicle):\n",
    "    def start_engine(self):\n",
    "        return 'Car engine started'\n",
    "    \n",
    "## Dervied class 1\n",
    "class Motorcycle(Vehicle):\n",
    "    def start_engine(self):\n",
    "        return \"Motorcyle engine started\"\n",
    "    \n",
    "    \n",
    "## Function that demonstrates polymorphism\n",
    "def start_vehicle(vehicle):\n",
    "    print(vehicle.start_engine())\n",
    "    \n",
    "## creat objects of car and motorcycle\n",
    "\n",
    "car = Car()\n",
    "motorcycle = Motorcycle()\n",
    "start_vehicle(car)\n"
   ]
  },
  {
   "cell_type": "code",
   "execution_count": null,
   "id": "6f4b29cd",
   "metadata": {},
   "outputs": [],
   "source": []
  }
 ],
 "metadata": {
  "kernelspec": {
   "display_name": ".venv",
   "language": "python",
   "name": "python3"
  },
  "language_info": {
   "codemirror_mode": {
    "name": "ipython",
    "version": 3
   },
   "file_extension": ".py",
   "mimetype": "text/x-python",
   "name": "python",
   "nbconvert_exporter": "python",
   "pygments_lexer": "ipython3",
   "version": "3.12.3"
  }
 },
 "nbformat": 4,
 "nbformat_minor": 5
}
