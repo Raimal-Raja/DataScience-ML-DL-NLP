{
 "cells": [
  {
   "cell_type": "markdown",
   "id": "7d1de48f",
   "metadata": {},
   "source": [
    "### Correlation and Covariance\n",
    "Covariance and correlation are two statistical measures used to determine the relationship between two variable. Both are used to understand how to changes in one variable are associated with changes in another variable."
   ]
  },
  {
   "cell_type": "markdown",
   "id": "0b3e9b3d",
   "metadata": {},
   "source": [
    "### Covariance\n",
    "Defination: Covaraiance is a measure of how two random variables change together. If the variables tend to increase and decrease together, the covariance is positive. If one tends to increase when the other decreases, the covariance is negative."
   ]
  }
 ],
 "metadata": {
  "language_info": {
   "name": "python"
  }
 },
 "nbformat": 4,
 "nbformat_minor": 5
}
