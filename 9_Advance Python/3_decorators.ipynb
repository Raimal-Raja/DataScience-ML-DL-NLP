{
 "cells": [
  {
   "cell_type": "markdown",
   "id": "14843d8c",
   "metadata": {},
   "source": [
    "### Decorators\n",
    "Decorators  are a powerfull and flexible feature in Python that allows you to modify the behavior of a function or class method. They are commonaly used to add functionality to functions or methods without modifying their actual code. This lesson covers the basics of decorators, including how to create and use them"
   ]
  },
  {
   "cell_type": "code",
   "execution_count": 37,
   "id": "3b68af15",
   "metadata": {},
   "outputs": [],
   "source": [
    "## function copy\n",
    "## closures\n",
    "## decorators"
   ]
  },
  {
   "cell_type": "code",
   "execution_count": 38,
   "id": "706d6bab",
   "metadata": {},
   "outputs": [
    {
     "data": {
      "text/plain": [
       "'Welcome to the welcome function'"
      ]
     },
     "execution_count": 38,
     "metadata": {},
     "output_type": "execute_result"
    }
   ],
   "source": [
    "## function copy\n",
    "def welcome():\n",
    "    return 'Welcome to the welcome function'\n",
    "\n",
    "welcome()"
   ]
  },
  {
   "cell_type": "code",
   "execution_count": 39,
   "id": "ad18464c",
   "metadata": {},
   "outputs": [
    {
     "data": {
      "text/plain": [
       "'Welcome to the welcome function'"
      ]
     },
     "execution_count": 39,
     "metadata": {},
     "output_type": "execute_result"
    }
   ],
   "source": [
    "wel = welcome()\n",
    "wel\n",
    "del welcome\n",
    "wel"
   ]
  },
  {
   "cell_type": "code",
   "execution_count": 40,
   "id": "24b3e72f",
   "metadata": {},
   "outputs": [],
   "source": [
    "## Closures\n",
    "def main_welcome():\n",
    "    msg = \"Welcome\"\n",
    "    def sub_welcome_method():\n",
    "        print(\"Welcome to sub-welcome method\")\n",
    "        \n",
    "        print('Please learn these concept properly')\n",
    "        \n",
    "    return sub_welcome_method()"
   ]
  },
  {
   "cell_type": "code",
   "execution_count": 41,
   "id": "2c2aff05",
   "metadata": {},
   "outputs": [
    {
     "name": "stdout",
     "output_type": "stream",
     "text": [
      "Welcome to sub-welcome method\n",
      "Please learn these concept properly\n"
     ]
    }
   ],
   "source": [
    "main_welcome()"
   ]
  },
  {
   "cell_type": "code",
   "execution_count": 42,
   "id": "e1b650cd",
   "metadata": {},
   "outputs": [],
   "source": [
    "def main_welcome(func):\n",
    "    msg = \"Welcome\"\n",
    "    def sub_welcome_method():\n",
    "        print(\"Welcome to sub-welcome method\")\n",
    "        \n",
    "        func()\n",
    "        print('Please learn these concept properly')\n",
    "        \n",
    "    return sub_welcome_method()"
   ]
  },
  {
   "cell_type": "code",
   "execution_count": 43,
   "id": "ebe5f400",
   "metadata": {},
   "outputs": [
    {
     "name": "stdout",
     "output_type": "stream",
     "text": [
      "Welcome to sub-welcome method\n",
      "\n",
      "Please learn these concept properly\n"
     ]
    }
   ],
   "source": [
    "main_welcome(print)"
   ]
  },
  {
   "cell_type": "code",
   "execution_count": 44,
   "id": "dd3a5df5",
   "metadata": {},
   "outputs": [],
   "source": [
    "def main_welcome(func, lst):\n",
    "    msg = \"Welcome\"\n",
    "    def sub_welcome_method():\n",
    "        print(\"Welcome to sub-welcome method\")\n",
    "        \n",
    "        print(func(lst))\n",
    "        print('Please learn these concept properly')\n",
    "        \n",
    "    return sub_welcome_method()"
   ]
  },
  {
   "cell_type": "code",
   "execution_count": 50,
   "id": "65c213ee",
   "metadata": {},
   "outputs": [
    {
     "name": "stdout",
     "output_type": "stream",
     "text": [
      "Welcome to sub-welcome method\n",
      "5\n",
      "Please learn these concept properly\n"
     ]
    }
   ],
   "source": [
    "main_welcome(len, [1,2,3,4,4])"
   ]
  },
  {
   "cell_type": "code",
   "execution_count": 54,
   "id": "6fe4f580",
   "metadata": {},
   "outputs": [],
   "source": [
    "## Decorator manually\n",
    "def main_welcome2(func):\n",
    "    print(\"Hello\")\n",
    "    print(func())\n",
    "    print(\"Raimal Raja\")\n"
   ]
  },
  {
   "cell_type": "code",
   "execution_count": 55,
   "id": "cf902788",
   "metadata": {},
   "outputs": [
    {
     "data": {
      "text/plain": [
       "'Professor'"
      ]
     },
     "execution_count": 55,
     "metadata": {},
     "output_type": "execute_result"
    }
   ],
   "source": [
    "def sub_function():\n",
    "    return 'Professor'\n",
    "\n",
    "sub_function()"
   ]
  },
  {
   "cell_type": "code",
   "execution_count": 56,
   "id": "d1649ebe",
   "metadata": {},
   "outputs": [
    {
     "name": "stdout",
     "output_type": "stream",
     "text": [
      "Hello\n",
      "Professor\n",
      "Raimal Raja\n"
     ]
    }
   ],
   "source": [
    "main_welcome2(sub_function)"
   ]
  },
  {
   "cell_type": "code",
   "execution_count": 59,
   "id": "778791c9",
   "metadata": {},
   "outputs": [],
   "source": [
    "def separate(func):\n",
    "    print(\"Hello Professor\")\n",
    "    func()"
   ]
  },
  {
   "cell_type": "markdown",
   "id": "b67f5eef",
   "metadata": {},
   "source": [
    "### DECORATOR"
   ]
  },
  {
   "cell_type": "code",
   "execution_count": 60,
   "id": "d6bc5c82",
   "metadata": {},
   "outputs": [
    {
     "name": "stdout",
     "output_type": "stream",
     "text": [
      "Hello Professor\n",
      "Another time Hello\n"
     ]
    }
   ],
   "source": [
    "## Without calling main function display the messages\n",
    "@separate\n",
    "def sub_func():\n",
    "    print(\"Another time Hello\")"
   ]
  },
  {
   "cell_type": "code",
   "execution_count": 61,
   "id": "9fa54072",
   "metadata": {},
   "outputs": [],
   "source": [
    "def my_decorator(func):\n",
    "    def wrapper():\n",
    "        print(\"Something is happening before the function is called\")\n",
    "        func()\n",
    "        print(\"something is happening after the function call\")\n",
    "        \n",
    "    return wrapper"
   ]
  },
  {
   "cell_type": "code",
   "execution_count": 62,
   "id": "11aed42b",
   "metadata": {},
   "outputs": [],
   "source": [
    "@my_decorator\n",
    "def say_hello():\n",
    "    print(\"Hello\")"
   ]
  },
  {
   "cell_type": "code",
   "execution_count": 63,
   "id": "30cd5b7b",
   "metadata": {},
   "outputs": [
    {
     "name": "stdout",
     "output_type": "stream",
     "text": [
      "Something is happening before the function is called\n",
      "Hello\n",
      "something is happening after the function call\n"
     ]
    }
   ],
   "source": [
    "say_hello()"
   ]
  },
  {
   "cell_type": "code",
   "execution_count": 64,
   "id": "49f9c81a",
   "metadata": {},
   "outputs": [],
   "source": [
    "## Decorators with arguments\n",
    "def repeat(n):\n",
    "    def decorator(func):\n",
    "        def wrapper(*args, **kwargs):\n",
    "            for _ in range(n):\n",
    "                func(*args, **kwargs)\n",
    "        return wrapper\n",
    "    return decorator\n"
   ]
  },
  {
   "cell_type": "code",
   "execution_count": 65,
   "id": "a3b5cd35",
   "metadata": {},
   "outputs": [],
   "source": [
    "@repeat(3)\n",
    "def say_hello():\n",
    "    print(\"say_hello\")"
   ]
  },
  {
   "cell_type": "code",
   "execution_count": 67,
   "id": "22701210",
   "metadata": {},
   "outputs": [
    {
     "name": "stdout",
     "output_type": "stream",
     "text": [
      "say_hello\n",
      "say_hello\n",
      "say_hello\n"
     ]
    }
   ],
   "source": [
    "say_hello()"
   ]
  },
  {
   "cell_type": "code",
   "execution_count": null,
   "id": "3cf1c206",
   "metadata": {},
   "outputs": [],
   "source": []
  }
 ],
 "metadata": {
  "kernelspec": {
   "display_name": ".venv",
   "language": "python",
   "name": "python3"
  },
  "language_info": {
   "codemirror_mode": {
    "name": "ipython",
    "version": 3
   },
   "file_extension": ".py",
   "mimetype": "text/x-python",
   "name": "python",
   "nbconvert_exporter": "python",
   "pygments_lexer": "ipython3",
   "version": "3.12.3"
  }
 },
 "nbformat": 4,
 "nbformat_minor": 5
}
