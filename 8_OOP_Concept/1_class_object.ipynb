{
 "cells": [
  {
   "cell_type": "markdown",
   "id": "95b38720",
   "metadata": {},
   "source": [
    "### Classes and Objects\n",
    "Object-Oriented Programming (OOP) is programming paradigm that uses \"objects\" to design applications and computer programs. OOP allows for modeling, real-world scenarios using classes and objects. This lesson covers the basics of creating classes and objects, including  instance variable and methods"
   ]
  },
  {
   "cell_type": "code",
   "execution_count": 3,
   "id": "a07b4aff",
   "metadata": {},
   "outputs": [
    {
     "name": "stdout",
     "output_type": "stream",
     "text": [
      "<class '__main__.Car'>\n",
      "<__main__.Car object at 0x000001A08969FAD0>\n"
     ]
    }
   ],
   "source": [
    "## a class is a blue print for creating objects. attributes, methods\n",
    "\n",
    "class Car:\n",
    "    pass \n",
    "\n",
    "audi = Car()\n",
    "bmw  = Car()\n",
    "\n",
    "print(type(audi))\n",
    "print(audi)\n"
   ]
  },
  {
   "cell_type": "code",
   "execution_count": 5,
   "id": "ee402274",
   "metadata": {},
   "outputs": [
    {
     "name": "stdout",
     "output_type": "stream",
     "text": [
      "4\n"
     ]
    }
   ],
   "source": [
    "## Instance variable and methods\n",
    "audi.windows = 4\n",
    "print(audi.windows)"
   ]
  },
  {
   "cell_type": "code",
   "execution_count": 9,
   "id": "debffd94",
   "metadata": {},
   "outputs": [
    {
     "name": "stdout",
     "output_type": "stream",
     "text": [
      "<__main__.Car object at 0x000001A08969F950>\n"
     ]
    },
    {
     "data": {
      "text/plain": [
       "['__class__',\n",
       " '__delattr__',\n",
       " '__dict__',\n",
       " '__dir__',\n",
       " '__doc__',\n",
       " '__eq__',\n",
       " '__format__',\n",
       " '__ge__',\n",
       " '__getattribute__',\n",
       " '__getstate__',\n",
       " '__gt__',\n",
       " '__hash__',\n",
       " '__init__',\n",
       " '__init_subclass__',\n",
       " '__le__',\n",
       " '__lt__',\n",
       " '__module__',\n",
       " '__ne__',\n",
       " '__new__',\n",
       " '__reduce__',\n",
       " '__reduce_ex__',\n",
       " '__repr__',\n",
       " '__setattr__',\n",
       " '__sizeof__',\n",
       " '__str__',\n",
       " '__subclasshook__',\n",
       " '__weakref__',\n",
       " 'door']"
      ]
     },
     "execution_count": 9,
     "metadata": {},
     "output_type": "execute_result"
    }
   ],
   "source": [
    "tata = Car()\n",
    "tata.door = 4\n",
    "print(tata)\n",
    "dir(tata)"
   ]
  },
  {
   "cell_type": "code",
   "execution_count": 11,
   "id": "25b11f52",
   "metadata": {},
   "outputs": [
    {
     "name": "stdout",
     "output_type": "stream",
     "text": [
      "<__main__.Dog object at 0x000001A089618920>\n",
      "Buddy\n",
      "3\n"
     ]
    }
   ],
   "source": [
    "class Dog:\n",
    "    # constructor\n",
    "    def __init__(self, name, age):\n",
    "        self.name =  name\n",
    "        self.age = age\n",
    "    \n",
    "## create objects\n",
    "dog1 = Dog('Buddy', 3)\n",
    "print(dog1)\n",
    "print(dog1.name)\n",
    "print(dog1.age)"
   ]
  },
  {
   "cell_type": "code",
   "execution_count": 14,
   "id": "a1365394",
   "metadata": {},
   "outputs": [
    {
     "name": "stdout",
     "output_type": "stream",
     "text": [
      "buddy, says woof\n",
      "lucy, says woof\n"
     ]
    }
   ],
   "source": [
    "## define a class with instance methods\n",
    "class Dog:\n",
    "    def __init__(self, name, age):\n",
    "        self.name = name\n",
    "        self.age = age\n",
    "        \n",
    "    def bark(self):\n",
    "        print(f\"{self.name}, says woof\")\n",
    "        \n",
    "dog1 =  Dog(\"buddy\", 3)\n",
    "dog1.bark()\n",
    "dog2 = Dog('lucy', 3)\n",
    "dog2.bark()"
   ]
  },
  {
   "cell_type": "code",
   "execution_count": 18,
   "id": "c6ccfa8b",
   "metadata": {},
   "outputs": [
    {
     "name": "stdout",
     "output_type": "stream",
     "text": [
      "30000\n"
     ]
    }
   ],
   "source": [
    "## Modeling a bank account\n",
    "\n",
    "## Define a class for banl account\n",
    "\n",
    "class BankAccount:\n",
    "    def __init__(self, owner, balance = 0):\n",
    "        self.owner = owner\n",
    "        self.balance = balance\n",
    "    \n",
    "    def deposit(self, amount):\n",
    "        self.balance += amount\n",
    "        print(f\"{amount} is deposited. New  balance is {self.balance}\")\n",
    "    \n",
    "    def withdraw(self, amount):\n",
    "        if amount> self.balance:\n",
    "            print(\"Insufficient funds!\")\n",
    "            \n",
    "        else:\n",
    "            self.balance -= amount \n",
    "            print(f\"{amount} is withdrawn. New Balance is {self.balance}\")\n",
    "    \n",
    "    def get_balance(self): \n",
    "        return self.balance\n",
    "\n",
    "## create an account\n",
    "\n",
    "account = BankAccount('Raimal', 30000)\n",
    "print(account.balance)\n",
    " "
   ]
  },
  {
   "cell_type": "code",
   "execution_count": 19,
   "id": "49c89cdc",
   "metadata": {},
   "outputs": [
    {
     "name": "stdout",
     "output_type": "stream",
     "text": [
      "100 is deposited. New  balance is 30100\n"
     ]
    }
   ],
   "source": [
    "## Call instance methos\n",
    "account.deposit(100)\n"
   ]
  },
  {
   "cell_type": "code",
   "execution_count": 20,
   "id": "db7720af",
   "metadata": {},
   "outputs": [
    {
     "name": "stdout",
     "output_type": "stream",
     "text": [
      "200 is withdrawn. New Balance is 29900\n"
     ]
    }
   ],
   "source": [
    "account.withdraw(200)"
   ]
  },
  {
   "cell_type": "code",
   "execution_count": 21,
   "id": "f59b5094",
   "metadata": {},
   "outputs": [
    {
     "name": "stdout",
     "output_type": "stream",
     "text": [
      "29900\n"
     ]
    }
   ],
   "source": [
    "print(account.get_balance())"
   ]
  },
  {
   "cell_type": "code",
   "execution_count": null,
   "id": "cb2bc57f",
   "metadata": {},
   "outputs": [],
   "source": []
  }
 ],
 "metadata": {
  "kernelspec": {
   "display_name": ".venv",
   "language": "python",
   "name": "python3"
  },
  "language_info": {
   "codemirror_mode": {
    "name": "ipython",
    "version": 3
   },
   "file_extension": ".py",
   "mimetype": "text/x-python",
   "name": "python",
   "nbconvert_exporter": "python",
   "pygments_lexer": "ipython3",
   "version": "3.12.3"
  }
 },
 "nbformat": 4,
 "nbformat_minor": 5
}
