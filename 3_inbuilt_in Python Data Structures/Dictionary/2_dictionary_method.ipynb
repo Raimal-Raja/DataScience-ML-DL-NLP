{
 "cells": [
  {
   "cell_type": "code",
   "execution_count": 1,
   "id": "52a76645",
   "metadata": {},
   "outputs": [],
   "source": [
    "student =  {\n",
    "    \n",
    "    'first_name': 'Raimal',\n",
    "    'last_name': 'Raja',\n",
    "    'age': 20,\n",
    "    'year': '3rd',\n",
    "    'roll': 49,\n",
    "    'address': 'Badin'\n",
    "    \n",
    "}"
   ]
  },
  {
   "cell_type": "code",
   "execution_count": null,
   "id": "09589a86",
   "metadata": {},
   "outputs": [
    {
     "name": "stdout",
     "output_type": "stream",
     "text": [
      "dict_keys(['first_name', 'last_name', 'age', 'year', 'roll', 'address'])\n"
     ]
    }
   ],
   "source": [
    "# .keys() > this will return all keys\n",
    "\n",
    "keys = student.keys()\n",
    "print(keys)"
   ]
  },
  {
   "cell_type": "code",
   "execution_count": null,
   "id": "a18bed0e",
   "metadata": {},
   "outputs": [
    {
     "name": "stdout",
     "output_type": "stream",
     "text": [
      "dict_values(['Raimal', 'Raja', 20, '3rd', 49, 'Badin'])\n"
     ]
    }
   ],
   "source": [
    "# values() > this will return all the values\n",
    "\n",
    "values = student.values()\n",
    "print(values)"
   ]
  },
  {
   "cell_type": "code",
   "execution_count": null,
   "id": "a9f68cff",
   "metadata": {},
   "outputs": [
    {
     "name": "stdout",
     "output_type": "stream",
     "text": [
      "dict_items([('first_name', 'Raimal'), ('last_name', 'Raja'), ('age', 20), ('year', '3rd'), ('roll', 49), ('address', 'Badin')])\n"
     ]
    }
   ],
   "source": [
    "# .items() this will return all the key value pairs, a list of tuples\n",
    "items = student.items()\n",
    "print(items)"
   ]
  },
  {
   "cell_type": "code",
   "execution_count": 7,
   "id": "6c44f225",
   "metadata": {},
   "outputs": [
    {
     "name": "stdout",
     "output_type": "stream",
     "text": [
      "{'first_name': 'Raimal', 'last_name': 'Raja', 'age': 20, 'year': '3rd', 'roll': 49, 'address': 'Badin'}\n",
      "{'first_name': 'Raimal', 'last_name': 'Raja', 'age': 20, 'year': '3rd', 'roll': 49, 'address': 'Badin'}\n"
     ]
    }
   ],
   "source": [
    "## shallow copy .copy()\n",
    "\n",
    "student_copy = student\n",
    "print(student_copy)\n",
    "print(student)"
   ]
  },
  {
   "cell_type": "code",
   "execution_count": 8,
   "id": "8d60b1f2",
   "metadata": {},
   "outputs": [],
   "source": [
    "student['name'] = \"Professor\""
   ]
  },
  {
   "cell_type": "code",
   "execution_count": 9,
   "id": "b4ef6d71",
   "metadata": {},
   "outputs": [
    {
     "name": "stdout",
     "output_type": "stream",
     "text": [
      "{'first_name': 'Raimal', 'last_name': 'Raja', 'age': 20, 'year': '3rd', 'roll': 49, 'address': 'Badin', 'name': 'Professor'}\n"
     ]
    }
   ],
   "source": [
    "print(student_copy)"
   ]
  },
  {
   "cell_type": "code",
   "execution_count": 10,
   "id": "540f5031",
   "metadata": {},
   "outputs": [],
   "source": [
    "#  .copy()\n",
    "student_copy1 = student_copy.copy()"
   ]
  },
  {
   "cell_type": "code",
   "execution_count": 11,
   "id": "ca134c1e",
   "metadata": {},
   "outputs": [
    {
     "data": {
      "text/plain": [
       "{'first_name': 'Raimal',\n",
       " 'last_name': 'Raja',\n",
       " 'age': 20,\n",
       " 'year': '3rd',\n",
       " 'roll': 49,\n",
       " 'address': 'Badin',\n",
       " 'name': 'Professor'}"
      ]
     },
     "execution_count": 11,
     "metadata": {},
     "output_type": "execute_result"
    }
   ],
   "source": [
    "student_copy1\n"
   ]
  },
  {
   "cell_type": "code",
   "execution_count": null,
   "id": "ddaecd11",
   "metadata": {},
   "outputs": [],
   "source": []
  }
 ],
 "metadata": {
  "kernelspec": {
   "display_name": ".venv",
   "language": "python",
   "name": "python3"
  },
  "language_info": {
   "codemirror_mode": {
    "name": "ipython",
    "version": 3
   },
   "file_extension": ".py",
   "mimetype": "text/x-python",
   "name": "python",
   "nbconvert_exporter": "python",
   "pygments_lexer": "ipython3",
   "version": "3.12.3"
  }
 },
 "nbformat": 4,
 "nbformat_minor": 5
}
