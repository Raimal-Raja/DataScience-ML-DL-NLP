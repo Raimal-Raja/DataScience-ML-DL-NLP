{
 "cells": [
  {
   "cell_type": "markdown",
   "id": "e3b756a1",
   "metadata": {},
   "source": [
    "### Example 1: Temperature conversion"
   ]
  },
  {
   "cell_type": "code",
   "execution_count": 4,
   "id": "ea12da0b",
   "metadata": {},
   "outputs": [
    {
     "name": "stdout",
     "output_type": "stream",
     "text": [
      "100.4\n",
      "36.666666666666664\n"
     ]
    }
   ],
   "source": [
    "def convert_temperature(temp, unit):\n",
    "    \"\"\"This function will converts temperature between Celcuis and Fehrenheit\"\"\"\n",
    "    if unit == \"c\":\n",
    "        return temp * 9/5 + 32 # Celsius to fehrenheit\n",
    "    \n",
    "    elif unit =='f':\n",
    "        return( temp-32)*5/9 # Fehrenheit to celsuis\n",
    "    else:\n",
    "        return None\n",
    "\n",
    "print(convert_temperature(38,'c'))\n",
    "print(convert_temperature(98,'f'))"
   ]
  },
  {
   "cell_type": "markdown",
   "id": "4f8c3665",
   "metadata": {},
   "source": [
    "## Example 2: Password strength checker"
   ]
  },
  {
   "cell_type": "code",
   "execution_count": 9,
   "id": "b075146c",
   "metadata": {},
   "outputs": [
    {
     "data": {
      "text/plain": [
       "True"
      ]
     },
     "execution_count": 9,
     "metadata": {},
     "output_type": "execute_result"
    }
   ],
   "source": [
    "def is_strong_password(password):\n",
    "    \"\"\"this function will check whether password is strong or not\"\"\"\n",
    "    \n",
    "    if len(password)<8:\n",
    "        return False\n",
    "    if not any(char.isdigit() for char in password):\n",
    "        return False\n",
    "    if not any(char.islower() for char in password):\n",
    "        return False\n",
    "    if not any(char.isupper() for char in password):\n",
    "        return False\n",
    "    if not any(char in \"!@#$%&*()+\" for char in password):\n",
    "        return False\n",
    "    return True\n",
    "\n",
    "## call function\n",
    "is_strong_password('Professor@123')"
   ]
  },
  {
   "cell_type": "code",
   "execution_count": null,
   "id": "98127cac",
   "metadata": {},
   "outputs": [],
   "source": []
  }
 ],
 "metadata": {
  "kernelspec": {
   "display_name": ".venv",
   "language": "python",
   "name": "python3"
  },
  "language_info": {
   "codemirror_mode": {
    "name": "ipython",
    "version": 3
   },
   "file_extension": ".py",
   "mimetype": "text/x-python",
   "name": "python",
   "nbconvert_exporter": "python",
   "pygments_lexer": "ipython3",
   "version": "3.12.3"
  }
 },
 "nbformat": 4,
 "nbformat_minor": 5
}
